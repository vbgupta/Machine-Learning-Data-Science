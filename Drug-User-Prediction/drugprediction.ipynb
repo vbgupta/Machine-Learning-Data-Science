{
 "metadata": {
  "language_info": {
   "codemirror_mode": {
    "name": "ipython",
    "version": 3
   },
   "file_extension": ".py",
   "mimetype": "text/x-python",
   "name": "python",
   "nbconvert_exporter": "python",
   "pygments_lexer": "ipython3",
   "version": "3.8.5"
  },
  "orig_nbformat": 2,
  "kernelspec": {
   "name": "python3",
   "display_name": "Python 3",
   "language": "python"
  }
 },
 "nbformat": 4,
 "nbformat_minor": 2,
 "cells": [
  {
   "source": [
    "# Drug User Prediction"
   ],
   "cell_type": "markdown",
   "metadata": {}
  },
  {
   "source": [
    "## Importing Libraries"
   ],
   "cell_type": "markdown",
   "metadata": {}
  },
  {
   "cell_type": "code",
   "execution_count": 110,
   "metadata": {},
   "outputs": [],
   "source": [
    "import pandas as pd\n",
    "import numpy as np \n",
    "import matplotlib.pyplot as plt \n",
    "from sklearn.preprocessing import LabelEncoder\n",
    "from sklearn.model_selection import train_test_split\n",
    "from sklearn.metrics import classification_report, confusion_matrix\n",
    "from sklearn.linear_model import LogisticRegression\n",
    "from sklearn.ensemble import RandomForestClassifier\n",
    "from sklearn.tree import DecisionTreeClassifier\n",
    "from sklearn.tree import ExtraTreeClassifier\n",
    "from sklearn.ensemble import ExtraTreesClassifier\n",
    "from sklearn.neighbors import KNeighborsClassifier\n",
    "from sklearn.neural_network import MLPClassifier\n",
    "from sklearn.linear_model import RidgeClassifierCV\n",
    "from sklearn.svm import SVC\n",
    "from sklearn.preprocessing import label_binarize\n",
    "from sklearn.multiclass import OneVsRestClassifier\n",
    "from sklearn.cluster import KMeans\n",
    "from sklearn.multioutput import MultiOutputClassifier\n",
    "from sklearn.impute import SimpleImputer\n",
    "from sklearn.metrics import roc_curve, auc\n",
    "from sklearn.model_selection import GridSearchCV, RandomizedSearchCV\n",
    "from sklearn.metrics import roc_auc_score, plot_roc_curve\n",
    "from sklearn.preprocessing import LabelBinarizer\n",
    "from sklearn.metrics import plot_confusion_matrix"
   ]
  },
  {
   "source": [
    "## Looking at the Data"
   ],
   "cell_type": "markdown",
   "metadata": {}
  },
  {
   "cell_type": "code",
   "execution_count": 111,
   "metadata": {},
   "outputs": [
    {
     "output_type": "execute_result",
     "data": {
      "text/plain": [
       "    pid  screen1_sleep screen1_sleep_18_text  screen_voucher  screen2_long  \\\n",
       "0  1004             15                     .             NaN           NaN   \n",
       "1  1004             15                     .             NaN           NaN   \n",
       "2  1004             15                     .             NaN           NaN   \n",
       "3  1004             15                     .             NaN           NaN   \n",
       "4  1004             15                     .             NaN           NaN   \n",
       "\n",
       "   screen3_age realm_score  consent  consent_agree   pid_20  ...  \\\n",
       "0         24.0           7      1.0            2.0  7/21/16  ...   \n",
       "1         24.0           7      1.0            2.0  7/21/16  ...   \n",
       "2         24.0           7      1.0            2.0  7/21/16  ...   \n",
       "3         24.0           7      1.0            2.0  7/21/16  ...   \n",
       "4         24.0           7      1.0            2.0  7/21/16  ...   \n",
       "\n",
       "  new_helpseek_scale_1 new_helpseek_scale_2  new_helpseek_scale_3  \\\n",
       "0                  2.0                  2.0                   2.0   \n",
       "1                  2.0                  2.0                   2.0   \n",
       "2                  2.0                  2.0                   2.0   \n",
       "3                  2.0                  2.0                   2.0   \n",
       "4                  2.0                  2.0                   2.0   \n",
       "\n",
       "   new_helpseek_scale_4 new_helpseek_scale_5  new_helpseek_scale_6  \\\n",
       "0                   2.0                  3.0                   1.0   \n",
       "1                   2.0                  3.0                   1.0   \n",
       "2                   2.0                  3.0                   1.0   \n",
       "3                   2.0                  3.0                   1.0   \n",
       "4                   2.0                  3.0                   1.0   \n",
       "\n",
       "   new_helpseek_scale_7  new_helpseek_scale_8  sum_helpseek_scale  \\\n",
       "0                   3.0                   2.0                17.0   \n",
       "1                   3.0                   2.0                17.0   \n",
       "2                   3.0                   2.0                17.0   \n",
       "3                   3.0                   2.0                17.0   \n",
       "4                   3.0                   2.0                17.0   \n",
       "\n",
       "   erorhosp_ever  \n",
       "0            0.0  \n",
       "1            0.0  \n",
       "2            0.0  \n",
       "3            0.0  \n",
       "4            0.0  \n",
       "\n",
       "[5 rows x 1210 columns]"
      ],
      "text/html": "<div>\n<style scoped>\n    .dataframe tbody tr th:only-of-type {\n        vertical-align: middle;\n    }\n\n    .dataframe tbody tr th {\n        vertical-align: top;\n    }\n\n    .dataframe thead th {\n        text-align: right;\n    }\n</style>\n<table border=\"1\" class=\"dataframe\">\n  <thead>\n    <tr style=\"text-align: right;\">\n      <th></th>\n      <th>pid</th>\n      <th>screen1_sleep</th>\n      <th>screen1_sleep_18_text</th>\n      <th>screen_voucher</th>\n      <th>screen2_long</th>\n      <th>screen3_age</th>\n      <th>realm_score</th>\n      <th>consent</th>\n      <th>consent_agree</th>\n      <th>pid_20</th>\n      <th>...</th>\n      <th>new_helpseek_scale_1</th>\n      <th>new_helpseek_scale_2</th>\n      <th>new_helpseek_scale_3</th>\n      <th>new_helpseek_scale_4</th>\n      <th>new_helpseek_scale_5</th>\n      <th>new_helpseek_scale_6</th>\n      <th>new_helpseek_scale_7</th>\n      <th>new_helpseek_scale_8</th>\n      <th>sum_helpseek_scale</th>\n      <th>erorhosp_ever</th>\n    </tr>\n  </thead>\n  <tbody>\n    <tr>\n      <th>0</th>\n      <td>1004</td>\n      <td>15</td>\n      <td>.</td>\n      <td>NaN</td>\n      <td>NaN</td>\n      <td>24.0</td>\n      <td>7</td>\n      <td>1.0</td>\n      <td>2.0</td>\n      <td>7/21/16</td>\n      <td>...</td>\n      <td>2.0</td>\n      <td>2.0</td>\n      <td>2.0</td>\n      <td>2.0</td>\n      <td>3.0</td>\n      <td>1.0</td>\n      <td>3.0</td>\n      <td>2.0</td>\n      <td>17.0</td>\n      <td>0.0</td>\n    </tr>\n    <tr>\n      <th>1</th>\n      <td>1004</td>\n      <td>15</td>\n      <td>.</td>\n      <td>NaN</td>\n      <td>NaN</td>\n      <td>24.0</td>\n      <td>7</td>\n      <td>1.0</td>\n      <td>2.0</td>\n      <td>7/21/16</td>\n      <td>...</td>\n      <td>2.0</td>\n      <td>2.0</td>\n      <td>2.0</td>\n      <td>2.0</td>\n      <td>3.0</td>\n      <td>1.0</td>\n      <td>3.0</td>\n      <td>2.0</td>\n      <td>17.0</td>\n      <td>0.0</td>\n    </tr>\n    <tr>\n      <th>2</th>\n      <td>1004</td>\n      <td>15</td>\n      <td>.</td>\n      <td>NaN</td>\n      <td>NaN</td>\n      <td>24.0</td>\n      <td>7</td>\n      <td>1.0</td>\n      <td>2.0</td>\n      <td>7/21/16</td>\n      <td>...</td>\n      <td>2.0</td>\n      <td>2.0</td>\n      <td>2.0</td>\n      <td>2.0</td>\n      <td>3.0</td>\n      <td>1.0</td>\n      <td>3.0</td>\n      <td>2.0</td>\n      <td>17.0</td>\n      <td>0.0</td>\n    </tr>\n    <tr>\n      <th>3</th>\n      <td>1004</td>\n      <td>15</td>\n      <td>.</td>\n      <td>NaN</td>\n      <td>NaN</td>\n      <td>24.0</td>\n      <td>7</td>\n      <td>1.0</td>\n      <td>2.0</td>\n      <td>7/21/16</td>\n      <td>...</td>\n      <td>2.0</td>\n      <td>2.0</td>\n      <td>2.0</td>\n      <td>2.0</td>\n      <td>3.0</td>\n      <td>1.0</td>\n      <td>3.0</td>\n      <td>2.0</td>\n      <td>17.0</td>\n      <td>0.0</td>\n    </tr>\n    <tr>\n      <th>4</th>\n      <td>1004</td>\n      <td>15</td>\n      <td>.</td>\n      <td>NaN</td>\n      <td>NaN</td>\n      <td>24.0</td>\n      <td>7</td>\n      <td>1.0</td>\n      <td>2.0</td>\n      <td>7/21/16</td>\n      <td>...</td>\n      <td>2.0</td>\n      <td>2.0</td>\n      <td>2.0</td>\n      <td>2.0</td>\n      <td>3.0</td>\n      <td>1.0</td>\n      <td>3.0</td>\n      <td>2.0</td>\n      <td>17.0</td>\n      <td>0.0</td>\n    </tr>\n  </tbody>\n</table>\n<p>5 rows × 1210 columns</p>\n</div>"
     },
     "metadata": {},
     "execution_count": 111
    }
   ],
   "source": [
    "data = pd.read_excel('/home/vbgupta/Desktop/School/ds310/inclass2/Drug-User-Prediction/Data.xlsx')\n",
    "data.head()"
   ]
  },
  {
   "source": [
    "## Preprocessing"
   ],
   "cell_type": "markdown",
   "metadata": {}
  },
  {
   "cell_type": "code",
   "execution_count": 112,
   "metadata": {},
   "outputs": [
    {
     "output_type": "execute_result",
     "data": {
      "text/plain": [
       "    pid  screen1_sleep  screen3_age realm_score   pid_20  pid_30 pid_5_text  \\\n",
       "0  1004             15         24.0           7  7/21/16  Andrea     D0112x   \n",
       "1  1004             15         24.0           7  7/21/16  Andrea     D0112x   \n",
       "2  1004             15         24.0           7  7/21/16  Andrea     D0112x   \n",
       "3  1004             15         24.0           7  7/21/16  Andrea     D0112x   \n",
       "4  1004             15         24.0           7  7/21/16  Andrea     D0112x   \n",
       "\n",
       "   city_in  citysite city_becamehomeless  ...  new_helpseek_scale_1  \\\n",
       "0      3.0         4        New York, NY  ...                   2.0   \n",
       "1      3.0         4        New York, NY  ...                   2.0   \n",
       "2      3.0         4        New York, NY  ...                   2.0   \n",
       "3      3.0         4        New York, NY  ...                   2.0   \n",
       "4      3.0         4        New York, NY  ...                   2.0   \n",
       "\n",
       "   new_helpseek_scale_2  new_helpseek_scale_3  new_helpseek_scale_4  \\\n",
       "0                   2.0                   2.0                   2.0   \n",
       "1                   2.0                   2.0                   2.0   \n",
       "2                   2.0                   2.0                   2.0   \n",
       "3                   2.0                   2.0                   2.0   \n",
       "4                   2.0                   2.0                   2.0   \n",
       "\n",
       "   new_helpseek_scale_5  new_helpseek_scale_6  new_helpseek_scale_7  \\\n",
       "0                   3.0                   1.0                   3.0   \n",
       "1                   3.0                   1.0                   3.0   \n",
       "2                   3.0                   1.0                   3.0   \n",
       "3                   3.0                   1.0                   3.0   \n",
       "4                   3.0                   1.0                   3.0   \n",
       "\n",
       "   new_helpseek_scale_8  sum_helpseek_scale  erorhosp_ever  \n",
       "0                   2.0                17.0            0.0  \n",
       "1                   2.0                17.0            0.0  \n",
       "2                   2.0                17.0            0.0  \n",
       "3                   2.0                17.0            0.0  \n",
       "4                   2.0                17.0            0.0  \n",
       "\n",
       "[5 rows x 742 columns]"
      ],
      "text/html": "<div>\n<style scoped>\n    .dataframe tbody tr th:only-of-type {\n        vertical-align: middle;\n    }\n\n    .dataframe tbody tr th {\n        vertical-align: top;\n    }\n\n    .dataframe thead th {\n        text-align: right;\n    }\n</style>\n<table border=\"1\" class=\"dataframe\">\n  <thead>\n    <tr style=\"text-align: right;\">\n      <th></th>\n      <th>pid</th>\n      <th>screen1_sleep</th>\n      <th>screen3_age</th>\n      <th>realm_score</th>\n      <th>pid_20</th>\n      <th>pid_30</th>\n      <th>pid_5_text</th>\n      <th>city_in</th>\n      <th>citysite</th>\n      <th>city_becamehomeless</th>\n      <th>...</th>\n      <th>new_helpseek_scale_1</th>\n      <th>new_helpseek_scale_2</th>\n      <th>new_helpseek_scale_3</th>\n      <th>new_helpseek_scale_4</th>\n      <th>new_helpseek_scale_5</th>\n      <th>new_helpseek_scale_6</th>\n      <th>new_helpseek_scale_7</th>\n      <th>new_helpseek_scale_8</th>\n      <th>sum_helpseek_scale</th>\n      <th>erorhosp_ever</th>\n    </tr>\n  </thead>\n  <tbody>\n    <tr>\n      <th>0</th>\n      <td>1004</td>\n      <td>15</td>\n      <td>24.0</td>\n      <td>7</td>\n      <td>7/21/16</td>\n      <td>Andrea</td>\n      <td>D0112x</td>\n      <td>3.0</td>\n      <td>4</td>\n      <td>New York, NY</td>\n      <td>...</td>\n      <td>2.0</td>\n      <td>2.0</td>\n      <td>2.0</td>\n      <td>2.0</td>\n      <td>3.0</td>\n      <td>1.0</td>\n      <td>3.0</td>\n      <td>2.0</td>\n      <td>17.0</td>\n      <td>0.0</td>\n    </tr>\n    <tr>\n      <th>1</th>\n      <td>1004</td>\n      <td>15</td>\n      <td>24.0</td>\n      <td>7</td>\n      <td>7/21/16</td>\n      <td>Andrea</td>\n      <td>D0112x</td>\n      <td>3.0</td>\n      <td>4</td>\n      <td>New York, NY</td>\n      <td>...</td>\n      <td>2.0</td>\n      <td>2.0</td>\n      <td>2.0</td>\n      <td>2.0</td>\n      <td>3.0</td>\n      <td>1.0</td>\n      <td>3.0</td>\n      <td>2.0</td>\n      <td>17.0</td>\n      <td>0.0</td>\n    </tr>\n    <tr>\n      <th>2</th>\n      <td>1004</td>\n      <td>15</td>\n      <td>24.0</td>\n      <td>7</td>\n      <td>7/21/16</td>\n      <td>Andrea</td>\n      <td>D0112x</td>\n      <td>3.0</td>\n      <td>4</td>\n      <td>New York, NY</td>\n      <td>...</td>\n      <td>2.0</td>\n      <td>2.0</td>\n      <td>2.0</td>\n      <td>2.0</td>\n      <td>3.0</td>\n      <td>1.0</td>\n      <td>3.0</td>\n      <td>2.0</td>\n      <td>17.0</td>\n      <td>0.0</td>\n    </tr>\n    <tr>\n      <th>3</th>\n      <td>1004</td>\n      <td>15</td>\n      <td>24.0</td>\n      <td>7</td>\n      <td>7/21/16</td>\n      <td>Andrea</td>\n      <td>D0112x</td>\n      <td>3.0</td>\n      <td>4</td>\n      <td>New York, NY</td>\n      <td>...</td>\n      <td>2.0</td>\n      <td>2.0</td>\n      <td>2.0</td>\n      <td>2.0</td>\n      <td>3.0</td>\n      <td>1.0</td>\n      <td>3.0</td>\n      <td>2.0</td>\n      <td>17.0</td>\n      <td>0.0</td>\n    </tr>\n    <tr>\n      <th>4</th>\n      <td>1004</td>\n      <td>15</td>\n      <td>24.0</td>\n      <td>7</td>\n      <td>7/21/16</td>\n      <td>Andrea</td>\n      <td>D0112x</td>\n      <td>3.0</td>\n      <td>4</td>\n      <td>New York, NY</td>\n      <td>...</td>\n      <td>2.0</td>\n      <td>2.0</td>\n      <td>2.0</td>\n      <td>2.0</td>\n      <td>3.0</td>\n      <td>1.0</td>\n      <td>3.0</td>\n      <td>2.0</td>\n      <td>17.0</td>\n      <td>0.0</td>\n    </tr>\n  </tbody>\n</table>\n<p>5 rows × 742 columns</p>\n</div>"
     },
     "metadata": {},
     "execution_count": 112
    }
   ],
   "source": [
    "# Keeping columns with atleast 75% non-NA values\n",
    "data = data.dropna(thresh = data.shape[0]*0.75, how = 'all', axis = 1)\n",
    "data.head()"
   ]
  },
  {
   "cell_type": "code",
   "execution_count": 113,
   "metadata": {},
   "outputs": [
    {
     "output_type": "execute_result",
     "data": {
      "text/plain": [
       "     pid  screen1_sleep  screen3_age realm_score   pid_20  pid_30 pid_5_text  \\\n",
       "0   1004             15         24.0           7  7/21/16  Andrea     D0112x   \n",
       "5   1005             15         19.0           9  7/11/16  Andrea     M0105n   \n",
       "10  1006             15         22.0           9  7/11/16   Jonah     D0111N   \n",
       "15  1007             15         24.0           9  7/11/16  Andrea     G0409B   \n",
       "20  1008              8         19.0           7  7/13/16   Jonah     T0104D   \n",
       "\n",
       "    city_in  citysite city_becamehomeless  ...  new_helpseek_scale_1  \\\n",
       "0       3.0         4        New York, NY  ...                   2.0   \n",
       "5       3.0         4     New Orleans, LA  ...                   3.0   \n",
       "10      3.0         4           Denver,CO  ...                   3.0   \n",
       "15      3.0         4     New Orleans, LA  ...                   4.0   \n",
       "20      3.0         3          Denver, CO  ...                   1.0   \n",
       "\n",
       "    new_helpseek_scale_2  new_helpseek_scale_3  new_helpseek_scale_4  \\\n",
       "0                    2.0                   2.0                   2.0   \n",
       "5                    2.0                   2.0                   2.0   \n",
       "10                   3.0                   3.0                   3.0   \n",
       "15                   1.0                   1.0                   1.0   \n",
       "20                   1.0                   1.0                   1.0   \n",
       "\n",
       "    new_helpseek_scale_5  new_helpseek_scale_6  new_helpseek_scale_7  \\\n",
       "0                    3.0                   1.0                   3.0   \n",
       "5                    4.0                   1.0                   4.0   \n",
       "10                   3.0                   3.0                   3.0   \n",
       "15                   4.0                   1.0                   4.0   \n",
       "20                   1.0                   1.0                   1.0   \n",
       "\n",
       "    new_helpseek_scale_8  sum_helpseek_scale  erorhosp_ever  \n",
       "0                    2.0                17.0            0.0  \n",
       "5                    4.0                22.0            1.0  \n",
       "10                   3.0                24.0            1.0  \n",
       "15                   1.0                17.0            0.0  \n",
       "20                   1.0                 8.0            1.0  \n",
       "\n",
       "[5 rows x 742 columns]"
      ],
      "text/html": "<div>\n<style scoped>\n    .dataframe tbody tr th:only-of-type {\n        vertical-align: middle;\n    }\n\n    .dataframe tbody tr th {\n        vertical-align: top;\n    }\n\n    .dataframe thead th {\n        text-align: right;\n    }\n</style>\n<table border=\"1\" class=\"dataframe\">\n  <thead>\n    <tr style=\"text-align: right;\">\n      <th></th>\n      <th>pid</th>\n      <th>screen1_sleep</th>\n      <th>screen3_age</th>\n      <th>realm_score</th>\n      <th>pid_20</th>\n      <th>pid_30</th>\n      <th>pid_5_text</th>\n      <th>city_in</th>\n      <th>citysite</th>\n      <th>city_becamehomeless</th>\n      <th>...</th>\n      <th>new_helpseek_scale_1</th>\n      <th>new_helpseek_scale_2</th>\n      <th>new_helpseek_scale_3</th>\n      <th>new_helpseek_scale_4</th>\n      <th>new_helpseek_scale_5</th>\n      <th>new_helpseek_scale_6</th>\n      <th>new_helpseek_scale_7</th>\n      <th>new_helpseek_scale_8</th>\n      <th>sum_helpseek_scale</th>\n      <th>erorhosp_ever</th>\n    </tr>\n  </thead>\n  <tbody>\n    <tr>\n      <th>0</th>\n      <td>1004</td>\n      <td>15</td>\n      <td>24.0</td>\n      <td>7</td>\n      <td>7/21/16</td>\n      <td>Andrea</td>\n      <td>D0112x</td>\n      <td>3.0</td>\n      <td>4</td>\n      <td>New York, NY</td>\n      <td>...</td>\n      <td>2.0</td>\n      <td>2.0</td>\n      <td>2.0</td>\n      <td>2.0</td>\n      <td>3.0</td>\n      <td>1.0</td>\n      <td>3.0</td>\n      <td>2.0</td>\n      <td>17.0</td>\n      <td>0.0</td>\n    </tr>\n    <tr>\n      <th>5</th>\n      <td>1005</td>\n      <td>15</td>\n      <td>19.0</td>\n      <td>9</td>\n      <td>7/11/16</td>\n      <td>Andrea</td>\n      <td>M0105n</td>\n      <td>3.0</td>\n      <td>4</td>\n      <td>New Orleans, LA</td>\n      <td>...</td>\n      <td>3.0</td>\n      <td>2.0</td>\n      <td>2.0</td>\n      <td>2.0</td>\n      <td>4.0</td>\n      <td>1.0</td>\n      <td>4.0</td>\n      <td>4.0</td>\n      <td>22.0</td>\n      <td>1.0</td>\n    </tr>\n    <tr>\n      <th>10</th>\n      <td>1006</td>\n      <td>15</td>\n      <td>22.0</td>\n      <td>9</td>\n      <td>7/11/16</td>\n      <td>Jonah</td>\n      <td>D0111N</td>\n      <td>3.0</td>\n      <td>4</td>\n      <td>Denver,CO</td>\n      <td>...</td>\n      <td>3.0</td>\n      <td>3.0</td>\n      <td>3.0</td>\n      <td>3.0</td>\n      <td>3.0</td>\n      <td>3.0</td>\n      <td>3.0</td>\n      <td>3.0</td>\n      <td>24.0</td>\n      <td>1.0</td>\n    </tr>\n    <tr>\n      <th>15</th>\n      <td>1007</td>\n      <td>15</td>\n      <td>24.0</td>\n      <td>9</td>\n      <td>7/11/16</td>\n      <td>Andrea</td>\n      <td>G0409B</td>\n      <td>3.0</td>\n      <td>4</td>\n      <td>New Orleans, LA</td>\n      <td>...</td>\n      <td>4.0</td>\n      <td>1.0</td>\n      <td>1.0</td>\n      <td>1.0</td>\n      <td>4.0</td>\n      <td>1.0</td>\n      <td>4.0</td>\n      <td>1.0</td>\n      <td>17.0</td>\n      <td>0.0</td>\n    </tr>\n    <tr>\n      <th>20</th>\n      <td>1008</td>\n      <td>8</td>\n      <td>19.0</td>\n      <td>7</td>\n      <td>7/13/16</td>\n      <td>Jonah</td>\n      <td>T0104D</td>\n      <td>3.0</td>\n      <td>3</td>\n      <td>Denver, CO</td>\n      <td>...</td>\n      <td>1.0</td>\n      <td>1.0</td>\n      <td>1.0</td>\n      <td>1.0</td>\n      <td>1.0</td>\n      <td>1.0</td>\n      <td>1.0</td>\n      <td>1.0</td>\n      <td>8.0</td>\n      <td>1.0</td>\n    </tr>\n  </tbody>\n</table>\n<p>5 rows × 742 columns</p>\n</div>"
     },
     "metadata": {},
     "execution_count": 113
    }
   ],
   "source": [
    "# Drop duplicates using the `pid` column\n",
    "\n",
    "data = data.drop_duplicates(subset = 'pid', keep = 'first')\n",
    "data.head()"
   ]
  },
  {
   "cell_type": "code",
   "execution_count": 114,
   "metadata": {},
   "outputs": [
    {
     "output_type": "stream",
     "name": "stdout",
     "text": [
      "(1380, 742)\n"
     ]
    },
    {
     "output_type": "execute_result",
     "data": {
      "text/plain": [
       "     pid  screen1_sleep  screen3_age realm_score   pid_20  pid_30 pid_5_text  \\\n",
       "0   1004             15         24.0           7  7/21/16  Andrea     D0112x   \n",
       "5   1005             15         19.0           9  7/11/16  Andrea     M0105n   \n",
       "10  1006             15         22.0           9  7/11/16   Jonah     D0111N   \n",
       "15  1007             15         24.0           9  7/11/16  Andrea     G0409B   \n",
       "20  1008              8         19.0           7  7/13/16   Jonah     T0104D   \n",
       "\n",
       "    city_in  citysite city_becamehomeless  ...  new_helpseek_scale_1  \\\n",
       "0       3.0         4        New York, NY  ...                   2.0   \n",
       "5       3.0         4     New Orleans, LA  ...                   3.0   \n",
       "10      3.0         4           Denver,CO  ...                   3.0   \n",
       "15      3.0         4     New Orleans, LA  ...                   4.0   \n",
       "20      3.0         3          Denver, CO  ...                   1.0   \n",
       "\n",
       "    new_helpseek_scale_2  new_helpseek_scale_3  new_helpseek_scale_4  \\\n",
       "0                    2.0                   2.0                   2.0   \n",
       "5                    2.0                   2.0                   2.0   \n",
       "10                   3.0                   3.0                   3.0   \n",
       "15                   1.0                   1.0                   1.0   \n",
       "20                   1.0                   1.0                   1.0   \n",
       "\n",
       "    new_helpseek_scale_5  new_helpseek_scale_6  new_helpseek_scale_7  \\\n",
       "0                    3.0                   1.0                   3.0   \n",
       "5                    4.0                   1.0                   4.0   \n",
       "10                   3.0                   3.0                   3.0   \n",
       "15                   4.0                   1.0                   4.0   \n",
       "20                   1.0                   1.0                   1.0   \n",
       "\n",
       "    new_helpseek_scale_8  sum_helpseek_scale  erorhosp_ever  \n",
       "0                    2.0                17.0            0.0  \n",
       "5                    4.0                22.0            1.0  \n",
       "10                   3.0                24.0            1.0  \n",
       "15                   1.0                17.0            0.0  \n",
       "20                   1.0                 8.0            1.0  \n",
       "\n",
       "[5 rows x 742 columns]"
      ],
      "text/html": "<div>\n<style scoped>\n    .dataframe tbody tr th:only-of-type {\n        vertical-align: middle;\n    }\n\n    .dataframe tbody tr th {\n        vertical-align: top;\n    }\n\n    .dataframe thead th {\n        text-align: right;\n    }\n</style>\n<table border=\"1\" class=\"dataframe\">\n  <thead>\n    <tr style=\"text-align: right;\">\n      <th></th>\n      <th>pid</th>\n      <th>screen1_sleep</th>\n      <th>screen3_age</th>\n      <th>realm_score</th>\n      <th>pid_20</th>\n      <th>pid_30</th>\n      <th>pid_5_text</th>\n      <th>city_in</th>\n      <th>citysite</th>\n      <th>city_becamehomeless</th>\n      <th>...</th>\n      <th>new_helpseek_scale_1</th>\n      <th>new_helpseek_scale_2</th>\n      <th>new_helpseek_scale_3</th>\n      <th>new_helpseek_scale_4</th>\n      <th>new_helpseek_scale_5</th>\n      <th>new_helpseek_scale_6</th>\n      <th>new_helpseek_scale_7</th>\n      <th>new_helpseek_scale_8</th>\n      <th>sum_helpseek_scale</th>\n      <th>erorhosp_ever</th>\n    </tr>\n  </thead>\n  <tbody>\n    <tr>\n      <th>0</th>\n      <td>1004</td>\n      <td>15</td>\n      <td>24.0</td>\n      <td>7</td>\n      <td>7/21/16</td>\n      <td>Andrea</td>\n      <td>D0112x</td>\n      <td>3.0</td>\n      <td>4</td>\n      <td>New York, NY</td>\n      <td>...</td>\n      <td>2.0</td>\n      <td>2.0</td>\n      <td>2.0</td>\n      <td>2.0</td>\n      <td>3.0</td>\n      <td>1.0</td>\n      <td>3.0</td>\n      <td>2.0</td>\n      <td>17.0</td>\n      <td>0.0</td>\n    </tr>\n    <tr>\n      <th>5</th>\n      <td>1005</td>\n      <td>15</td>\n      <td>19.0</td>\n      <td>9</td>\n      <td>7/11/16</td>\n      <td>Andrea</td>\n      <td>M0105n</td>\n      <td>3.0</td>\n      <td>4</td>\n      <td>New Orleans, LA</td>\n      <td>...</td>\n      <td>3.0</td>\n      <td>2.0</td>\n      <td>2.0</td>\n      <td>2.0</td>\n      <td>4.0</td>\n      <td>1.0</td>\n      <td>4.0</td>\n      <td>4.0</td>\n      <td>22.0</td>\n      <td>1.0</td>\n    </tr>\n    <tr>\n      <th>10</th>\n      <td>1006</td>\n      <td>15</td>\n      <td>22.0</td>\n      <td>9</td>\n      <td>7/11/16</td>\n      <td>Jonah</td>\n      <td>D0111N</td>\n      <td>3.0</td>\n      <td>4</td>\n      <td>Denver,CO</td>\n      <td>...</td>\n      <td>3.0</td>\n      <td>3.0</td>\n      <td>3.0</td>\n      <td>3.0</td>\n      <td>3.0</td>\n      <td>3.0</td>\n      <td>3.0</td>\n      <td>3.0</td>\n      <td>24.0</td>\n      <td>1.0</td>\n    </tr>\n    <tr>\n      <th>15</th>\n      <td>1007</td>\n      <td>15</td>\n      <td>24.0</td>\n      <td>9</td>\n      <td>7/11/16</td>\n      <td>Andrea</td>\n      <td>G0409B</td>\n      <td>3.0</td>\n      <td>4</td>\n      <td>New Orleans, LA</td>\n      <td>...</td>\n      <td>4.0</td>\n      <td>1.0</td>\n      <td>1.0</td>\n      <td>1.0</td>\n      <td>4.0</td>\n      <td>1.0</td>\n      <td>4.0</td>\n      <td>1.0</td>\n      <td>17.0</td>\n      <td>0.0</td>\n    </tr>\n    <tr>\n      <th>20</th>\n      <td>1008</td>\n      <td>8</td>\n      <td>19.0</td>\n      <td>7</td>\n      <td>7/13/16</td>\n      <td>Jonah</td>\n      <td>T0104D</td>\n      <td>3.0</td>\n      <td>3</td>\n      <td>Denver, CO</td>\n      <td>...</td>\n      <td>1.0</td>\n      <td>1.0</td>\n      <td>1.0</td>\n      <td>1.0</td>\n      <td>1.0</td>\n      <td>1.0</td>\n      <td>1.0</td>\n      <td>1.0</td>\n      <td>8.0</td>\n      <td>1.0</td>\n    </tr>\n  </tbody>\n</table>\n<p>5 rows × 742 columns</p>\n</div>"
     },
     "metadata": {},
     "execution_count": 114
    }
   ],
   "source": [
    "# Retrieving only youths data that are and/or were homeless at some point in their lives\n",
    "\n",
    "datayouth = data.loc[data['selfhomeless'].notna()]\n",
    "print(datayouth.shape)\n",
    "datayouth.head()"
   ]
  },
  {
   "cell_type": "code",
   "execution_count": 115,
   "metadata": {},
   "outputs": [
    {
     "output_type": "stream",
     "name": "stdout",
     "text": [
      "pid                       int64\nscreen1_sleep             int64\nscreen3_age             float64\ncity_in                 float64\ncitysite                  int64\n                         ...   \nnew_helpseek_scale_6    float64\nnew_helpseek_scale_7    float64\nnew_helpseek_scale_8    float64\nsum_helpseek_scale      float64\nerorhosp_ever           float64\nLength: 734, dtype: object\n"
     ]
    },
    {
     "output_type": "execute_result",
     "data": {
      "text/plain": [
       "     pid  screen1_sleep  screen3_age  city_in  citysite  birthsex  \\\n",
       "0   1004             15         24.0      3.0         4       1.0   \n",
       "5   1005             15         19.0      3.0         4       2.0   \n",
       "10  1006             15         22.0      3.0         4       2.0   \n",
       "15  1007             15         24.0      3.0         4       1.0   \n",
       "20  1008              8         19.0      3.0         3       2.0   \n",
       "\n",
       "    sexualorientation  ethnic  a12monthhomeless_1  firsthomeless_1  ...  \\\n",
       "0                 4.0     1.0                 1.0             19.0  ...   \n",
       "5                 3.0     2.0                 0.0             18.0  ...   \n",
       "10                3.0     4.0                 0.0             21.0  ...   \n",
       "15                2.0     2.0                 1.0             18.0  ...   \n",
       "20                2.0     2.0                 1.0             18.0  ...   \n",
       "\n",
       "    new_helpseek_scale_1  new_helpseek_scale_2  new_helpseek_scale_3  \\\n",
       "0                    2.0                   2.0                   2.0   \n",
       "5                    3.0                   2.0                   2.0   \n",
       "10                   3.0                   3.0                   3.0   \n",
       "15                   4.0                   1.0                   1.0   \n",
       "20                   1.0                   1.0                   1.0   \n",
       "\n",
       "    new_helpseek_scale_4  new_helpseek_scale_5  new_helpseek_scale_6  \\\n",
       "0                    2.0                   3.0                   1.0   \n",
       "5                    2.0                   4.0                   1.0   \n",
       "10                   3.0                   3.0                   3.0   \n",
       "15                   1.0                   4.0                   1.0   \n",
       "20                   1.0                   1.0                   1.0   \n",
       "\n",
       "    new_helpseek_scale_7  new_helpseek_scale_8  sum_helpseek_scale  \\\n",
       "0                    3.0                   2.0                17.0   \n",
       "5                    4.0                   4.0                22.0   \n",
       "10                   3.0                   3.0                24.0   \n",
       "15                   4.0                   1.0                17.0   \n",
       "20                   1.0                   1.0                 8.0   \n",
       "\n",
       "    erorhosp_ever  \n",
       "0             0.0  \n",
       "5             1.0  \n",
       "10            1.0  \n",
       "15            0.0  \n",
       "20            1.0  \n",
       "\n",
       "[5 rows x 734 columns]"
      ],
      "text/html": "<div>\n<style scoped>\n    .dataframe tbody tr th:only-of-type {\n        vertical-align: middle;\n    }\n\n    .dataframe tbody tr th {\n        vertical-align: top;\n    }\n\n    .dataframe thead th {\n        text-align: right;\n    }\n</style>\n<table border=\"1\" class=\"dataframe\">\n  <thead>\n    <tr style=\"text-align: right;\">\n      <th></th>\n      <th>pid</th>\n      <th>screen1_sleep</th>\n      <th>screen3_age</th>\n      <th>city_in</th>\n      <th>citysite</th>\n      <th>birthsex</th>\n      <th>sexualorientation</th>\n      <th>ethnic</th>\n      <th>a12monthhomeless_1</th>\n      <th>firsthomeless_1</th>\n      <th>...</th>\n      <th>new_helpseek_scale_1</th>\n      <th>new_helpseek_scale_2</th>\n      <th>new_helpseek_scale_3</th>\n      <th>new_helpseek_scale_4</th>\n      <th>new_helpseek_scale_5</th>\n      <th>new_helpseek_scale_6</th>\n      <th>new_helpseek_scale_7</th>\n      <th>new_helpseek_scale_8</th>\n      <th>sum_helpseek_scale</th>\n      <th>erorhosp_ever</th>\n    </tr>\n  </thead>\n  <tbody>\n    <tr>\n      <th>0</th>\n      <td>1004</td>\n      <td>15</td>\n      <td>24.0</td>\n      <td>3.0</td>\n      <td>4</td>\n      <td>1.0</td>\n      <td>4.0</td>\n      <td>1.0</td>\n      <td>1.0</td>\n      <td>19.0</td>\n      <td>...</td>\n      <td>2.0</td>\n      <td>2.0</td>\n      <td>2.0</td>\n      <td>2.0</td>\n      <td>3.0</td>\n      <td>1.0</td>\n      <td>3.0</td>\n      <td>2.0</td>\n      <td>17.0</td>\n      <td>0.0</td>\n    </tr>\n    <tr>\n      <th>5</th>\n      <td>1005</td>\n      <td>15</td>\n      <td>19.0</td>\n      <td>3.0</td>\n      <td>4</td>\n      <td>2.0</td>\n      <td>3.0</td>\n      <td>2.0</td>\n      <td>0.0</td>\n      <td>18.0</td>\n      <td>...</td>\n      <td>3.0</td>\n      <td>2.0</td>\n      <td>2.0</td>\n      <td>2.0</td>\n      <td>4.0</td>\n      <td>1.0</td>\n      <td>4.0</td>\n      <td>4.0</td>\n      <td>22.0</td>\n      <td>1.0</td>\n    </tr>\n    <tr>\n      <th>10</th>\n      <td>1006</td>\n      <td>15</td>\n      <td>22.0</td>\n      <td>3.0</td>\n      <td>4</td>\n      <td>2.0</td>\n      <td>3.0</td>\n      <td>4.0</td>\n      <td>0.0</td>\n      <td>21.0</td>\n      <td>...</td>\n      <td>3.0</td>\n      <td>3.0</td>\n      <td>3.0</td>\n      <td>3.0</td>\n      <td>3.0</td>\n      <td>3.0</td>\n      <td>3.0</td>\n      <td>3.0</td>\n      <td>24.0</td>\n      <td>1.0</td>\n    </tr>\n    <tr>\n      <th>15</th>\n      <td>1007</td>\n      <td>15</td>\n      <td>24.0</td>\n      <td>3.0</td>\n      <td>4</td>\n      <td>1.0</td>\n      <td>2.0</td>\n      <td>2.0</td>\n      <td>1.0</td>\n      <td>18.0</td>\n      <td>...</td>\n      <td>4.0</td>\n      <td>1.0</td>\n      <td>1.0</td>\n      <td>1.0</td>\n      <td>4.0</td>\n      <td>1.0</td>\n      <td>4.0</td>\n      <td>1.0</td>\n      <td>17.0</td>\n      <td>0.0</td>\n    </tr>\n    <tr>\n      <th>20</th>\n      <td>1008</td>\n      <td>8</td>\n      <td>19.0</td>\n      <td>3.0</td>\n      <td>3</td>\n      <td>2.0</td>\n      <td>2.0</td>\n      <td>2.0</td>\n      <td>1.0</td>\n      <td>18.0</td>\n      <td>...</td>\n      <td>1.0</td>\n      <td>1.0</td>\n      <td>1.0</td>\n      <td>1.0</td>\n      <td>1.0</td>\n      <td>1.0</td>\n      <td>1.0</td>\n      <td>1.0</td>\n      <td>8.0</td>\n      <td>1.0</td>\n    </tr>\n  </tbody>\n</table>\n<p>5 rows × 734 columns</p>\n</div>"
     },
     "metadata": {},
     "execution_count": 115
    }
   ],
   "source": [
    "# Only using Numeric columns \n",
    "datayouth = datayouth.select_dtypes(np.number)\n",
    "print(datayouth.dtypes)\n",
    "datayouth.head()"
   ]
  },
  {
   "cell_type": "code",
   "execution_count": 116,
   "metadata": {},
   "outputs": [
    {
     "output_type": "execute_result",
     "data": {
      "text/plain": [
       "      druguse_30_1  druguse_30_2  druguse_30_3  druguse_30_4  druguse_30_5  \\\n",
       "0              1.0           1.0           4.0           1.0           1.0   \n",
       "5              1.0           1.0           1.0           1.0           1.0   \n",
       "10             4.0           3.0           5.0           6.0           3.0   \n",
       "15             1.0           1.0           1.0           1.0           1.0   \n",
       "20             1.0           1.0           1.0           1.0           1.0   \n",
       "...            ...           ...           ...           ...           ...   \n",
       "6895           1.0           1.0           1.0           1.0           1.0   \n",
       "6900           1.0           1.0           1.0           1.0           1.0   \n",
       "6905           1.0           1.0           1.0           1.0           1.0   \n",
       "6910           1.0           1.0           1.0           1.0           1.0   \n",
       "6915           6.0           6.0           5.0           5.0           5.0   \n",
       "\n",
       "      druguse_30_6  \n",
       "0              1.0  \n",
       "5              1.0  \n",
       "10             5.0  \n",
       "15             1.0  \n",
       "20             2.0  \n",
       "...            ...  \n",
       "6895           1.0  \n",
       "6900           6.0  \n",
       "6905           1.0  \n",
       "6910           1.0  \n",
       "6915           5.0  \n",
       "\n",
       "[1380 rows x 6 columns]"
      ],
      "text/html": "<div>\n<style scoped>\n    .dataframe tbody tr th:only-of-type {\n        vertical-align: middle;\n    }\n\n    .dataframe tbody tr th {\n        vertical-align: top;\n    }\n\n    .dataframe thead th {\n        text-align: right;\n    }\n</style>\n<table border=\"1\" class=\"dataframe\">\n  <thead>\n    <tr style=\"text-align: right;\">\n      <th></th>\n      <th>druguse_30_1</th>\n      <th>druguse_30_2</th>\n      <th>druguse_30_3</th>\n      <th>druguse_30_4</th>\n      <th>druguse_30_5</th>\n      <th>druguse_30_6</th>\n    </tr>\n  </thead>\n  <tbody>\n    <tr>\n      <th>0</th>\n      <td>1.0</td>\n      <td>1.0</td>\n      <td>4.0</td>\n      <td>1.0</td>\n      <td>1.0</td>\n      <td>1.0</td>\n    </tr>\n    <tr>\n      <th>5</th>\n      <td>1.0</td>\n      <td>1.0</td>\n      <td>1.0</td>\n      <td>1.0</td>\n      <td>1.0</td>\n      <td>1.0</td>\n    </tr>\n    <tr>\n      <th>10</th>\n      <td>4.0</td>\n      <td>3.0</td>\n      <td>5.0</td>\n      <td>6.0</td>\n      <td>3.0</td>\n      <td>5.0</td>\n    </tr>\n    <tr>\n      <th>15</th>\n      <td>1.0</td>\n      <td>1.0</td>\n      <td>1.0</td>\n      <td>1.0</td>\n      <td>1.0</td>\n      <td>1.0</td>\n    </tr>\n    <tr>\n      <th>20</th>\n      <td>1.0</td>\n      <td>1.0</td>\n      <td>1.0</td>\n      <td>1.0</td>\n      <td>1.0</td>\n      <td>2.0</td>\n    </tr>\n    <tr>\n      <th>...</th>\n      <td>...</td>\n      <td>...</td>\n      <td>...</td>\n      <td>...</td>\n      <td>...</td>\n      <td>...</td>\n    </tr>\n    <tr>\n      <th>6895</th>\n      <td>1.0</td>\n      <td>1.0</td>\n      <td>1.0</td>\n      <td>1.0</td>\n      <td>1.0</td>\n      <td>1.0</td>\n    </tr>\n    <tr>\n      <th>6900</th>\n      <td>1.0</td>\n      <td>1.0</td>\n      <td>1.0</td>\n      <td>1.0</td>\n      <td>1.0</td>\n      <td>6.0</td>\n    </tr>\n    <tr>\n      <th>6905</th>\n      <td>1.0</td>\n      <td>1.0</td>\n      <td>1.0</td>\n      <td>1.0</td>\n      <td>1.0</td>\n      <td>1.0</td>\n    </tr>\n    <tr>\n      <th>6910</th>\n      <td>1.0</td>\n      <td>1.0</td>\n      <td>1.0</td>\n      <td>1.0</td>\n      <td>1.0</td>\n      <td>1.0</td>\n    </tr>\n    <tr>\n      <th>6915</th>\n      <td>6.0</td>\n      <td>6.0</td>\n      <td>5.0</td>\n      <td>5.0</td>\n      <td>5.0</td>\n      <td>5.0</td>\n    </tr>\n  </tbody>\n</table>\n<p>1380 rows × 6 columns</p>\n</div>"
     },
     "metadata": {},
     "execution_count": 116
    }
   ],
   "source": [
    "small = datayouth[['druguse_30_1', 'druguse_30_2', 'druguse_30_3', 'druguse_30_4', 'druguse_30_5', 'druguse_30_6']]\n",
    "small"
   ]
  },
  {
   "cell_type": "code",
   "execution_count": 117,
   "metadata": {
    "tags": []
   },
   "outputs": [
    {
     "output_type": "execute_result",
     "data": {
      "text/plain": [
       "0       druguse_30_3\n",
       "5       druguse_30_1\n",
       "10      druguse_30_4\n",
       "15      druguse_30_1\n",
       "20      druguse_30_6\n",
       "            ...     \n",
       "6895    druguse_30_1\n",
       "6900    druguse_30_6\n",
       "6905    druguse_30_1\n",
       "6910    druguse_30_1\n",
       "6915    druguse_30_1\n",
       "Length: 1380, dtype: object"
      ]
     },
     "metadata": {},
     "execution_count": 117
    }
   ],
   "source": [
    "# Getting the columns names of the rows with max number -> these are the drug names\n",
    "small = small.transpose()\n",
    "drugs  = small.idxmax()\n",
    "drugs"
   ]
  },
  {
   "cell_type": "code",
   "execution_count": 118,
   "metadata": {},
   "outputs": [
    {
     "output_type": "execute_result",
     "data": {
      "text/plain": [
       "druguse_30_1    954\n",
       "druguse_30_6    235\n",
       "druguse_30_4     86\n",
       "druguse_30_5     47\n",
       "druguse_30_3     16\n",
       "druguse_30_2     12\n",
       "Name: drugs, dtype: int64"
      ]
     },
     "metadata": {},
     "execution_count": 118
    }
   ],
   "source": [
    "# Add the drug_id list to the dataframe as the target column\n",
    "drug = pd.DataFrame(drugs, columns=['drugs'])\n",
    "drug.head()\n",
    "drug['drugs'].value_counts()"
   ]
  },
  {
   "cell_type": "code",
   "execution_count": 119,
   "metadata": {},
   "outputs": [
    {
     "output_type": "execute_result",
     "data": {
      "text/plain": [
       "     pid  screen1_sleep  screen3_age  city_in  citysite  birthsex  \\\n",
       "0   1004             15         24.0      3.0         4       1.0   \n",
       "5   1005             15         19.0      3.0         4       2.0   \n",
       "10  1006             15         22.0      3.0         4       2.0   \n",
       "15  1007             15         24.0      3.0         4       1.0   \n",
       "20  1008              8         19.0      3.0         3       2.0   \n",
       "\n",
       "    sexualorientation  ethnic  a12monthhomeless_1  firsthomeless_1  ...  \\\n",
       "0                 4.0     1.0                 1.0             19.0  ...   \n",
       "5                 3.0     2.0                 0.0             18.0  ...   \n",
       "10                3.0     4.0                 0.0             21.0  ...   \n",
       "15                2.0     2.0                 1.0             18.0  ...   \n",
       "20                2.0     2.0                 1.0             18.0  ...   \n",
       "\n",
       "    new_helpseek_scale_2  new_helpseek_scale_3  new_helpseek_scale_4  \\\n",
       "0                    2.0                   2.0                   2.0   \n",
       "5                    2.0                   2.0                   2.0   \n",
       "10                   3.0                   3.0                   3.0   \n",
       "15                   1.0                   1.0                   1.0   \n",
       "20                   1.0                   1.0                   1.0   \n",
       "\n",
       "    new_helpseek_scale_5  new_helpseek_scale_6  new_helpseek_scale_7  \\\n",
       "0                    3.0                   1.0                   3.0   \n",
       "5                    4.0                   1.0                   4.0   \n",
       "10                   3.0                   3.0                   3.0   \n",
       "15                   4.0                   1.0                   4.0   \n",
       "20                   1.0                   1.0                   1.0   \n",
       "\n",
       "    new_helpseek_scale_8  sum_helpseek_scale  erorhosp_ever         drugs  \n",
       "0                    2.0                17.0            0.0  druguse_30_3  \n",
       "5                    4.0                22.0            1.0  druguse_30_1  \n",
       "10                   3.0                24.0            1.0  druguse_30_4  \n",
       "15                   1.0                17.0            0.0  druguse_30_1  \n",
       "20                   1.0                 8.0            1.0  druguse_30_6  \n",
       "\n",
       "[5 rows x 735 columns]"
      ],
      "text/html": "<div>\n<style scoped>\n    .dataframe tbody tr th:only-of-type {\n        vertical-align: middle;\n    }\n\n    .dataframe tbody tr th {\n        vertical-align: top;\n    }\n\n    .dataframe thead th {\n        text-align: right;\n    }\n</style>\n<table border=\"1\" class=\"dataframe\">\n  <thead>\n    <tr style=\"text-align: right;\">\n      <th></th>\n      <th>pid</th>\n      <th>screen1_sleep</th>\n      <th>screen3_age</th>\n      <th>city_in</th>\n      <th>citysite</th>\n      <th>birthsex</th>\n      <th>sexualorientation</th>\n      <th>ethnic</th>\n      <th>a12monthhomeless_1</th>\n      <th>firsthomeless_1</th>\n      <th>...</th>\n      <th>new_helpseek_scale_2</th>\n      <th>new_helpseek_scale_3</th>\n      <th>new_helpseek_scale_4</th>\n      <th>new_helpseek_scale_5</th>\n      <th>new_helpseek_scale_6</th>\n      <th>new_helpseek_scale_7</th>\n      <th>new_helpseek_scale_8</th>\n      <th>sum_helpseek_scale</th>\n      <th>erorhosp_ever</th>\n      <th>drugs</th>\n    </tr>\n  </thead>\n  <tbody>\n    <tr>\n      <th>0</th>\n      <td>1004</td>\n      <td>15</td>\n      <td>24.0</td>\n      <td>3.0</td>\n      <td>4</td>\n      <td>1.0</td>\n      <td>4.0</td>\n      <td>1.0</td>\n      <td>1.0</td>\n      <td>19.0</td>\n      <td>...</td>\n      <td>2.0</td>\n      <td>2.0</td>\n      <td>2.0</td>\n      <td>3.0</td>\n      <td>1.0</td>\n      <td>3.0</td>\n      <td>2.0</td>\n      <td>17.0</td>\n      <td>0.0</td>\n      <td>druguse_30_3</td>\n    </tr>\n    <tr>\n      <th>5</th>\n      <td>1005</td>\n      <td>15</td>\n      <td>19.0</td>\n      <td>3.0</td>\n      <td>4</td>\n      <td>2.0</td>\n      <td>3.0</td>\n      <td>2.0</td>\n      <td>0.0</td>\n      <td>18.0</td>\n      <td>...</td>\n      <td>2.0</td>\n      <td>2.0</td>\n      <td>2.0</td>\n      <td>4.0</td>\n      <td>1.0</td>\n      <td>4.0</td>\n      <td>4.0</td>\n      <td>22.0</td>\n      <td>1.0</td>\n      <td>druguse_30_1</td>\n    </tr>\n    <tr>\n      <th>10</th>\n      <td>1006</td>\n      <td>15</td>\n      <td>22.0</td>\n      <td>3.0</td>\n      <td>4</td>\n      <td>2.0</td>\n      <td>3.0</td>\n      <td>4.0</td>\n      <td>0.0</td>\n      <td>21.0</td>\n      <td>...</td>\n      <td>3.0</td>\n      <td>3.0</td>\n      <td>3.0</td>\n      <td>3.0</td>\n      <td>3.0</td>\n      <td>3.0</td>\n      <td>3.0</td>\n      <td>24.0</td>\n      <td>1.0</td>\n      <td>druguse_30_4</td>\n    </tr>\n    <tr>\n      <th>15</th>\n      <td>1007</td>\n      <td>15</td>\n      <td>24.0</td>\n      <td>3.0</td>\n      <td>4</td>\n      <td>1.0</td>\n      <td>2.0</td>\n      <td>2.0</td>\n      <td>1.0</td>\n      <td>18.0</td>\n      <td>...</td>\n      <td>1.0</td>\n      <td>1.0</td>\n      <td>1.0</td>\n      <td>4.0</td>\n      <td>1.0</td>\n      <td>4.0</td>\n      <td>1.0</td>\n      <td>17.0</td>\n      <td>0.0</td>\n      <td>druguse_30_1</td>\n    </tr>\n    <tr>\n      <th>20</th>\n      <td>1008</td>\n      <td>8</td>\n      <td>19.0</td>\n      <td>3.0</td>\n      <td>3</td>\n      <td>2.0</td>\n      <td>2.0</td>\n      <td>2.0</td>\n      <td>1.0</td>\n      <td>18.0</td>\n      <td>...</td>\n      <td>1.0</td>\n      <td>1.0</td>\n      <td>1.0</td>\n      <td>1.0</td>\n      <td>1.0</td>\n      <td>1.0</td>\n      <td>1.0</td>\n      <td>8.0</td>\n      <td>1.0</td>\n      <td>druguse_30_6</td>\n    </tr>\n  </tbody>\n</table>\n<p>5 rows × 735 columns</p>\n</div>"
     },
     "metadata": {},
     "execution_count": 119
    }
   ],
   "source": [
    "df = pd.concat([datayouth, drug], axis = 1)\n",
    "df.head()"
   ]
  },
  {
   "cell_type": "code",
   "execution_count": 120,
   "metadata": {},
   "outputs": [
    {
     "output_type": "execute_result",
     "data": {
      "text/plain": [
       "     pid  screen1_sleep  screen3_age  city_in  citysite  birthsex  \\\n",
       "0   1004             15         24.0      3.0         4       1.0   \n",
       "5   1005             15         19.0      3.0         4       2.0   \n",
       "10  1006             15         22.0      3.0         4       2.0   \n",
       "15  1007             15         24.0      3.0         4       1.0   \n",
       "20  1008              8         19.0      3.0         3       2.0   \n",
       "\n",
       "    sexualorientation  ethnic  a12monthhomeless_1  firsthomeless_1  ...  \\\n",
       "0                 4.0     1.0                 1.0             19.0  ...   \n",
       "5                 3.0     2.0                 0.0             18.0  ...   \n",
       "10                3.0     4.0                 0.0             21.0  ...   \n",
       "15                2.0     2.0                 1.0             18.0  ...   \n",
       "20                2.0     2.0                 1.0             18.0  ...   \n",
       "\n",
       "    new_helpseek_scale_2  new_helpseek_scale_3  new_helpseek_scale_4  \\\n",
       "0                    2.0                   2.0                   2.0   \n",
       "5                    2.0                   2.0                   2.0   \n",
       "10                   3.0                   3.0                   3.0   \n",
       "15                   1.0                   1.0                   1.0   \n",
       "20                   1.0                   1.0                   1.0   \n",
       "\n",
       "    new_helpseek_scale_5  new_helpseek_scale_6  new_helpseek_scale_7  \\\n",
       "0                    3.0                   1.0                   3.0   \n",
       "5                    4.0                   1.0                   4.0   \n",
       "10                   3.0                   3.0                   3.0   \n",
       "15                   4.0                   1.0                   4.0   \n",
       "20                   1.0                   1.0                   1.0   \n",
       "\n",
       "    new_helpseek_scale_8  sum_helpseek_scale  erorhosp_ever         drugs  \n",
       "0                    2.0                17.0            0.0  druguse_30_3  \n",
       "5                    4.0                22.0            1.0  druguse_30_1  \n",
       "10                   3.0                24.0            1.0  druguse_30_4  \n",
       "15                   1.0                17.0            0.0  druguse_30_1  \n",
       "20                   1.0                 8.0            1.0  druguse_30_6  \n",
       "\n",
       "[5 rows x 717 columns]"
      ],
      "text/html": "<div>\n<style scoped>\n    .dataframe tbody tr th:only-of-type {\n        vertical-align: middle;\n    }\n\n    .dataframe tbody tr th {\n        vertical-align: top;\n    }\n\n    .dataframe thead th {\n        text-align: right;\n    }\n</style>\n<table border=\"1\" class=\"dataframe\">\n  <thead>\n    <tr style=\"text-align: right;\">\n      <th></th>\n      <th>pid</th>\n      <th>screen1_sleep</th>\n      <th>screen3_age</th>\n      <th>city_in</th>\n      <th>citysite</th>\n      <th>birthsex</th>\n      <th>sexualorientation</th>\n      <th>ethnic</th>\n      <th>a12monthhomeless_1</th>\n      <th>firsthomeless_1</th>\n      <th>...</th>\n      <th>new_helpseek_scale_2</th>\n      <th>new_helpseek_scale_3</th>\n      <th>new_helpseek_scale_4</th>\n      <th>new_helpseek_scale_5</th>\n      <th>new_helpseek_scale_6</th>\n      <th>new_helpseek_scale_7</th>\n      <th>new_helpseek_scale_8</th>\n      <th>sum_helpseek_scale</th>\n      <th>erorhosp_ever</th>\n      <th>drugs</th>\n    </tr>\n  </thead>\n  <tbody>\n    <tr>\n      <th>0</th>\n      <td>1004</td>\n      <td>15</td>\n      <td>24.0</td>\n      <td>3.0</td>\n      <td>4</td>\n      <td>1.0</td>\n      <td>4.0</td>\n      <td>1.0</td>\n      <td>1.0</td>\n      <td>19.0</td>\n      <td>...</td>\n      <td>2.0</td>\n      <td>2.0</td>\n      <td>2.0</td>\n      <td>3.0</td>\n      <td>1.0</td>\n      <td>3.0</td>\n      <td>2.0</td>\n      <td>17.0</td>\n      <td>0.0</td>\n      <td>druguse_30_3</td>\n    </tr>\n    <tr>\n      <th>5</th>\n      <td>1005</td>\n      <td>15</td>\n      <td>19.0</td>\n      <td>3.0</td>\n      <td>4</td>\n      <td>2.0</td>\n      <td>3.0</td>\n      <td>2.0</td>\n      <td>0.0</td>\n      <td>18.0</td>\n      <td>...</td>\n      <td>2.0</td>\n      <td>2.0</td>\n      <td>2.0</td>\n      <td>4.0</td>\n      <td>1.0</td>\n      <td>4.0</td>\n      <td>4.0</td>\n      <td>22.0</td>\n      <td>1.0</td>\n      <td>druguse_30_1</td>\n    </tr>\n    <tr>\n      <th>10</th>\n      <td>1006</td>\n      <td>15</td>\n      <td>22.0</td>\n      <td>3.0</td>\n      <td>4</td>\n      <td>2.0</td>\n      <td>3.0</td>\n      <td>4.0</td>\n      <td>0.0</td>\n      <td>21.0</td>\n      <td>...</td>\n      <td>3.0</td>\n      <td>3.0</td>\n      <td>3.0</td>\n      <td>3.0</td>\n      <td>3.0</td>\n      <td>3.0</td>\n      <td>3.0</td>\n      <td>24.0</td>\n      <td>1.0</td>\n      <td>druguse_30_4</td>\n    </tr>\n    <tr>\n      <th>15</th>\n      <td>1007</td>\n      <td>15</td>\n      <td>24.0</td>\n      <td>3.0</td>\n      <td>4</td>\n      <td>1.0</td>\n      <td>2.0</td>\n      <td>2.0</td>\n      <td>1.0</td>\n      <td>18.0</td>\n      <td>...</td>\n      <td>1.0</td>\n      <td>1.0</td>\n      <td>1.0</td>\n      <td>4.0</td>\n      <td>1.0</td>\n      <td>4.0</td>\n      <td>1.0</td>\n      <td>17.0</td>\n      <td>0.0</td>\n      <td>druguse_30_1</td>\n    </tr>\n    <tr>\n      <th>20</th>\n      <td>1008</td>\n      <td>8</td>\n      <td>19.0</td>\n      <td>3.0</td>\n      <td>3</td>\n      <td>2.0</td>\n      <td>2.0</td>\n      <td>2.0</td>\n      <td>1.0</td>\n      <td>18.0</td>\n      <td>...</td>\n      <td>1.0</td>\n      <td>1.0</td>\n      <td>1.0</td>\n      <td>1.0</td>\n      <td>1.0</td>\n      <td>1.0</td>\n      <td>1.0</td>\n      <td>8.0</td>\n      <td>1.0</td>\n      <td>druguse_30_6</td>\n    </tr>\n  </tbody>\n</table>\n<p>5 rows × 717 columns</p>\n</div>"
     },
     "metadata": {},
     "execution_count": 120
    }
   ],
   "source": [
    "# Dropping columns that created the target `drug` column and those that are highly related\n",
    "\n",
    "df = df.drop(['druguse_30_1', 'druguse_30_2', 'druguse_30_3', 'druguse_30_4', 'druguse_30_5', 'druguse_30_6', 'smoke_2', 'alc_30', 'marj_30', 'rx_30', 'inject_30', 'cocaine', 'crack', \n",
    "'heroin', 'meth', 'ecstasy', 'spice', 'pot40'], axis = 1)\n",
    "df.head()"
   ]
  },
  {
   "cell_type": "code",
   "execution_count": 121,
   "metadata": {},
   "outputs": [
    {
     "output_type": "execute_result",
     "data": {
      "text/plain": [
       "     pid  screen1_sleep  screen3_age  city_in  citysite  birthsex  \\\n",
       "0   1004             15         24.0      3.0         4       1.0   \n",
       "5   1005             15         19.0      3.0         4       2.0   \n",
       "10  1006             15         22.0      3.0         4       2.0   \n",
       "15  1007             15         24.0      3.0         4       1.0   \n",
       "20  1008              8         19.0      3.0         3       2.0   \n",
       "\n",
       "    sexualorientation  ethnic  a12monthhomeless_1  firsthomeless_1  ...  \\\n",
       "0                 4.0     1.0                 1.0             19.0  ...   \n",
       "5                 3.0     2.0                 0.0             18.0  ...   \n",
       "10                3.0     4.0                 0.0             21.0  ...   \n",
       "15                2.0     2.0                 1.0             18.0  ...   \n",
       "20                2.0     2.0                 1.0             18.0  ...   \n",
       "\n",
       "    new_helpseek_scale_2  new_helpseek_scale_3  new_helpseek_scale_4  \\\n",
       "0                    2.0                   2.0                   2.0   \n",
       "5                    2.0                   2.0                   2.0   \n",
       "10                   3.0                   3.0                   3.0   \n",
       "15                   1.0                   1.0                   1.0   \n",
       "20                   1.0                   1.0                   1.0   \n",
       "\n",
       "    new_helpseek_scale_5  new_helpseek_scale_6  new_helpseek_scale_7  \\\n",
       "0                    3.0                   1.0                   3.0   \n",
       "5                    4.0                   1.0                   4.0   \n",
       "10                   3.0                   3.0                   3.0   \n",
       "15                   4.0                   1.0                   4.0   \n",
       "20                   1.0                   1.0                   1.0   \n",
       "\n",
       "    new_helpseek_scale_8  sum_helpseek_scale  erorhosp_ever  drugs  \n",
       "0                    2.0                17.0            0.0      2  \n",
       "5                    4.0                22.0            1.0      0  \n",
       "10                   3.0                24.0            1.0      3  \n",
       "15                   1.0                17.0            0.0      0  \n",
       "20                   1.0                 8.0            1.0      5  \n",
       "\n",
       "[5 rows x 717 columns]"
      ],
      "text/html": "<div>\n<style scoped>\n    .dataframe tbody tr th:only-of-type {\n        vertical-align: middle;\n    }\n\n    .dataframe tbody tr th {\n        vertical-align: top;\n    }\n\n    .dataframe thead th {\n        text-align: right;\n    }\n</style>\n<table border=\"1\" class=\"dataframe\">\n  <thead>\n    <tr style=\"text-align: right;\">\n      <th></th>\n      <th>pid</th>\n      <th>screen1_sleep</th>\n      <th>screen3_age</th>\n      <th>city_in</th>\n      <th>citysite</th>\n      <th>birthsex</th>\n      <th>sexualorientation</th>\n      <th>ethnic</th>\n      <th>a12monthhomeless_1</th>\n      <th>firsthomeless_1</th>\n      <th>...</th>\n      <th>new_helpseek_scale_2</th>\n      <th>new_helpseek_scale_3</th>\n      <th>new_helpseek_scale_4</th>\n      <th>new_helpseek_scale_5</th>\n      <th>new_helpseek_scale_6</th>\n      <th>new_helpseek_scale_7</th>\n      <th>new_helpseek_scale_8</th>\n      <th>sum_helpseek_scale</th>\n      <th>erorhosp_ever</th>\n      <th>drugs</th>\n    </tr>\n  </thead>\n  <tbody>\n    <tr>\n      <th>0</th>\n      <td>1004</td>\n      <td>15</td>\n      <td>24.0</td>\n      <td>3.0</td>\n      <td>4</td>\n      <td>1.0</td>\n      <td>4.0</td>\n      <td>1.0</td>\n      <td>1.0</td>\n      <td>19.0</td>\n      <td>...</td>\n      <td>2.0</td>\n      <td>2.0</td>\n      <td>2.0</td>\n      <td>3.0</td>\n      <td>1.0</td>\n      <td>3.0</td>\n      <td>2.0</td>\n      <td>17.0</td>\n      <td>0.0</td>\n      <td>2</td>\n    </tr>\n    <tr>\n      <th>5</th>\n      <td>1005</td>\n      <td>15</td>\n      <td>19.0</td>\n      <td>3.0</td>\n      <td>4</td>\n      <td>2.0</td>\n      <td>3.0</td>\n      <td>2.0</td>\n      <td>0.0</td>\n      <td>18.0</td>\n      <td>...</td>\n      <td>2.0</td>\n      <td>2.0</td>\n      <td>2.0</td>\n      <td>4.0</td>\n      <td>1.0</td>\n      <td>4.0</td>\n      <td>4.0</td>\n      <td>22.0</td>\n      <td>1.0</td>\n      <td>0</td>\n    </tr>\n    <tr>\n      <th>10</th>\n      <td>1006</td>\n      <td>15</td>\n      <td>22.0</td>\n      <td>3.0</td>\n      <td>4</td>\n      <td>2.0</td>\n      <td>3.0</td>\n      <td>4.0</td>\n      <td>0.0</td>\n      <td>21.0</td>\n      <td>...</td>\n      <td>3.0</td>\n      <td>3.0</td>\n      <td>3.0</td>\n      <td>3.0</td>\n      <td>3.0</td>\n      <td>3.0</td>\n      <td>3.0</td>\n      <td>24.0</td>\n      <td>1.0</td>\n      <td>3</td>\n    </tr>\n    <tr>\n      <th>15</th>\n      <td>1007</td>\n      <td>15</td>\n      <td>24.0</td>\n      <td>3.0</td>\n      <td>4</td>\n      <td>1.0</td>\n      <td>2.0</td>\n      <td>2.0</td>\n      <td>1.0</td>\n      <td>18.0</td>\n      <td>...</td>\n      <td>1.0</td>\n      <td>1.0</td>\n      <td>1.0</td>\n      <td>4.0</td>\n      <td>1.0</td>\n      <td>4.0</td>\n      <td>1.0</td>\n      <td>17.0</td>\n      <td>0.0</td>\n      <td>0</td>\n    </tr>\n    <tr>\n      <th>20</th>\n      <td>1008</td>\n      <td>8</td>\n      <td>19.0</td>\n      <td>3.0</td>\n      <td>3</td>\n      <td>2.0</td>\n      <td>2.0</td>\n      <td>2.0</td>\n      <td>1.0</td>\n      <td>18.0</td>\n      <td>...</td>\n      <td>1.0</td>\n      <td>1.0</td>\n      <td>1.0</td>\n      <td>1.0</td>\n      <td>1.0</td>\n      <td>1.0</td>\n      <td>1.0</td>\n      <td>8.0</td>\n      <td>1.0</td>\n      <td>5</td>\n    </tr>\n  </tbody>\n</table>\n<p>5 rows × 717 columns</p>\n</div>"
     },
     "metadata": {},
     "execution_count": 121
    }
   ],
   "source": [
    "# Label Encoding the target column\n",
    "\n",
    "le = LabelEncoder()\n",
    "df['drugs'] = le.fit_transform(df['drugs'])\n",
    "df.head()"
   ]
  },
  {
   "cell_type": "code",
   "execution_count": 122,
   "metadata": {},
   "outputs": [
    {
     "output_type": "stream",
     "name": "stdout",
     "text": [
      "-- Missing Values in the Dataset --\n",
      "pid                      0\n",
      "screen1_sleep            0\n",
      "screen3_age              3\n",
      "city_in                  2\n",
      "citysite                 0\n",
      "                        ..\n",
      "new_helpseek_scale_7    44\n",
      "new_helpseek_scale_8    42\n",
      "sum_helpseek_scale      51\n",
      "erorhosp_ever           16\n",
      "drugs                    0\n",
      "Length: 717, dtype: int64\n",
      "(1380, 717)\n"
     ]
    }
   ],
   "source": [
    "# Checking for missing values in the datase `df`\n",
    "print('-- Missing Values in the Dataset --')\n",
    "print(df.isna().sum())\n",
    "print(df.shape)\n"
   ]
  },
  {
   "cell_type": "code",
   "execution_count": 123,
   "metadata": {},
   "outputs": [],
   "source": [
    "# Splitting the data in X, y's training and testing\n",
    "X = df.drop('drugs', axis = 1)\n",
    "y = df['drugs']\n",
    "\n",
    "# Imputing data using simple imputer\n",
    "imputer = SimpleImputer(missing_values=np.nan, strategy='median')\n",
    "impX = pd.DataFrame(imputer.fit_transform(X))\n",
    "impX.columns = X.columns\n",
    "impX.index = X.index\n",
    "\n",
    "# Split = 70/30\n",
    "X_train, X_test, y_train, y_test = train_test_split(impX,y, test_size=0.3) \n"
   ]
  },
  {
   "source": [
    "### Lets look at the weights of the target column"
   ],
   "cell_type": "markdown",
   "metadata": {}
  },
  {
   "cell_type": "code",
   "execution_count": 124,
   "metadata": {},
   "outputs": [
    {
     "output_type": "stream",
     "name": "stdout",
     "text": [
      "-- Number of records --\n1380\n-- Number of records per class --\n0    954\n5    235\n3     86\n4     47\n6     30\n2     16\n1     12\nName: drugs, dtype: int64\n"
     ]
    },
    {
     "output_type": "execute_result",
     "data": {
      "text/plain": [
       "<AxesSubplot:>"
      ]
     },
     "metadata": {},
     "execution_count": 124
    },
    {
     "output_type": "display_data",
     "data": {
      "text/plain": "<Figure size 432x288 with 1 Axes>",
      "image/svg+xml": "<?xml version=\"1.0\" encoding=\"utf-8\" standalone=\"no\"?>\n<!DOCTYPE svg PUBLIC \"-//W3C//DTD SVG 1.1//EN\"\n  \"http://www.w3.org/Graphics/SVG/1.1/DTD/svg11.dtd\">\n<svg height=\"248.518125pt\" version=\"1.1\" viewBox=\"0 0 374.719306 248.518125\" width=\"374.719306pt\" xmlns=\"http://www.w3.org/2000/svg\" xmlns:xlink=\"http://www.w3.org/1999/xlink\">\n <metadata>\n  <rdf:RDF xmlns:cc=\"http://creativecommons.org/ns#\" xmlns:dc=\"http://purl.org/dc/elements/1.1/\" xmlns:rdf=\"http://www.w3.org/1999/02/22-rdf-syntax-ns#\">\n   <cc:Work>\n    <dc:type rdf:resource=\"http://purl.org/dc/dcmitype/StillImage\"/>\n    <dc:date>2021-05-07T01:55:37.268349</dc:date>\n    <dc:format>image/svg+xml</dc:format>\n    <dc:creator>\n     <cc:Agent>\n      <dc:title>Matplotlib v3.4.1, https://matplotlib.org/</dc:title>\n     </cc:Agent>\n    </dc:creator>\n   </cc:Work>\n  </rdf:RDF>\n </metadata>\n <defs>\n  <style type=\"text/css\">*{stroke-linecap:butt;stroke-linejoin:round;}</style>\n </defs>\n <g id=\"figure_1\">\n  <g id=\"patch_1\">\n   <path d=\"M 0 248.518125 \nL 374.719306 248.518125 \nL 374.719306 0 \nL 0 0 \nz\n\" style=\"fill:none;\"/>\n  </g>\n  <g id=\"axes_1\">\n   <g id=\"patch_2\">\n    <path d=\"M 20.5625 224.64 \nL 355.3625 224.64 \nL 355.3625 7.2 \nL 20.5625 7.2 \nz\n\" style=\"fill:#ffffff;\"/>\n   </g>\n   <g id=\"patch_3\">\n    <path clip-path=\"url(#p480aec371e)\" d=\"M 20.5625 216.874286 \nL 339.419643 216.874286 \nL 339.419643 201.342857 \nL 20.5625 201.342857 \nz\n\" style=\"fill:#1f77b4;\"/>\n   </g>\n   <g id=\"patch_4\">\n    <path clip-path=\"url(#p480aec371e)\" d=\"M 20.5625 185.811429 \nL 99.106974 185.811429 \nL 99.106974 170.28 \nL 20.5625 170.28 \nz\n\" style=\"fill:#1f77b4;\"/>\n   </g>\n   <g id=\"patch_5\">\n    <path clip-path=\"url(#p480aec371e)\" d=\"M 20.5625 154.748571 \nL 49.306435 154.748571 \nL 49.306435 139.217143 \nL 20.5625 139.217143 \nz\n\" style=\"fill:#1f77b4;\"/>\n   </g>\n   <g id=\"patch_6\">\n    <path clip-path=\"url(#p480aec371e)\" d=\"M 20.5625 123.685714 \nL 36.271395 123.685714 \nL 36.271395 108.154286 \nL 20.5625 108.154286 \nz\n\" style=\"fill:#1f77b4;\"/>\n   </g>\n   <g id=\"patch_7\">\n    <path clip-path=\"url(#p480aec371e)\" d=\"M 20.5625 92.622857 \nL 30.589454 92.622857 \nL 30.589454 77.091429 \nL 20.5625 77.091429 \nz\n\" style=\"fill:#1f77b4;\"/>\n   </g>\n   <g id=\"patch_8\">\n    <path clip-path=\"url(#p480aec371e)\" d=\"M 20.5625 61.56 \nL 25.910209 61.56 \nL 25.910209 46.028571 \nL 20.5625 46.028571 \nz\n\" style=\"fill:#1f77b4;\"/>\n   </g>\n   <g id=\"patch_9\">\n    <path clip-path=\"url(#p480aec371e)\" d=\"M 20.5625 30.497143 \nL 24.573282 30.497143 \nL 24.573282 14.965714 \nL 20.5625 14.965714 \nz\n\" style=\"fill:#1f77b4;\"/>\n   </g>\n   <g id=\"matplotlib.axis_1\">\n    <g id=\"xtick_1\">\n     <g id=\"line2d_1\">\n      <defs>\n       <path d=\"M 0 0 \nL 0 3.5 \n\" id=\"m7df268d9e9\" style=\"stroke:#000000;stroke-width:0.8;\"/>\n      </defs>\n      <g>\n       <use style=\"stroke:#000000;stroke-width:0.8;\" x=\"20.5625\" xlink:href=\"#m7df268d9e9\" y=\"224.64\"/>\n      </g>\n     </g>\n     <g id=\"text_1\">\n      <!-- 0 -->\n      <g transform=\"translate(17.38125 239.238437)scale(0.1 -0.1)\">\n       <defs>\n        <path d=\"M 2034 4250 \nQ 1547 4250 1301 3770 \nQ 1056 3291 1056 2328 \nQ 1056 1369 1301 889 \nQ 1547 409 2034 409 \nQ 2525 409 2770 889 \nQ 3016 1369 3016 2328 \nQ 3016 3291 2770 3770 \nQ 2525 4250 2034 4250 \nz\nM 2034 4750 \nQ 2819 4750 3233 4129 \nQ 3647 3509 3647 2328 \nQ 3647 1150 3233 529 \nQ 2819 -91 2034 -91 \nQ 1250 -91 836 529 \nQ 422 1150 422 2328 \nQ 422 3509 836 4129 \nQ 1250 4750 2034 4750 \nz\n\" id=\"DejaVuSans-30\" transform=\"scale(0.015625)\"/>\n       </defs>\n       <use xlink:href=\"#DejaVuSans-30\"/>\n      </g>\n     </g>\n    </g>\n    <g id=\"xtick_2\">\n     <g id=\"line2d_2\">\n      <g>\n       <use style=\"stroke:#000000;stroke-width:0.8;\" x=\"87.408861\" xlink:href=\"#m7df268d9e9\" y=\"224.64\"/>\n      </g>\n     </g>\n     <g id=\"text_2\">\n      <!-- 200 -->\n      <g transform=\"translate(77.865111 239.238437)scale(0.1 -0.1)\">\n       <defs>\n        <path d=\"M 1228 531 \nL 3431 531 \nL 3431 0 \nL 469 0 \nL 469 531 \nQ 828 903 1448 1529 \nQ 2069 2156 2228 2338 \nQ 2531 2678 2651 2914 \nQ 2772 3150 2772 3378 \nQ 2772 3750 2511 3984 \nQ 2250 4219 1831 4219 \nQ 1534 4219 1204 4116 \nQ 875 4013 500 3803 \nL 500 4441 \nQ 881 4594 1212 4672 \nQ 1544 4750 1819 4750 \nQ 2544 4750 2975 4387 \nQ 3406 4025 3406 3419 \nQ 3406 3131 3298 2873 \nQ 3191 2616 2906 2266 \nQ 2828 2175 2409 1742 \nQ 1991 1309 1228 531 \nz\n\" id=\"DejaVuSans-32\" transform=\"scale(0.015625)\"/>\n       </defs>\n       <use xlink:href=\"#DejaVuSans-32\"/>\n       <use x=\"63.623047\" xlink:href=\"#DejaVuSans-30\"/>\n       <use x=\"127.246094\" xlink:href=\"#DejaVuSans-30\"/>\n      </g>\n     </g>\n    </g>\n    <g id=\"xtick_3\">\n     <g id=\"line2d_3\">\n      <g>\n       <use style=\"stroke:#000000;stroke-width:0.8;\" x=\"154.255222\" xlink:href=\"#m7df268d9e9\" y=\"224.64\"/>\n      </g>\n     </g>\n     <g id=\"text_3\">\n      <!-- 400 -->\n      <g transform=\"translate(144.711472 239.238437)scale(0.1 -0.1)\">\n       <defs>\n        <path d=\"M 2419 4116 \nL 825 1625 \nL 2419 1625 \nL 2419 4116 \nz\nM 2253 4666 \nL 3047 4666 \nL 3047 1625 \nL 3713 1625 \nL 3713 1100 \nL 3047 1100 \nL 3047 0 \nL 2419 0 \nL 2419 1100 \nL 313 1100 \nL 313 1709 \nL 2253 4666 \nz\n\" id=\"DejaVuSans-34\" transform=\"scale(0.015625)\"/>\n       </defs>\n       <use xlink:href=\"#DejaVuSans-34\"/>\n       <use x=\"63.623047\" xlink:href=\"#DejaVuSans-30\"/>\n       <use x=\"127.246094\" xlink:href=\"#DejaVuSans-30\"/>\n      </g>\n     </g>\n    </g>\n    <g id=\"xtick_4\">\n     <g id=\"line2d_4\">\n      <g>\n       <use style=\"stroke:#000000;stroke-width:0.8;\" x=\"221.101584\" xlink:href=\"#m7df268d9e9\" y=\"224.64\"/>\n      </g>\n     </g>\n     <g id=\"text_4\">\n      <!-- 600 -->\n      <g transform=\"translate(211.557834 239.238437)scale(0.1 -0.1)\">\n       <defs>\n        <path d=\"M 2113 2584 \nQ 1688 2584 1439 2293 \nQ 1191 2003 1191 1497 \nQ 1191 994 1439 701 \nQ 1688 409 2113 409 \nQ 2538 409 2786 701 \nQ 3034 994 3034 1497 \nQ 3034 2003 2786 2293 \nQ 2538 2584 2113 2584 \nz\nM 3366 4563 \nL 3366 3988 \nQ 3128 4100 2886 4159 \nQ 2644 4219 2406 4219 \nQ 1781 4219 1451 3797 \nQ 1122 3375 1075 2522 \nQ 1259 2794 1537 2939 \nQ 1816 3084 2150 3084 \nQ 2853 3084 3261 2657 \nQ 3669 2231 3669 1497 \nQ 3669 778 3244 343 \nQ 2819 -91 2113 -91 \nQ 1303 -91 875 529 \nQ 447 1150 447 2328 \nQ 447 3434 972 4092 \nQ 1497 4750 2381 4750 \nQ 2619 4750 2861 4703 \nQ 3103 4656 3366 4563 \nz\n\" id=\"DejaVuSans-36\" transform=\"scale(0.015625)\"/>\n       </defs>\n       <use xlink:href=\"#DejaVuSans-36\"/>\n       <use x=\"63.623047\" xlink:href=\"#DejaVuSans-30\"/>\n       <use x=\"127.246094\" xlink:href=\"#DejaVuSans-30\"/>\n      </g>\n     </g>\n    </g>\n    <g id=\"xtick_5\">\n     <g id=\"line2d_5\">\n      <g>\n       <use style=\"stroke:#000000;stroke-width:0.8;\" x=\"287.947945\" xlink:href=\"#m7df268d9e9\" y=\"224.64\"/>\n      </g>\n     </g>\n     <g id=\"text_5\">\n      <!-- 800 -->\n      <g transform=\"translate(278.404195 239.238437)scale(0.1 -0.1)\">\n       <defs>\n        <path d=\"M 2034 2216 \nQ 1584 2216 1326 1975 \nQ 1069 1734 1069 1313 \nQ 1069 891 1326 650 \nQ 1584 409 2034 409 \nQ 2484 409 2743 651 \nQ 3003 894 3003 1313 \nQ 3003 1734 2745 1975 \nQ 2488 2216 2034 2216 \nz\nM 1403 2484 \nQ 997 2584 770 2862 \nQ 544 3141 544 3541 \nQ 544 4100 942 4425 \nQ 1341 4750 2034 4750 \nQ 2731 4750 3128 4425 \nQ 3525 4100 3525 3541 \nQ 3525 3141 3298 2862 \nQ 3072 2584 2669 2484 \nQ 3125 2378 3379 2068 \nQ 3634 1759 3634 1313 \nQ 3634 634 3220 271 \nQ 2806 -91 2034 -91 \nQ 1263 -91 848 271 \nQ 434 634 434 1313 \nQ 434 1759 690 2068 \nQ 947 2378 1403 2484 \nz\nM 1172 3481 \nQ 1172 3119 1398 2916 \nQ 1625 2713 2034 2713 \nQ 2441 2713 2670 2916 \nQ 2900 3119 2900 3481 \nQ 2900 3844 2670 4047 \nQ 2441 4250 2034 4250 \nQ 1625 4250 1398 4047 \nQ 1172 3844 1172 3481 \nz\n\" id=\"DejaVuSans-38\" transform=\"scale(0.015625)\"/>\n       </defs>\n       <use xlink:href=\"#DejaVuSans-38\"/>\n       <use x=\"63.623047\" xlink:href=\"#DejaVuSans-30\"/>\n       <use x=\"127.246094\" xlink:href=\"#DejaVuSans-30\"/>\n      </g>\n     </g>\n    </g>\n    <g id=\"xtick_6\">\n     <g id=\"line2d_6\">\n      <g>\n       <use style=\"stroke:#000000;stroke-width:0.8;\" x=\"354.794306\" xlink:href=\"#m7df268d9e9\" y=\"224.64\"/>\n      </g>\n     </g>\n     <g id=\"text_6\">\n      <!-- 1000 -->\n      <g transform=\"translate(342.069306 239.238437)scale(0.1 -0.1)\">\n       <defs>\n        <path d=\"M 794 531 \nL 1825 531 \nL 1825 4091 \nL 703 3866 \nL 703 4441 \nL 1819 4666 \nL 2450 4666 \nL 2450 531 \nL 3481 531 \nL 3481 0 \nL 794 0 \nL 794 531 \nz\n\" id=\"DejaVuSans-31\" transform=\"scale(0.015625)\"/>\n       </defs>\n       <use xlink:href=\"#DejaVuSans-31\"/>\n       <use x=\"63.623047\" xlink:href=\"#DejaVuSans-30\"/>\n       <use x=\"127.246094\" xlink:href=\"#DejaVuSans-30\"/>\n       <use x=\"190.869141\" xlink:href=\"#DejaVuSans-30\"/>\n      </g>\n     </g>\n    </g>\n   </g>\n   <g id=\"matplotlib.axis_2\">\n    <g id=\"ytick_1\">\n     <g id=\"line2d_7\">\n      <defs>\n       <path d=\"M 0 0 \nL -3.5 0 \n\" id=\"md0d4b8d500\" style=\"stroke:#000000;stroke-width:0.8;\"/>\n      </defs>\n      <g>\n       <use style=\"stroke:#000000;stroke-width:0.8;\" x=\"20.5625\" xlink:href=\"#md0d4b8d500\" y=\"209.108571\"/>\n      </g>\n     </g>\n     <g id=\"text_7\">\n      <!-- 0 -->\n      <g transform=\"translate(7.2 212.90779)scale(0.1 -0.1)\">\n       <use xlink:href=\"#DejaVuSans-30\"/>\n      </g>\n     </g>\n    </g>\n    <g id=\"ytick_2\">\n     <g id=\"line2d_8\">\n      <g>\n       <use style=\"stroke:#000000;stroke-width:0.8;\" x=\"20.5625\" xlink:href=\"#md0d4b8d500\" y=\"178.045714\"/>\n      </g>\n     </g>\n     <g id=\"text_8\">\n      <!-- 5 -->\n      <g transform=\"translate(7.2 181.844933)scale(0.1 -0.1)\">\n       <defs>\n        <path d=\"M 691 4666 \nL 3169 4666 \nL 3169 4134 \nL 1269 4134 \nL 1269 2991 \nQ 1406 3038 1543 3061 \nQ 1681 3084 1819 3084 \nQ 2600 3084 3056 2656 \nQ 3513 2228 3513 1497 \nQ 3513 744 3044 326 \nQ 2575 -91 1722 -91 \nQ 1428 -91 1123 -41 \nQ 819 9 494 109 \nL 494 744 \nQ 775 591 1075 516 \nQ 1375 441 1709 441 \nQ 2250 441 2565 725 \nQ 2881 1009 2881 1497 \nQ 2881 1984 2565 2268 \nQ 2250 2553 1709 2553 \nQ 1456 2553 1204 2497 \nQ 953 2441 691 2322 \nL 691 4666 \nz\n\" id=\"DejaVuSans-35\" transform=\"scale(0.015625)\"/>\n       </defs>\n       <use xlink:href=\"#DejaVuSans-35\"/>\n      </g>\n     </g>\n    </g>\n    <g id=\"ytick_3\">\n     <g id=\"line2d_9\">\n      <g>\n       <use style=\"stroke:#000000;stroke-width:0.8;\" x=\"20.5625\" xlink:href=\"#md0d4b8d500\" y=\"146.982857\"/>\n      </g>\n     </g>\n     <g id=\"text_9\">\n      <!-- 3 -->\n      <g transform=\"translate(7.2 150.782076)scale(0.1 -0.1)\">\n       <defs>\n        <path d=\"M 2597 2516 \nQ 3050 2419 3304 2112 \nQ 3559 1806 3559 1356 \nQ 3559 666 3084 287 \nQ 2609 -91 1734 -91 \nQ 1441 -91 1130 -33 \nQ 819 25 488 141 \nL 488 750 \nQ 750 597 1062 519 \nQ 1375 441 1716 441 \nQ 2309 441 2620 675 \nQ 2931 909 2931 1356 \nQ 2931 1769 2642 2001 \nQ 2353 2234 1838 2234 \nL 1294 2234 \nL 1294 2753 \nL 1863 2753 \nQ 2328 2753 2575 2939 \nQ 2822 3125 2822 3475 \nQ 2822 3834 2567 4026 \nQ 2313 4219 1838 4219 \nQ 1578 4219 1281 4162 \nQ 984 4106 628 3988 \nL 628 4550 \nQ 988 4650 1302 4700 \nQ 1616 4750 1894 4750 \nQ 2613 4750 3031 4423 \nQ 3450 4097 3450 3541 \nQ 3450 3153 3228 2886 \nQ 3006 2619 2597 2516 \nz\n\" id=\"DejaVuSans-33\" transform=\"scale(0.015625)\"/>\n       </defs>\n       <use xlink:href=\"#DejaVuSans-33\"/>\n      </g>\n     </g>\n    </g>\n    <g id=\"ytick_4\">\n     <g id=\"line2d_10\">\n      <g>\n       <use style=\"stroke:#000000;stroke-width:0.8;\" x=\"20.5625\" xlink:href=\"#md0d4b8d500\" y=\"115.92\"/>\n      </g>\n     </g>\n     <g id=\"text_10\">\n      <!-- 4 -->\n      <g transform=\"translate(7.2 119.719219)scale(0.1 -0.1)\">\n       <use xlink:href=\"#DejaVuSans-34\"/>\n      </g>\n     </g>\n    </g>\n    <g id=\"ytick_5\">\n     <g id=\"line2d_11\">\n      <g>\n       <use style=\"stroke:#000000;stroke-width:0.8;\" x=\"20.5625\" xlink:href=\"#md0d4b8d500\" y=\"84.857143\"/>\n      </g>\n     </g>\n     <g id=\"text_11\">\n      <!-- 6 -->\n      <g transform=\"translate(7.2 88.656362)scale(0.1 -0.1)\">\n       <use xlink:href=\"#DejaVuSans-36\"/>\n      </g>\n     </g>\n    </g>\n    <g id=\"ytick_6\">\n     <g id=\"line2d_12\">\n      <g>\n       <use style=\"stroke:#000000;stroke-width:0.8;\" x=\"20.5625\" xlink:href=\"#md0d4b8d500\" y=\"53.794286\"/>\n      </g>\n     </g>\n     <g id=\"text_12\">\n      <!-- 2 -->\n      <g transform=\"translate(7.2 57.593504)scale(0.1 -0.1)\">\n       <use xlink:href=\"#DejaVuSans-32\"/>\n      </g>\n     </g>\n    </g>\n    <g id=\"ytick_7\">\n     <g id=\"line2d_13\">\n      <g>\n       <use style=\"stroke:#000000;stroke-width:0.8;\" x=\"20.5625\" xlink:href=\"#md0d4b8d500\" y=\"22.731429\"/>\n      </g>\n     </g>\n     <g id=\"text_13\">\n      <!-- 1 -->\n      <g transform=\"translate(7.2 26.530647)scale(0.1 -0.1)\">\n       <use xlink:href=\"#DejaVuSans-31\"/>\n      </g>\n     </g>\n    </g>\n   </g>\n   <g id=\"patch_10\">\n    <path d=\"M 20.5625 224.64 \nL 20.5625 7.2 \n\" style=\"fill:none;stroke:#000000;stroke-linecap:square;stroke-linejoin:miter;stroke-width:0.8;\"/>\n   </g>\n   <g id=\"patch_11\">\n    <path d=\"M 355.3625 224.64 \nL 355.3625 7.2 \n\" style=\"fill:none;stroke:#000000;stroke-linecap:square;stroke-linejoin:miter;stroke-width:0.8;\"/>\n   </g>\n   <g id=\"patch_12\">\n    <path d=\"M 20.5625 224.64 \nL 355.3625 224.64 \n\" style=\"fill:none;stroke:#000000;stroke-linecap:square;stroke-linejoin:miter;stroke-width:0.8;\"/>\n   </g>\n   <g id=\"patch_13\">\n    <path d=\"M 20.5625 7.2 \nL 355.3625 7.2 \n\" style=\"fill:none;stroke:#000000;stroke-linecap:square;stroke-linejoin:miter;stroke-width:0.8;\"/>\n   </g>\n  </g>\n </g>\n <defs>\n  <clipPath id=\"p480aec371e\">\n   <rect height=\"217.44\" width=\"334.8\" x=\"20.5625\" y=\"7.2\"/>\n  </clipPath>\n </defs>\n</svg>\n",
      "image/png": "[encoded data removed]"
     },
     "metadata": {
      "needs_background": "light"
     }
    }
   ],
   "source": [
    "print('-- Number of records --')\n",
    "print(len(df))\n",
    "print('-- Number of records per class --')\n",
    "print(df.drugs.value_counts())\n",
    "df.drugs.value_counts().plot.barh()"
   ]
  },
  {
   "source": [
    "**This dataset is heavily skewed towards a particular **\n",
    "\n",
    "\n",
    "In order to make sure we are learning on skewed data we are going to manually add weights to the model:\n",
    "\n",
    "Formula:\n",
    "\n",
    "Weight_of_a_specific_class = [ (total_num_samples)/ (total_number_classes * num_samples_of_specific_class) ]\n",
    "\n",
    "\n",
    "With the above formula:\n",
    "\n",
    "* 0 = 0.2066\n",
    "* 1 = 0.8389\n",
    "* 2 = 2.2924\n",
    "* 3 = 4.1945\n",
    "* 4 = 6.5714\n",
    "* 5 = 12.3214\n",
    "* 6 = 16.4286"
   ],
   "cell_type": "markdown",
   "metadata": {}
  },
  {
   "source": [
    "### We will be implementing the following algorithms for MultiLabel Classification:\n",
    "\n",
    "1. DecisionTreeClassifier:\n",
    "\n",
    "Decision tree classifier is a systematic approach for multiclass classification. It poses a set of questions to the dataset (related to its attributes/features). The decision tree classification algorithm can be visualized on a binary tree. On the root and each of the internal nodes, a question is posed and the data on that node is further split into separate records that have different characteristics. The leaves of the tree refer to the classes in which the dataset is split.\n",
    "\n",
    "Reference: https://www.geeksforgeeks.org/multiclass-classification-using-scikit-learn/\n",
    "\n",
    "**The class_weight parameter for all algorithms will be:**"
   ],
   "cell_type": "markdown",
   "metadata": {}
  },
  {
   "cell_type": "code",
   "execution_count": 125,
   "metadata": {},
   "outputs": [],
   "source": [
    "class_weight={0: 0.2066, 1: 0.8389, 2: 2.2924, 3: 4.1945, 4: 6.5714,\n",
    "5: 12.3214, 6: 16.4286}"
   ]
  },
  {
   "cell_type": "code",
   "execution_count": 126,
   "metadata": {},
   "outputs": [
    {
     "output_type": "stream",
     "name": "stdout",
     "text": [
      "-- DTC Baseline Confusion Matrix --\n[[259   1   2  11   7   8   8]\n [  1   0   0   1   1   3   0]\n [  3   0   0   1   0   0   0]\n [ 10   0   2   5   2   2   0]\n [  3   0   2   4   2   3   0]\n [  5   0   0  10   1  45   0]\n [  8   0   0   0   0   0   4]]\n-- DTC Baseline Classification Report --\n              precision    recall  f1-score   support\n\n           0       0.71      0.62      0.66       296\n           1       0.00      0.00      0.00         6\n           2       0.00      0.00      0.00         4\n           3       0.05      0.05      0.05        21\n           4       0.00      0.00      0.00        14\n           5       0.21      0.30      0.24        61\n           6       0.09      0.08      0.09        12\n\n    accuracy                           0.50       414\n   macro avg       0.15      0.15      0.15       414\nweighted avg       0.54      0.50      0.52       414\n\n-- Plot Confusion Matrix --\n"
     ]
    },
    {
     "output_type": "execute_result",
     "data": {
      "text/plain": [
       "<sklearn.metrics._plot.confusion_matrix.ConfusionMatrixDisplay at 0x7ff1049a0550>"
      ]
     },
     "metadata": {},
     "execution_count": 126
    },
    {
     "output_type": "display_data",
     "data": {
      "text/plain": "<Figure size 432x288 with 2 Axes>",
      "image/svg+xml": "<?xml version=\"1.0\" encoding=\"utf-8\" standalone=\"no\"?>\n<!DOCTYPE svg PUBLIC \"-//W3C//DTD SVG 1.1//EN\"\n  \"http://www.w3.org/Graphics/SVG/1.1/DTD/svg11.dtd\">\n<svg height=\"262.19625pt\" version=\"1.1\" viewBox=\"0 0 312.580125 262.19625\" width=\"312.580125pt\" xmlns=\"http://www.w3.org/2000/svg\" xmlns:xlink=\"http://www.w3.org/1999/xlink\">\n <metadata>\n  <rdf:RDF xmlns:cc=\"http://creativecommons.org/ns#\" xmlns:dc=\"http://purl.org/dc/elements/1.1/\" xmlns:rdf=\"http://www.w3.org/1999/02/22-rdf-syntax-ns#\">\n   <cc:Work>\n    <dc:type rdf:resource=\"http://purl.org/dc/dcmitype/StillImage\"/>\n    <dc:date>2021-05-07T01:55:37.647101</dc:date>\n    <dc:format>image/svg+xml</dc:format>\n    <dc:creator>\n     <cc:Agent>\n      <dc:title>Matplotlib v3.4.1, https://matplotlib.org/</dc:title>\n     </cc:Agent>\n    </dc:creator>\n   </cc:Work>\n  </rdf:RDF>\n </metadata>\n <defs>\n  <style type=\"text/css\">*{stroke-linecap:butt;stroke-linejoin:round;}</style>\n </defs>\n <g id=\"figure_1\">\n  <g id=\"patch_1\">\n   <path d=\"M 0 262.19625 \nL 312.580125 262.19625 \nL 312.580125 0 \nL 0 0 \nz\n\" style=\"fill:none;\"/>\n  </g>\n  <g id=\"axes_1\">\n   <g id=\"patch_2\">\n    <path d=\"M 34.240625 224.64 \nL 251.680625 224.64 \nL 251.680625 7.2 \nL 34.240625 7.2 \nz\n\" style=\"fill:#ffffff;\"/>\n   </g>\n   <g clip-path=\"url(#p500beeaf7e)\">\n    <image height=\"218\" id=\"imaged52c56a3d9\" transform=\"scale(1 -1)translate(0 -218)\" width=\"218\" x=\"34.240625\" xlink:href=\"data:image/png;base64,\niVBORw0KGgoAAAANSUhEUgAAANoAAADaCAYAAADAHVzbAAADHklEQVR4nO3dwY3TUBhGUTvjFaM0wJo9rCkAuphyEVskeqCAiIw0Q2y6uP/C5zTwPSu5fkuv355fjmXIfr9PTXNC67aNbV/GluFEhAYBoUFAaBAQGgSEBgGhQUBoEBAaBIQGAaFBQGgQEBoEhAYBoUFAaBAQGgSEBgGhQUBoEBAaBIQGAaFBQGgQEBoEhAYBoUFAaBAQGgSEBoHteP83fYbTuVyvo/v77Ta2fXz9PLa9/Pg1Nu1Gg4DQICA0CAgNAkKDgNAgIDQICA0CQoOA0CAgNAgIDQJCg4DQICA0CAgNAkKDgNAgIDQICA0CQoOA0CAgNAgIDQJCg4DQICA0CAgNAkKDgNAgsB2Px/QZZqzr2PTx+jq2vSzL6LOvP3+PbU9yo0FAaBAQGgSEBgGhQUBoEBAaBIQGAaFBQGgQEBoEhAYBoUFAaBAQGgSEBgGhQUBoEBAaBIQGAaFBQGgQEBoEhAYBoUFAaBAQGgSEBgGhQUBoENguzx/GxvfbbWx71Dr9fhv8VNexz20Pmv7F4RSEBgGhQUBoEBAaBIQGAaFBQGgQEBoEhAYBoUFAaBAQGgSEBgGhQUBoEBAaBIQGAaFBQGgQEBoEhAYBoUFAaBAQGgSEBgGhQUBoEBAaBIQGAaFBYNv/3qfPMOM45qbf38a2meFGg4DQICA0CAgNAkKDgNAgIDQICA0CQoOA0CAgNAgIDQJCg4DQICA0CAgNAkKDgNAgIDQICA0CQoOA0CAgNAgIDQJCg4DQICA0CAgNAkKDgNAgsC37Y/oMnMnlaW578L/uRoOA0CAgNAgIDQJCg4DQICA0CAgNAkKDgNAgIDQICA0CQoOA0CAgNAgIDQJCg4DQICA0CAgNAkKDgNAgIDQICA0CQoOA0CAgNAgIDQJCg4DQILA+/nw6psa/f/wyNb0s6zo2/XS9jm0vy7Icb29z45dzvtvP+dQQExoEhAYBoUFAaBAQGgSEBgGhQUBoEBAaBIQGAaFBQGgQEBoEhAYBoUFAaBAQGgSEBgGhQUBoEBAaBIQGAaFBQGgQEBoEhAYBoUFAaBAQGgT+AzADL1b/zQrvAAAAAElFTkSuQmCC\" y=\"-6.64\"/>\n   </g>\n   <g id=\"matplotlib.axis_1\">\n    <g id=\"xtick_1\">\n     <g id=\"line2d_1\">\n      <defs>\n       <path d=\"M 0 0 \nL 0 3.5 \n\" id=\"m012042e9fc\" style=\"stroke:#000000;stroke-width:0.8;\"/>\n      </defs>\n      <g>\n       <use style=\"stroke:#000000;stroke-width:0.8;\" x=\"49.772054\" xlink:href=\"#m012042e9fc\" y=\"224.64\"/>\n      </g>\n     </g>\n     <g id=\"text_1\">\n      <!-- 0 -->\n      <g transform=\"translate(46.590804 239.238437)scale(0.1 -0.1)\">\n       <defs>\n        <path d=\"M 2034 4250 \nQ 1547 4250 1301 3770 \nQ 1056 3291 1056 2328 \nQ 1056 1369 1301 889 \nQ 1547 409 2034 409 \nQ 2525 409 2770 889 \nQ 3016 1369 3016 2328 \nQ 3016 3291 2770 3770 \nQ 2525 4250 2034 4250 \nz\nM 2034 4750 \nQ 2819 4750 3233 4129 \nQ 3647 3509 3647 2328 \nQ 3647 1150 3233 529 \nQ 2819 -91 2034 -91 \nQ 1250 -91 836 529 \nQ 422 1150 422 2328 \nQ 422 3509 836 4129 \nQ 1250 4750 2034 4750 \nz\n\" id=\"DejaVuSans-30\" transform=\"scale(0.015625)\"/>\n       </defs>\n       <use xlink:href=\"#DejaVuSans-30\"/>\n      </g>\n     </g>\n    </g>\n    <g id=\"xtick_2\">\n     <g id=\"line2d_2\">\n      <g>\n       <use style=\"stroke:#000000;stroke-width:0.8;\" x=\"80.834911\" xlink:href=\"#m012042e9fc\" y=\"224.64\"/>\n      </g>\n     </g>\n     <g id=\"text_2\">\n      <!-- 1 -->\n      <g transform=\"translate(77.653661 239.238437)scale(0.1 -0.1)\">\n       <defs>\n        <path d=\"M 794 531 \nL 1825 531 \nL 1825 4091 \nL 703 3866 \nL 703 4441 \nL 1819 4666 \nL 2450 4666 \nL 2450 531 \nL 3481 531 \nL 3481 0 \nL 794 0 \nL 794 531 \nz\n\" id=\"DejaVuSans-31\" transform=\"scale(0.015625)\"/>\n       </defs>\n       <use xlink:href=\"#DejaVuSans-31\"/>\n      </g>\n     </g>\n    </g>\n    <g id=\"xtick_3\">\n     <g id=\"line2d_3\">\n      <g>\n       <use style=\"stroke:#000000;stroke-width:0.8;\" x=\"111.897768\" xlink:href=\"#m012042e9fc\" y=\"224.64\"/>\n      </g>\n     </g>\n     <g id=\"text_3\">\n      <!-- 2 -->\n      <g transform=\"translate(108.716518 239.238437)scale(0.1 -0.1)\">\n       <defs>\n        <path d=\"M 1228 531 \nL 3431 531 \nL 3431 0 \nL 469 0 \nL 469 531 \nQ 828 903 1448 1529 \nQ 2069 2156 2228 2338 \nQ 2531 2678 2651 2914 \nQ 2772 3150 2772 3378 \nQ 2772 3750 2511 3984 \nQ 2250 4219 1831 4219 \nQ 1534 4219 1204 4116 \nQ 875 4013 500 3803 \nL 500 4441 \nQ 881 4594 1212 4672 \nQ 1544 4750 1819 4750 \nQ 2544 4750 2975 4387 \nQ 3406 4025 3406 3419 \nQ 3406 3131 3298 2873 \nQ 3191 2616 2906 2266 \nQ 2828 2175 2409 1742 \nQ 1991 1309 1228 531 \nz\n\" id=\"DejaVuSans-32\" transform=\"scale(0.015625)\"/>\n       </defs>\n       <use xlink:href=\"#DejaVuSans-32\"/>\n      </g>\n     </g>\n    </g>\n    <g id=\"xtick_4\">\n     <g id=\"line2d_4\">\n      <g>\n       <use style=\"stroke:#000000;stroke-width:0.8;\" x=\"142.960625\" xlink:href=\"#m012042e9fc\" y=\"224.64\"/>\n      </g>\n     </g>\n     <g id=\"text_4\">\n      <!-- 3 -->\n      <g transform=\"translate(139.779375 239.238437)scale(0.1 -0.1)\">\n       <defs>\n        <path d=\"M 2597 2516 \nQ 3050 2419 3304 2112 \nQ 3559 1806 3559 1356 \nQ 3559 666 3084 287 \nQ 2609 -91 1734 -91 \nQ 1441 -91 1130 -33 \nQ 819 25 488 141 \nL 488 750 \nQ 750 597 1062 519 \nQ 1375 441 1716 441 \nQ 2309 441 2620 675 \nQ 2931 909 2931 1356 \nQ 2931 1769 2642 2001 \nQ 2353 2234 1838 2234 \nL 1294 2234 \nL 1294 2753 \nL 1863 2753 \nQ 2328 2753 2575 2939 \nQ 2822 3125 2822 3475 \nQ 2822 3834 2567 4026 \nQ 2313 4219 1838 4219 \nQ 1578 4219 1281 4162 \nQ 984 4106 628 3988 \nL 628 4550 \nQ 988 4650 1302 4700 \nQ 1616 4750 1894 4750 \nQ 2613 4750 3031 4423 \nQ 3450 4097 3450 3541 \nQ 3450 3153 3228 2886 \nQ 3006 2619 2597 2516 \nz\n\" id=\"DejaVuSans-33\" transform=\"scale(0.015625)\"/>\n       </defs>\n       <use xlink:href=\"#DejaVuSans-33\"/>\n      </g>\n     </g>\n    </g>\n    <g id=\"xtick_5\">\n     <g id=\"line2d_5\">\n      <g>\n       <use style=\"stroke:#000000;stroke-width:0.8;\" x=\"174.023482\" xlink:href=\"#m012042e9fc\" y=\"224.64\"/>\n      </g>\n     </g>\n     <g id=\"text_5\">\n      <!-- 4 -->\n      <g transform=\"translate(170.842232 239.238437)scale(0.1 -0.1)\">\n       <defs>\n        <path d=\"M 2419 4116 \nL 825 1625 \nL 2419 1625 \nL 2419 4116 \nz\nM 2253 4666 \nL 3047 4666 \nL 3047 1625 \nL 3713 1625 \nL 3713 1100 \nL 3047 1100 \nL 3047 0 \nL 2419 0 \nL 2419 1100 \nL 313 1100 \nL 313 1709 \nL 2253 4666 \nz\n\" id=\"DejaVuSans-34\" transform=\"scale(0.015625)\"/>\n       </defs>\n       <use xlink:href=\"#DejaVuSans-34\"/>\n      </g>\n     </g>\n    </g>\n    <g id=\"xtick_6\">\n     <g id=\"line2d_6\">\n      <g>\n       <use style=\"stroke:#000000;stroke-width:0.8;\" x=\"205.086339\" xlink:href=\"#m012042e9fc\" y=\"224.64\"/>\n      </g>\n     </g>\n     <g id=\"text_6\">\n      <!-- 5 -->\n      <g transform=\"translate(201.905089 239.238437)scale(0.1 -0.1)\">\n       <defs>\n        <path d=\"M 691 4666 \nL 3169 4666 \nL 3169 4134 \nL 1269 4134 \nL 1269 2991 \nQ 1406 3038 1543 3061 \nQ 1681 3084 1819 3084 \nQ 2600 3084 3056 2656 \nQ 3513 2228 3513 1497 \nQ 3513 744 3044 326 \nQ 2575 -91 1722 -91 \nQ 1428 -91 1123 -41 \nQ 819 9 494 109 \nL 494 744 \nQ 775 591 1075 516 \nQ 1375 441 1709 441 \nQ 2250 441 2565 725 \nQ 2881 1009 2881 1497 \nQ 2881 1984 2565 2268 \nQ 2250 2553 1709 2553 \nQ 1456 2553 1204 2497 \nQ 953 2441 691 2322 \nL 691 4666 \nz\n\" id=\"DejaVuSans-35\" transform=\"scale(0.015625)\"/>\n       </defs>\n       <use xlink:href=\"#DejaVuSans-35\"/>\n      </g>\n     </g>\n    </g>\n    <g id=\"xtick_7\">\n     <g id=\"line2d_7\">\n      <g>\n       <use style=\"stroke:#000000;stroke-width:0.8;\" x=\"236.149196\" xlink:href=\"#m012042e9fc\" y=\"224.64\"/>\n      </g>\n     </g>\n     <g id=\"text_7\">\n      <!-- 6 -->\n      <g transform=\"translate(232.967946 239.238437)scale(0.1 -0.1)\">\n       <defs>\n        <path d=\"M 2113 2584 \nQ 1688 2584 1439 2293 \nQ 1191 2003 1191 1497 \nQ 1191 994 1439 701 \nQ 1688 409 2113 409 \nQ 2538 409 2786 701 \nQ 3034 994 3034 1497 \nQ 3034 2003 2786 2293 \nQ 2538 2584 2113 2584 \nz\nM 3366 4563 \nL 3366 3988 \nQ 3128 4100 2886 4159 \nQ 2644 4219 2406 4219 \nQ 1781 4219 1451 3797 \nQ 1122 3375 1075 2522 \nQ 1259 2794 1537 2939 \nQ 1816 3084 2150 3084 \nQ 2853 3084 3261 2657 \nQ 3669 2231 3669 1497 \nQ 3669 778 3244 343 \nQ 2819 -91 2113 -91 \nQ 1303 -91 875 529 \nQ 447 1150 447 2328 \nQ 447 3434 972 4092 \nQ 1497 4750 2381 4750 \nQ 2619 4750 2861 4703 \nQ 3103 4656 3366 4563 \nz\n\" id=\"DejaVuSans-36\" transform=\"scale(0.015625)\"/>\n       </defs>\n       <use xlink:href=\"#DejaVuSans-36\"/>\n      </g>\n     </g>\n    </g>\n    <g id=\"text_8\">\n     <!-- Predicted label -->\n     <g transform=\"translate(105.808281 252.916562)scale(0.1 -0.1)\">\n      <defs>\n       <path d=\"M 1259 4147 \nL 1259 2394 \nL 2053 2394 \nQ 2494 2394 2734 2622 \nQ 2975 2850 2975 3272 \nQ 2975 3691 2734 3919 \nQ 2494 4147 2053 4147 \nL 1259 4147 \nz\nM 628 4666 \nL 2053 4666 \nQ 2838 4666 3239 4311 \nQ 3641 3956 3641 3272 \nQ 3641 2581 3239 2228 \nQ 2838 1875 2053 1875 \nL 1259 1875 \nL 1259 0 \nL 628 0 \nL 628 4666 \nz\n\" id=\"DejaVuSans-50\" transform=\"scale(0.015625)\"/>\n       <path d=\"M 2631 2963 \nQ 2534 3019 2420 3045 \nQ 2306 3072 2169 3072 \nQ 1681 3072 1420 2755 \nQ 1159 2438 1159 1844 \nL 1159 0 \nL 581 0 \nL 581 3500 \nL 1159 3500 \nL 1159 2956 \nQ 1341 3275 1631 3429 \nQ 1922 3584 2338 3584 \nQ 2397 3584 2469 3576 \nQ 2541 3569 2628 3553 \nL 2631 2963 \nz\n\" id=\"DejaVuSans-72\" transform=\"scale(0.015625)\"/>\n       <path d=\"M 3597 1894 \nL 3597 1613 \nL 953 1613 \nQ 991 1019 1311 708 \nQ 1631 397 2203 397 \nQ 2534 397 2845 478 \nQ 3156 559 3463 722 \nL 3463 178 \nQ 3153 47 2828 -22 \nQ 2503 -91 2169 -91 \nQ 1331 -91 842 396 \nQ 353 884 353 1716 \nQ 353 2575 817 3079 \nQ 1281 3584 2069 3584 \nQ 2775 3584 3186 3129 \nQ 3597 2675 3597 1894 \nz\nM 3022 2063 \nQ 3016 2534 2758 2815 \nQ 2500 3097 2075 3097 \nQ 1594 3097 1305 2825 \nQ 1016 2553 972 2059 \nL 3022 2063 \nz\n\" id=\"DejaVuSans-65\" transform=\"scale(0.015625)\"/>\n       <path d=\"M 2906 2969 \nL 2906 4863 \nL 3481 4863 \nL 3481 0 \nL 2906 0 \nL 2906 525 \nQ 2725 213 2448 61 \nQ 2172 -91 1784 -91 \nQ 1150 -91 751 415 \nQ 353 922 353 1747 \nQ 353 2572 751 3078 \nQ 1150 3584 1784 3584 \nQ 2172 3584 2448 3432 \nQ 2725 3281 2906 2969 \nz\nM 947 1747 \nQ 947 1113 1208 752 \nQ 1469 391 1925 391 \nQ 2381 391 2643 752 \nQ 2906 1113 2906 1747 \nQ 2906 2381 2643 2742 \nQ 2381 3103 1925 3103 \nQ 1469 3103 1208 2742 \nQ 947 2381 947 1747 \nz\n\" id=\"DejaVuSans-64\" transform=\"scale(0.015625)\"/>\n       <path d=\"M 603 3500 \nL 1178 3500 \nL 1178 0 \nL 603 0 \nL 603 3500 \nz\nM 603 4863 \nL 1178 4863 \nL 1178 4134 \nL 603 4134 \nL 603 4863 \nz\n\" id=\"DejaVuSans-69\" transform=\"scale(0.015625)\"/>\n       <path d=\"M 3122 3366 \nL 3122 2828 \nQ 2878 2963 2633 3030 \nQ 2388 3097 2138 3097 \nQ 1578 3097 1268 2742 \nQ 959 2388 959 1747 \nQ 959 1106 1268 751 \nQ 1578 397 2138 397 \nQ 2388 397 2633 464 \nQ 2878 531 3122 666 \nL 3122 134 \nQ 2881 22 2623 -34 \nQ 2366 -91 2075 -91 \nQ 1284 -91 818 406 \nQ 353 903 353 1747 \nQ 353 2603 823 3093 \nQ 1294 3584 2113 3584 \nQ 2378 3584 2631 3529 \nQ 2884 3475 3122 3366 \nz\n\" id=\"DejaVuSans-63\" transform=\"scale(0.015625)\"/>\n       <path d=\"M 1172 4494 \nL 1172 3500 \nL 2356 3500 \nL 2356 3053 \nL 1172 3053 \nL 1172 1153 \nQ 1172 725 1289 603 \nQ 1406 481 1766 481 \nL 2356 481 \nL 2356 0 \nL 1766 0 \nQ 1100 0 847 248 \nQ 594 497 594 1153 \nL 594 3053 \nL 172 3053 \nL 172 3500 \nL 594 3500 \nL 594 4494 \nL 1172 4494 \nz\n\" id=\"DejaVuSans-74\" transform=\"scale(0.015625)\"/>\n       <path id=\"DejaVuSans-20\" transform=\"scale(0.015625)\"/>\n       <path d=\"M 603 4863 \nL 1178 4863 \nL 1178 0 \nL 603 0 \nL 603 4863 \nz\n\" id=\"DejaVuSans-6c\" transform=\"scale(0.015625)\"/>\n       <path d=\"M 2194 1759 \nQ 1497 1759 1228 1600 \nQ 959 1441 959 1056 \nQ 959 750 1161 570 \nQ 1363 391 1709 391 \nQ 2188 391 2477 730 \nQ 2766 1069 2766 1631 \nL 2766 1759 \nL 2194 1759 \nz\nM 3341 1997 \nL 3341 0 \nL 2766 0 \nL 2766 531 \nQ 2569 213 2275 61 \nQ 1981 -91 1556 -91 \nQ 1019 -91 701 211 \nQ 384 513 384 1019 \nQ 384 1609 779 1909 \nQ 1175 2209 1959 2209 \nL 2766 2209 \nL 2766 2266 \nQ 2766 2663 2505 2880 \nQ 2244 3097 1772 3097 \nQ 1472 3097 1187 3025 \nQ 903 2953 641 2809 \nL 641 3341 \nQ 956 3463 1253 3523 \nQ 1550 3584 1831 3584 \nQ 2591 3584 2966 3190 \nQ 3341 2797 3341 1997 \nz\n\" id=\"DejaVuSans-61\" transform=\"scale(0.015625)\"/>\n       <path d=\"M 3116 1747 \nQ 3116 2381 2855 2742 \nQ 2594 3103 2138 3103 \nQ 1681 3103 1420 2742 \nQ 1159 2381 1159 1747 \nQ 1159 1113 1420 752 \nQ 1681 391 2138 391 \nQ 2594 391 2855 752 \nQ 3116 1113 3116 1747 \nz\nM 1159 2969 \nQ 1341 3281 1617 3432 \nQ 1894 3584 2278 3584 \nQ 2916 3584 3314 3078 \nQ 3713 2572 3713 1747 \nQ 3713 922 3314 415 \nQ 2916 -91 2278 -91 \nQ 1894 -91 1617 61 \nQ 1341 213 1159 525 \nL 1159 0 \nL 581 0 \nL 581 4863 \nL 1159 4863 \nL 1159 2969 \nz\n\" id=\"DejaVuSans-62\" transform=\"scale(0.015625)\"/>\n      </defs>\n      <use xlink:href=\"#DejaVuSans-50\"/>\n      <use x=\"58.552734\" xlink:href=\"#DejaVuSans-72\"/>\n      <use x=\"97.416016\" xlink:href=\"#DejaVuSans-65\"/>\n      <use x=\"158.939453\" xlink:href=\"#DejaVuSans-64\"/>\n      <use x=\"222.416016\" xlink:href=\"#DejaVuSans-69\"/>\n      <use x=\"250.199219\" xlink:href=\"#DejaVuSans-63\"/>\n      <use x=\"305.179688\" xlink:href=\"#DejaVuSans-74\"/>\n      <use x=\"344.388672\" xlink:href=\"#DejaVuSans-65\"/>\n      <use x=\"405.912109\" xlink:href=\"#DejaVuSans-64\"/>\n      <use x=\"469.388672\" xlink:href=\"#DejaVuSans-20\"/>\n      <use x=\"501.175781\" xlink:href=\"#DejaVuSans-6c\"/>\n      <use x=\"528.958984\" xlink:href=\"#DejaVuSans-61\"/>\n      <use x=\"590.238281\" xlink:href=\"#DejaVuSans-62\"/>\n      <use x=\"653.714844\" xlink:href=\"#DejaVuSans-65\"/>\n      <use x=\"715.238281\" xlink:href=\"#DejaVuSans-6c\"/>\n     </g>\n    </g>\n   </g>\n   <g id=\"matplotlib.axis_2\">\n    <g id=\"ytick_1\">\n     <g id=\"line2d_8\">\n      <defs>\n       <path d=\"M 0 0 \nL -3.5 0 \n\" id=\"m717436495e\" style=\"stroke:#000000;stroke-width:0.8;\"/>\n      </defs>\n      <g>\n       <use style=\"stroke:#000000;stroke-width:0.8;\" x=\"34.240625\" xlink:href=\"#m717436495e\" y=\"22.731429\"/>\n      </g>\n     </g>\n     <g id=\"text_9\">\n      <!-- 0 -->\n      <g transform=\"translate(20.878125 26.530647)scale(0.1 -0.1)\">\n       <use xlink:href=\"#DejaVuSans-30\"/>\n      </g>\n     </g>\n    </g>\n    <g id=\"ytick_2\">\n     <g id=\"line2d_9\">\n      <g>\n       <use style=\"stroke:#000000;stroke-width:0.8;\" x=\"34.240625\" xlink:href=\"#m717436495e\" y=\"53.794286\"/>\n      </g>\n     </g>\n     <g id=\"text_10\">\n      <!-- 1 -->\n      <g transform=\"translate(20.878125 57.593504)scale(0.1 -0.1)\">\n       <use xlink:href=\"#DejaVuSans-31\"/>\n      </g>\n     </g>\n    </g>\n    <g id=\"ytick_3\">\n     <g id=\"line2d_10\">\n      <g>\n       <use style=\"stroke:#000000;stroke-width:0.8;\" x=\"34.240625\" xlink:href=\"#m717436495e\" y=\"84.857143\"/>\n      </g>\n     </g>\n     <g id=\"text_11\">\n      <!-- 2 -->\n      <g transform=\"translate(20.878125 88.656362)scale(0.1 -0.1)\">\n       <use xlink:href=\"#DejaVuSans-32\"/>\n      </g>\n     </g>\n    </g>\n    <g id=\"ytick_4\">\n     <g id=\"line2d_11\">\n      <g>\n       <use style=\"stroke:#000000;stroke-width:0.8;\" x=\"34.240625\" xlink:href=\"#m717436495e\" y=\"115.92\"/>\n      </g>\n     </g>\n     <g id=\"text_12\">\n      <!-- 3 -->\n      <g transform=\"translate(20.878125 119.719219)scale(0.1 -0.1)\">\n       <use xlink:href=\"#DejaVuSans-33\"/>\n      </g>\n     </g>\n    </g>\n    <g id=\"ytick_5\">\n     <g id=\"line2d_12\">\n      <g>\n       <use style=\"stroke:#000000;stroke-width:0.8;\" x=\"34.240625\" xlink:href=\"#m717436495e\" y=\"146.982857\"/>\n      </g>\n     </g>\n     <g id=\"text_13\">\n      <!-- 4 -->\n      <g transform=\"translate(20.878125 150.782076)scale(0.1 -0.1)\">\n       <use xlink:href=\"#DejaVuSans-34\"/>\n      </g>\n     </g>\n    </g>\n    <g id=\"ytick_6\">\n     <g id=\"line2d_13\">\n      <g>\n       <use style=\"stroke:#000000;stroke-width:0.8;\" x=\"34.240625\" xlink:href=\"#m717436495e\" y=\"178.045714\"/>\n      </g>\n     </g>\n     <g id=\"text_14\">\n      <!-- 5 -->\n      <g transform=\"translate(20.878125 181.844933)scale(0.1 -0.1)\">\n       <use xlink:href=\"#DejaVuSans-35\"/>\n      </g>\n     </g>\n    </g>\n    <g id=\"ytick_7\">\n     <g id=\"line2d_14\">\n      <g>\n       <use style=\"stroke:#000000;stroke-width:0.8;\" x=\"34.240625\" xlink:href=\"#m717436495e\" y=\"209.108571\"/>\n      </g>\n     </g>\n     <g id=\"text_15\">\n      <!-- 6 -->\n      <g transform=\"translate(20.878125 212.90779)scale(0.1 -0.1)\">\n       <use xlink:href=\"#DejaVuSans-36\"/>\n      </g>\n     </g>\n    </g>\n    <g id=\"text_16\">\n     <!-- True label -->\n     <g transform=\"translate(14.798437 140.219219)rotate(-90)scale(0.1 -0.1)\">\n      <defs>\n       <path d=\"M -19 4666 \nL 3928 4666 \nL 3928 4134 \nL 2272 4134 \nL 2272 0 \nL 1638 0 \nL 1638 4134 \nL -19 4134 \nL -19 4666 \nz\n\" id=\"DejaVuSans-54\" transform=\"scale(0.015625)\"/>\n       <path d=\"M 544 1381 \nL 544 3500 \nL 1119 3500 \nL 1119 1403 \nQ 1119 906 1312 657 \nQ 1506 409 1894 409 \nQ 2359 409 2629 706 \nQ 2900 1003 2900 1516 \nL 2900 3500 \nL 3475 3500 \nL 3475 0 \nL 2900 0 \nL 2900 538 \nQ 2691 219 2414 64 \nQ 2138 -91 1772 -91 \nQ 1169 -91 856 284 \nQ 544 659 544 1381 \nz\nM 1991 3584 \nL 1991 3584 \nz\n\" id=\"DejaVuSans-75\" transform=\"scale(0.015625)\"/>\n      </defs>\n      <use xlink:href=\"#DejaVuSans-54\"/>\n      <use x=\"46.333984\" xlink:href=\"#DejaVuSans-72\"/>\n      <use x=\"87.447266\" xlink:href=\"#DejaVuSans-75\"/>\n      <use x=\"150.826172\" xlink:href=\"#DejaVuSans-65\"/>\n      <use x=\"212.349609\" xlink:href=\"#DejaVuSans-20\"/>\n      <use x=\"244.136719\" xlink:href=\"#DejaVuSans-6c\"/>\n      <use x=\"271.919922\" xlink:href=\"#DejaVuSans-61\"/>\n      <use x=\"333.199219\" xlink:href=\"#DejaVuSans-62\"/>\n      <use x=\"396.675781\" xlink:href=\"#DejaVuSans-65\"/>\n      <use x=\"458.199219\" xlink:href=\"#DejaVuSans-6c\"/>\n     </g>\n    </g>\n   </g>\n   <g id=\"patch_3\">\n    <path d=\"M 34.240625 224.64 \nL 34.240625 7.2 \n\" style=\"fill:none;stroke:#000000;stroke-linecap:square;stroke-linejoin:miter;stroke-width:0.8;\"/>\n   </g>\n   <g id=\"patch_4\">\n    <path d=\"M 251.680625 224.64 \nL 251.680625 7.2 \n\" style=\"fill:none;stroke:#000000;stroke-linecap:square;stroke-linejoin:miter;stroke-width:0.8;\"/>\n   </g>\n   <g id=\"patch_5\">\n    <path d=\"M 34.240625 224.64 \nL 251.680625 224.64 \n\" style=\"fill:none;stroke:#000000;stroke-linecap:square;stroke-linejoin:miter;stroke-width:0.8;\"/>\n   </g>\n   <g id=\"patch_6\">\n    <path d=\"M 34.240625 7.2 \nL 251.680625 7.2 \n\" style=\"fill:none;stroke:#000000;stroke-linecap:square;stroke-linejoin:miter;stroke-width:0.8;\"/>\n   </g>\n   <g id=\"text_17\">\n    <!-- 259 -->\n    <g style=\"fill:#440154;\" transform=\"translate(40.228304 25.490804)scale(0.1 -0.1)\">\n     <defs>\n      <path d=\"M 703 97 \nL 703 672 \nQ 941 559 1184 500 \nQ 1428 441 1663 441 \nQ 2288 441 2617 861 \nQ 2947 1281 2994 2138 \nQ 2813 1869 2534 1725 \nQ 2256 1581 1919 1581 \nQ 1219 1581 811 2004 \nQ 403 2428 403 3163 \nQ 403 3881 828 4315 \nQ 1253 4750 1959 4750 \nQ 2769 4750 3195 4129 \nQ 3622 3509 3622 2328 \nQ 3622 1225 3098 567 \nQ 2575 -91 1691 -91 \nQ 1453 -91 1209 -44 \nQ 966 3 703 97 \nz\nM 1959 2075 \nQ 2384 2075 2632 2365 \nQ 2881 2656 2881 3163 \nQ 2881 3666 2632 3958 \nQ 2384 4250 1959 4250 \nQ 1534 4250 1286 3958 \nQ 1038 3666 1038 3163 \nQ 1038 2656 1286 2365 \nQ 1534 2075 1959 2075 \nz\n\" id=\"DejaVuSans-39\" transform=\"scale(0.015625)\"/>\n     </defs>\n     <use xlink:href=\"#DejaVuSans-32\"/>\n     <use x=\"63.623047\" xlink:href=\"#DejaVuSans-35\"/>\n     <use x=\"127.246094\" xlink:href=\"#DejaVuSans-39\"/>\n    </g>\n   </g>\n   <g id=\"text_18\">\n    <!-- 1 -->\n    <g style=\"fill:#fde725;\" transform=\"translate(77.653661 25.490804)scale(0.1 -0.1)\">\n     <use xlink:href=\"#DejaVuSans-31\"/>\n    </g>\n   </g>\n   <g id=\"text_19\">\n    <!-- 2 -->\n    <g style=\"fill:#fde725;\" transform=\"translate(108.716518 25.490804)scale(0.1 -0.1)\">\n     <use xlink:href=\"#DejaVuSans-32\"/>\n    </g>\n   </g>\n   <g id=\"text_20\">\n    <!-- 11 -->\n    <g style=\"fill:#fde725;\" transform=\"translate(136.598125 25.490804)scale(0.1 -0.1)\">\n     <use xlink:href=\"#DejaVuSans-31\"/>\n     <use x=\"63.623047\" xlink:href=\"#DejaVuSans-31\"/>\n    </g>\n   </g>\n   <g id=\"text_21\">\n    <!-- 7 -->\n    <g style=\"fill:#fde725;\" transform=\"translate(170.842232 25.490804)scale(0.1 -0.1)\">\n     <defs>\n      <path d=\"M 525 4666 \nL 3525 4666 \nL 3525 4397 \nL 1831 0 \nL 1172 0 \nL 2766 4134 \nL 525 4134 \nL 525 4666 \nz\n\" id=\"DejaVuSans-37\" transform=\"scale(0.015625)\"/>\n     </defs>\n     <use xlink:href=\"#DejaVuSans-37\"/>\n    </g>\n   </g>\n   <g id=\"text_22\">\n    <!-- 8 -->\n    <g style=\"fill:#fde725;\" transform=\"translate(201.905089 25.490804)scale(0.1 -0.1)\">\n     <defs>\n      <path d=\"M 2034 2216 \nQ 1584 2216 1326 1975 \nQ 1069 1734 1069 1313 \nQ 1069 891 1326 650 \nQ 1584 409 2034 409 \nQ 2484 409 2743 651 \nQ 3003 894 3003 1313 \nQ 3003 1734 2745 1975 \nQ 2488 2216 2034 2216 \nz\nM 1403 2484 \nQ 997 2584 770 2862 \nQ 544 3141 544 3541 \nQ 544 4100 942 4425 \nQ 1341 4750 2034 4750 \nQ 2731 4750 3128 4425 \nQ 3525 4100 3525 3541 \nQ 3525 3141 3298 2862 \nQ 3072 2584 2669 2484 \nQ 3125 2378 3379 2068 \nQ 3634 1759 3634 1313 \nQ 3634 634 3220 271 \nQ 2806 -91 2034 -91 \nQ 1263 -91 848 271 \nQ 434 634 434 1313 \nQ 434 1759 690 2068 \nQ 947 2378 1403 2484 \nz\nM 1172 3481 \nQ 1172 3119 1398 2916 \nQ 1625 2713 2034 2713 \nQ 2441 2713 2670 2916 \nQ 2900 3119 2900 3481 \nQ 2900 3844 2670 4047 \nQ 2441 4250 2034 4250 \nQ 1625 4250 1398 4047 \nQ 1172 3844 1172 3481 \nz\n\" id=\"DejaVuSans-38\" transform=\"scale(0.015625)\"/>\n     </defs>\n     <use xlink:href=\"#DejaVuSans-38\"/>\n    </g>\n   </g>\n   <g id=\"text_23\">\n    <!-- 8 -->\n    <g style=\"fill:#fde725;\" transform=\"translate(232.967946 25.490804)scale(0.1 -0.1)\">\n     <use xlink:href=\"#DejaVuSans-38\"/>\n    </g>\n   </g>\n   <g id=\"text_24\">\n    <!-- 1 -->\n    <g style=\"fill:#fde725;\" transform=\"translate(46.590804 56.553661)scale(0.1 -0.1)\">\n     <use xlink:href=\"#DejaVuSans-31\"/>\n    </g>\n   </g>\n   <g id=\"text_25\">\n    <!-- 0 -->\n    <g style=\"fill:#fde725;\" transform=\"translate(77.653661 56.553661)scale(0.1 -0.1)\">\n     <use xlink:href=\"#DejaVuSans-30\"/>\n    </g>\n   </g>\n   <g id=\"text_26\">\n    <!-- 0 -->\n    <g style=\"fill:#fde725;\" transform=\"translate(108.716518 56.553661)scale(0.1 -0.1)\">\n     <use xlink:href=\"#DejaVuSans-30\"/>\n    </g>\n   </g>\n   <g id=\"text_27\">\n    <!-- 1 -->\n    <g style=\"fill:#fde725;\" transform=\"translate(139.779375 56.553661)scale(0.1 -0.1)\">\n     <use xlink:href=\"#DejaVuSans-31\"/>\n    </g>\n   </g>\n   <g id=\"text_28\">\n    <!-- 1 -->\n    <g style=\"fill:#fde725;\" transform=\"translate(170.842232 56.553661)scale(0.1 -0.1)\">\n     <use xlink:href=\"#DejaVuSans-31\"/>\n    </g>\n   </g>\n   <g id=\"text_29\">\n    <!-- 3 -->\n    <g style=\"fill:#fde725;\" transform=\"translate(201.905089 56.553661)scale(0.1 -0.1)\">\n     <use xlink:href=\"#DejaVuSans-33\"/>\n    </g>\n   </g>\n   <g id=\"text_30\">\n    <!-- 0 -->\n    <g style=\"fill:#fde725;\" transform=\"translate(232.967946 56.553661)scale(0.1 -0.1)\">\n     <use xlink:href=\"#DejaVuSans-30\"/>\n    </g>\n   </g>\n   <g id=\"text_31\">\n    <!-- 3 -->\n    <g style=\"fill:#fde725;\" transform=\"translate(46.590804 87.616518)scale(0.1 -0.1)\">\n     <use xlink:href=\"#DejaVuSans-33\"/>\n    </g>\n   </g>\n   <g id=\"text_32\">\n    <!-- 0 -->\n    <g style=\"fill:#fde725;\" transform=\"translate(77.653661 87.616518)scale(0.1 -0.1)\">\n     <use xlink:href=\"#DejaVuSans-30\"/>\n    </g>\n   </g>\n   <g id=\"text_33\">\n    <!-- 0 -->\n    <g style=\"fill:#fde725;\" transform=\"translate(108.716518 87.616518)scale(0.1 -0.1)\">\n     <use xlink:href=\"#DejaVuSans-30\"/>\n    </g>\n   </g>\n   <g id=\"text_34\">\n    <!-- 1 -->\n    <g style=\"fill:#fde725;\" transform=\"translate(139.779375 87.616518)scale(0.1 -0.1)\">\n     <use xlink:href=\"#DejaVuSans-31\"/>\n    </g>\n   </g>\n   <g id=\"text_35\">\n    <!-- 0 -->\n    <g style=\"fill:#fde725;\" transform=\"translate(170.842232 87.616518)scale(0.1 -0.1)\">\n     <use xlink:href=\"#DejaVuSans-30\"/>\n    </g>\n   </g>\n   <g id=\"text_36\">\n    <!-- 0 -->\n    <g style=\"fill:#fde725;\" transform=\"translate(201.905089 87.616518)scale(0.1 -0.1)\">\n     <use xlink:href=\"#DejaVuSans-30\"/>\n    </g>\n   </g>\n   <g id=\"text_37\">\n    <!-- 0 -->\n    <g style=\"fill:#fde725;\" transform=\"translate(232.967946 87.616518)scale(0.1 -0.1)\">\n     <use xlink:href=\"#DejaVuSans-30\"/>\n    </g>\n   </g>\n   <g id=\"text_38\">\n    <!-- 10 -->\n    <g style=\"fill:#fde725;\" transform=\"translate(43.409554 118.679375)scale(0.1 -0.1)\">\n     <use xlink:href=\"#DejaVuSans-31\"/>\n     <use x=\"63.623047\" xlink:href=\"#DejaVuSans-30\"/>\n    </g>\n   </g>\n   <g id=\"text_39\">\n    <!-- 0 -->\n    <g style=\"fill:#fde725;\" transform=\"translate(77.653661 118.679375)scale(0.1 -0.1)\">\n     <use xlink:href=\"#DejaVuSans-30\"/>\n    </g>\n   </g>\n   <g id=\"text_40\">\n    <!-- 2 -->\n    <g style=\"fill:#fde725;\" transform=\"translate(108.716518 118.679375)scale(0.1 -0.1)\">\n     <use xlink:href=\"#DejaVuSans-32\"/>\n    </g>\n   </g>\n   <g id=\"text_41\">\n    <!-- 5 -->\n    <g style=\"fill:#fde725;\" transform=\"translate(139.779375 118.679375)scale(0.1 -0.1)\">\n     <use xlink:href=\"#DejaVuSans-35\"/>\n    </g>\n   </g>\n   <g id=\"text_42\">\n    <!-- 2 -->\n    <g style=\"fill:#fde725;\" transform=\"translate(170.842232 118.679375)scale(0.1 -0.1)\">\n     <use xlink:href=\"#DejaVuSans-32\"/>\n    </g>\n   </g>\n   <g id=\"text_43\">\n    <!-- 2 -->\n    <g style=\"fill:#fde725;\" transform=\"translate(201.905089 118.679375)scale(0.1 -0.1)\">\n     <use xlink:href=\"#DejaVuSans-32\"/>\n    </g>\n   </g>\n   <g id=\"text_44\">\n    <!-- 0 -->\n    <g style=\"fill:#fde725;\" transform=\"translate(232.967946 118.679375)scale(0.1 -0.1)\">\n     <use xlink:href=\"#DejaVuSans-30\"/>\n    </g>\n   </g>\n   <g id=\"text_45\">\n    <!-- 3 -->\n    <g style=\"fill:#fde725;\" transform=\"translate(46.590804 149.742232)scale(0.1 -0.1)\">\n     <use xlink:href=\"#DejaVuSans-33\"/>\n    </g>\n   </g>\n   <g id=\"text_46\">\n    <!-- 0 -->\n    <g style=\"fill:#fde725;\" transform=\"translate(77.653661 149.742232)scale(0.1 -0.1)\">\n     <use xlink:href=\"#DejaVuSans-30\"/>\n    </g>\n   </g>\n   <g id=\"text_47\">\n    <!-- 2 -->\n    <g style=\"fill:#fde725;\" transform=\"translate(108.716518 149.742232)scale(0.1 -0.1)\">\n     <use xlink:href=\"#DejaVuSans-32\"/>\n    </g>\n   </g>\n   <g id=\"text_48\">\n    <!-- 4 -->\n    <g style=\"fill:#fde725;\" transform=\"translate(139.779375 149.742232)scale(0.1 -0.1)\">\n     <use xlink:href=\"#DejaVuSans-34\"/>\n    </g>\n   </g>\n   <g id=\"text_49\">\n    <!-- 2 -->\n    <g style=\"fill:#fde725;\" transform=\"translate(170.842232 149.742232)scale(0.1 -0.1)\">\n     <use xlink:href=\"#DejaVuSans-32\"/>\n    </g>\n   </g>\n   <g id=\"text_50\">\n    <!-- 3 -->\n    <g style=\"fill:#fde725;\" transform=\"translate(201.905089 149.742232)scale(0.1 -0.1)\">\n     <use xlink:href=\"#DejaVuSans-33\"/>\n    </g>\n   </g>\n   <g id=\"text_51\">\n    <!-- 0 -->\n    <g style=\"fill:#fde725;\" transform=\"translate(232.967946 149.742232)scale(0.1 -0.1)\">\n     <use xlink:href=\"#DejaVuSans-30\"/>\n    </g>\n   </g>\n   <g id=\"text_52\">\n    <!-- 5 -->\n    <g style=\"fill:#fde725;\" transform=\"translate(46.590804 180.805089)scale(0.1 -0.1)\">\n     <use xlink:href=\"#DejaVuSans-35\"/>\n    </g>\n   </g>\n   <g id=\"text_53\">\n    <!-- 0 -->\n    <g style=\"fill:#fde725;\" transform=\"translate(77.653661 180.805089)scale(0.1 -0.1)\">\n     <use xlink:href=\"#DejaVuSans-30\"/>\n    </g>\n   </g>\n   <g id=\"text_54\">\n    <!-- 0 -->\n    <g style=\"fill:#fde725;\" transform=\"translate(108.716518 180.805089)scale(0.1 -0.1)\">\n     <use xlink:href=\"#DejaVuSans-30\"/>\n    </g>\n   </g>\n   <g id=\"text_55\">\n    <!-- 10 -->\n    <g style=\"fill:#fde725;\" transform=\"translate(136.598125 180.805089)scale(0.1 -0.1)\">\n     <use xlink:href=\"#DejaVuSans-31\"/>\n     <use x=\"63.623047\" xlink:href=\"#DejaVuSans-30\"/>\n    </g>\n   </g>\n   <g id=\"text_56\">\n    <!-- 1 -->\n    <g style=\"fill:#fde725;\" transform=\"translate(170.842232 180.805089)scale(0.1 -0.1)\">\n     <use xlink:href=\"#DejaVuSans-31\"/>\n    </g>\n   </g>\n   <g id=\"text_57\">\n    <!-- 45 -->\n    <g style=\"fill:#fde725;\" transform=\"translate(198.723839 180.805089)scale(0.1 -0.1)\">\n     <use xlink:href=\"#DejaVuSans-34\"/>\n     <use x=\"63.623047\" xlink:href=\"#DejaVuSans-35\"/>\n    </g>\n   </g>\n   <g id=\"text_58\">\n    <!-- 0 -->\n    <g style=\"fill:#fde725;\" transform=\"translate(232.967946 180.805089)scale(0.1 -0.1)\">\n     <use xlink:href=\"#DejaVuSans-30\"/>\n    </g>\n   </g>\n   <g id=\"text_59\">\n    <!-- 8 -->\n    <g style=\"fill:#fde725;\" transform=\"translate(46.590804 211.867946)scale(0.1 -0.1)\">\n     <use xlink:href=\"#DejaVuSans-38\"/>\n    </g>\n   </g>\n   <g id=\"text_60\">\n    <!-- 0 -->\n    <g style=\"fill:#fde725;\" transform=\"translate(77.653661 211.867946)scale(0.1 -0.1)\">\n     <use xlink:href=\"#DejaVuSans-30\"/>\n    </g>\n   </g>\n   <g id=\"text_61\">\n    <!-- 0 -->\n    <g style=\"fill:#fde725;\" transform=\"translate(108.716518 211.867946)scale(0.1 -0.1)\">\n     <use xlink:href=\"#DejaVuSans-30\"/>\n    </g>\n   </g>\n   <g id=\"text_62\">\n    <!-- 0 -->\n    <g style=\"fill:#fde725;\" transform=\"translate(139.779375 211.867946)scale(0.1 -0.1)\">\n     <use xlink:href=\"#DejaVuSans-30\"/>\n    </g>\n   </g>\n   <g id=\"text_63\">\n    <!-- 0 -->\n    <g style=\"fill:#fde725;\" transform=\"translate(170.842232 211.867946)scale(0.1 -0.1)\">\n     <use xlink:href=\"#DejaVuSans-30\"/>\n    </g>\n   </g>\n   <g id=\"text_64\">\n    <!-- 0 -->\n    <g style=\"fill:#fde725;\" transform=\"translate(201.905089 211.867946)scale(0.1 -0.1)\">\n     <use xlink:href=\"#DejaVuSans-30\"/>\n    </g>\n   </g>\n   <g id=\"text_65\">\n    <!-- 4 -->\n    <g style=\"fill:#fde725;\" transform=\"translate(232.967946 211.867946)scale(0.1 -0.1)\">\n     <use xlink:href=\"#DejaVuSans-34\"/>\n    </g>\n   </g>\n  </g>\n  <g id=\"axes_2\">\n   <g id=\"patch_7\">\n    <path d=\"M 268.420625 224.64 \nL 279.292625 224.64 \nL 279.292625 7.2 \nL 268.420625 7.2 \nz\n\" style=\"fill:#ffffff;\"/>\n   </g>\n   <g id=\"patch_8\">\n    <path clip-path=\"url(#p7b8407f8a6)\" d=\"M 268.420625 224.64 \nL 268.420625 223.790625 \nL 268.420625 8.049375 \nL 268.420625 7.2 \nL 279.292625 7.2 \nL 279.292625 8.049375 \nL 279.292625 223.790625 \nL 279.292625 224.64 \nL 279.292625 224.64 \nz\n\" style=\"fill:#ffffff;stroke:#ffffff;stroke-linejoin:miter;stroke-width:0.01;\"/>\n   </g>\n   <image height=\"217\" id=\"image4e50535029\" transform=\"scale(1 -1)translate(0 -217)\" width=\"11\" x=\"268\" xlink:href=\"data:image/png;base64,\niVBORw0KGgoAAAANSUhEUgAAAAsAAADZCAYAAAD2WsoCAAABUklEQVR4nN2awQ3CQAwEz/aFyqiB/gsBQguex0g+eK9W6/HmAiTxzNe9mp8dGV3t2iuyL/acF3GOKhKDZE6SmTnPGHAIDSQuL4ZVUZGzFuNmmdtak8aUzB7n0pz7Wjog4Xx7lxUZ0CsSckboYOuQMxGTDaIYJ9KAA2p9ZuiI85BzY8YGj+yGdxRoFR2ylCk0+lo184wT6f/XPSTzgc5DYsDy96/vM9GNoAFCyDTAgN4GEWdYfssZfLs0B/Q4h5bZdCbi/FrOM9Cltm5Ew4wBxEWOAsZ5jUBXrM9WkSANK8YmNLwBmbNHIzQanjPhvPPTF5e4botGTaHhDWg5X4FooBhAjDaInNmAMzbIOBN0V7xJDK+iqBsInUYDDUiWgtaNrhQ4oHWHZRvUYjxYRdtamrlvvDZ4zrx2gd9L+yLPgJI4oxjMmWTeC7yuU+SdkwR/Uv0A7xuAaGKmOKMAAAAASUVORK5CYII=\" y=\"-7\"/>\n   <g id=\"matplotlib.axis_3\"/>\n   <g id=\"matplotlib.axis_4\">\n    <g id=\"ytick_8\">\n     <g id=\"line2d_15\">\n      <defs>\n       <path d=\"M 0 0 \nL 3.5 0 \n\" id=\"me66821fbda\" style=\"stroke:#000000;stroke-width:0.8;\"/>\n      </defs>\n      <g>\n       <use style=\"stroke:#000000;stroke-width:0.8;\" x=\"279.292625\" xlink:href=\"#me66821fbda\" y=\"224.64\"/>\n      </g>\n     </g>\n     <g id=\"text_66\">\n      <!-- 0 -->\n      <g transform=\"translate(286.292625 228.439219)scale(0.1 -0.1)\">\n       <use xlink:href=\"#DejaVuSans-30\"/>\n      </g>\n     </g>\n    </g>\n    <g id=\"ytick_9\">\n     <g id=\"line2d_16\">\n      <g>\n       <use style=\"stroke:#000000;stroke-width:0.8;\" x=\"279.292625\" xlink:href=\"#me66821fbda\" y=\"182.663166\"/>\n      </g>\n     </g>\n     <g id=\"text_67\">\n      <!-- 50 -->\n      <g transform=\"translate(286.292625 186.462385)scale(0.1 -0.1)\">\n       <use xlink:href=\"#DejaVuSans-35\"/>\n       <use x=\"63.623047\" xlink:href=\"#DejaVuSans-30\"/>\n      </g>\n     </g>\n    </g>\n    <g id=\"ytick_10\">\n     <g id=\"line2d_17\">\n      <g>\n       <use style=\"stroke:#000000;stroke-width:0.8;\" x=\"279.292625\" xlink:href=\"#me66821fbda\" y=\"140.686332\"/>\n      </g>\n     </g>\n     <g id=\"text_68\">\n      <!-- 100 -->\n      <g transform=\"translate(286.292625 144.485551)scale(0.1 -0.1)\">\n       <use xlink:href=\"#DejaVuSans-31\"/>\n       <use x=\"63.623047\" xlink:href=\"#DejaVuSans-30\"/>\n       <use x=\"127.246094\" xlink:href=\"#DejaVuSans-30\"/>\n      </g>\n     </g>\n    </g>\n    <g id=\"ytick_11\">\n     <g id=\"line2d_18\">\n      <g>\n       <use style=\"stroke:#000000;stroke-width:0.8;\" x=\"279.292625\" xlink:href=\"#me66821fbda\" y=\"98.709498\"/>\n      </g>\n     </g>\n     <g id=\"text_69\">\n      <!-- 150 -->\n      <g transform=\"translate(286.292625 102.508717)scale(0.1 -0.1)\">\n       <use xlink:href=\"#DejaVuSans-31\"/>\n       <use x=\"63.623047\" xlink:href=\"#DejaVuSans-35\"/>\n       <use x=\"127.246094\" xlink:href=\"#DejaVuSans-30\"/>\n      </g>\n     </g>\n    </g>\n    <g id=\"ytick_12\">\n     <g id=\"line2d_19\">\n      <g>\n       <use style=\"stroke:#000000;stroke-width:0.8;\" x=\"279.292625\" xlink:href=\"#me66821fbda\" y=\"56.732664\"/>\n      </g>\n     </g>\n     <g id=\"text_70\">\n      <!-- 200 -->\n      <g transform=\"translate(286.292625 60.531883)scale(0.1 -0.1)\">\n       <use xlink:href=\"#DejaVuSans-32\"/>\n       <use x=\"63.623047\" xlink:href=\"#DejaVuSans-30\"/>\n       <use x=\"127.246094\" xlink:href=\"#DejaVuSans-30\"/>\n      </g>\n     </g>\n    </g>\n    <g id=\"ytick_13\">\n     <g id=\"line2d_20\">\n      <g>\n       <use style=\"stroke:#000000;stroke-width:0.8;\" x=\"279.292625\" xlink:href=\"#me66821fbda\" y=\"14.75583\"/>\n      </g>\n     </g>\n     <g id=\"text_71\">\n      <!-- 250 -->\n      <g transform=\"translate(286.292625 18.555049)scale(0.1 -0.1)\">\n       <use xlink:href=\"#DejaVuSans-32\"/>\n       <use x=\"63.623047\" xlink:href=\"#DejaVuSans-35\"/>\n       <use x=\"127.246094\" xlink:href=\"#DejaVuSans-30\"/>\n      </g>\n     </g>\n    </g>\n   </g>\n   <g id=\"LineCollection_1\"/>\n   <g id=\"patch_9\">\n    <path d=\"M 268.420625 224.64 \nL 268.420625 223.790625 \nL 268.420625 8.049375 \nL 268.420625 7.2 \nL 279.292625 7.2 \nL 279.292625 8.049375 \nL 279.292625 223.790625 \nL 279.292625 224.64 \nz\n\" style=\"fill:none;stroke:#000000;stroke-linecap:square;stroke-linejoin:miter;stroke-width:0.8;\"/>\n   </g>\n  </g>\n </g>\n <defs>\n  <clipPath id=\"p500beeaf7e\">\n   <rect height=\"217.44\" width=\"217.44\" x=\"34.240625\" y=\"7.2\"/>\n  </clipPath>\n  <clipPath id=\"p7b8407f8a6\">\n   <rect height=\"217.44\" width=\"10.872\" x=\"268.420625\" y=\"7.2\"/>\n  </clipPath>\n </defs>\n</svg>\n",
      "image/png": "[encoded data removed]"
     },
     "metadata": {
      "needs_background": "light"
     }
    }
   ],
   "source": [
    "# Decision Tree Classifier\n",
    "\n",
    "dtc = DecisionTreeClassifier(class_weight = class_weight, random_state = 44)\n",
    "dtc.fit(X_train, y_train)\n",
    "y_preds_dtc = dtc.predict(X_test)\n",
    "\n",
    "# Confusion Matrix:\n",
    "\n",
    "print('-- DTC Baseline Confusion Matrix --')\n",
    "print(confusion_matrix(y_test, y_preds_dtc))\n",
    "\n",
    "print('-- DTC Baseline Classification Report --')\n",
    "print(classification_report(y_test, y_preds_grid))\n",
    "\n",
    "\n",
    "print('-- Plot Confusion Matrix --')\n",
    "plot_confusion_matrix(dtc, X_test, y_test)"
   ]
  },
  {
   "source": [
    "### Improve on DecisionTreeClassifier"
   ],
   "cell_type": "markdown",
   "metadata": {}
  },
  {
   "cell_type": "code",
   "execution_count": 127,
   "metadata": {},
   "outputs": [
    {
     "output_type": "stream",
     "name": "stdout",
     "text": [
      "Fitting 10 folds for each of 648 candidates, totalling 6480 fits\n",
      "/home/vbgupta/Desktop/School/ds310/school_env/lib/python3.8/site-packages/sklearn/model_selection/_split.py:666: UserWarning: The least populated class in y has only 6 members, which is less than n_splits=10.\n",
      "  warnings.warn((\"The least populated class in y has only %d\"\n",
      "/home/vbgupta/Desktop/School/ds310/school_env/lib/python3.8/site-packages/sklearn/model_selection/_search.py:918: UserWarning: One or more of the test scores are non-finite: [       nan 0.19873282 0.19873282 0.19873282 0.19873282 0.19873282\n",
      " 0.19873282 0.19873282 0.19873282        nan 0.19873282 0.19873282\n",
      " 0.19873282 0.19873282 0.19873282 0.19873282 0.19873282 0.19873282\n",
      "        nan 0.19873282 0.19873282 0.19873282 0.19873282 0.19873282\n",
      " 0.19873282 0.19873282 0.19873282        nan 0.19873282 0.19873282\n",
      " 0.19873282 0.19873282 0.19873282 0.19873282 0.19873282 0.19873282\n",
      "        nan 0.39547895 0.39547895 0.39547895 0.39547895 0.39547895\n",
      " 0.39547895 0.39547895 0.39547895        nan 0.39547895 0.39547895\n",
      " 0.39547895 0.39547895 0.39547895 0.39547895 0.39547895 0.39547895\n",
      "        nan 0.39547895 0.39547895 0.39547895 0.39547895 0.39547895\n",
      " 0.39547895 0.39547895 0.39547895        nan 0.39547895 0.39547895\n",
      " 0.39547895 0.39547895 0.39547895 0.39547895 0.39547895 0.39547895\n",
      "        nan 0.557936   0.557936   0.557936   0.557936   0.557936\n",
      " 0.557936   0.557936   0.557936          nan 0.557936   0.557936\n",
      " 0.557936   0.557936   0.557936   0.557936   0.557936   0.557936\n",
      "        nan 0.557936   0.557936   0.557936   0.557936   0.557936\n",
      " 0.557936   0.557936   0.557936          nan 0.557936   0.557936\n",
      " 0.557936   0.557936   0.557936   0.557936   0.557936   0.557936\n",
      "        nan 0.61593643 0.61593643 0.61593643 0.61593643 0.61593643\n",
      " 0.61593643 0.61593643 0.61593643        nan 0.6149055  0.6149055\n",
      " 0.6149055  0.6149055  0.6149055  0.6149055  0.6149055  0.6149055\n",
      "        nan 0.61593643 0.61593643 0.61593643 0.61593643 0.61593643\n",
      " 0.61593643 0.61593643 0.61593643        nan 0.61593643 0.61593643\n",
      " 0.61593643 0.61593643 0.61593643 0.61593643 0.61593643 0.61593643\n",
      "        nan 0.67388316 0.67388316 0.67388316 0.67388316 0.67388316\n",
      " 0.67388316 0.67388316 0.67285223        nan 0.6738939  0.6738939\n",
      " 0.6738939  0.6738939  0.6738939  0.6738939  0.6738939  0.67286297\n",
      "        nan 0.6738939  0.6738939  0.6738939  0.6738939  0.6738939\n",
      " 0.6738939  0.6738939  0.6738939         nan 0.67492483 0.67492483\n",
      " 0.67492483 0.67492483 0.67492483 0.67492483 0.67492483 0.67492483\n",
      "        nan 0.71011598 0.71011598 0.71114691 0.70908505 0.71011598\n",
      " 0.71011598 0.71114691 0.70805412        nan 0.70908505 0.70908505\n",
      " 0.70908505 0.70805412 0.70805412 0.70805412 0.70805412 0.70599227\n",
      "        nan 0.70805412 0.70805412 0.70805412 0.70805412 0.70805412\n",
      " 0.70805412 0.70805412 0.7070232         nan 0.71010524 0.71010524\n",
      " 0.71010524 0.71010524 0.71010524 0.71010524 0.71010524 0.70804338\n",
      "        nan 0.72153136 0.72360395 0.71739691 0.71945876 0.72152062\n",
      " 0.71945876 0.71323024 0.71426117        nan 0.71635524 0.71635524\n",
      " 0.71635524 0.71533505 0.7184171  0.71739691 0.71116838 0.71012672\n",
      "        nan 0.71117912 0.71117912 0.71117912 0.71117912 0.71117912\n",
      " 0.71325172 0.71116838 0.70908505        nan 0.71218857 0.71218857\n",
      " 0.71218857 0.71218857 0.71218857 0.71218857 0.71218857 0.70907431\n",
      "        nan 0.73187285 0.72875859 0.73289304 0.73083119 0.72876933\n",
      " 0.72876933 0.72359321 0.72047895        nan 0.72772766 0.72772766\n",
      " 0.72772766 0.726686   0.72257302 0.72566581 0.71840636 0.7152921\n",
      "        nan 0.71944802 0.71944802 0.71944802 0.71944802 0.71944802\n",
      " 0.72152062 0.71425043 0.7152921         nan 0.71631229 0.71631229\n",
      " 0.71631229 0.71631229 0.71631229 0.71631229 0.71631229 0.71632302\n",
      "        nan 0.73912156 0.73705971 0.73911082 0.73292526 0.73291452\n",
      " 0.73084192 0.72357174 0.72044674        nan 0.7277384  0.7277384\n",
      " 0.7277384  0.72360395 0.73083119 0.73085266 0.72564433 0.7184171\n",
      "        nan 0.72257302 0.72257302 0.72257302 0.72257302 0.72257302\n",
      " 0.71948024 0.71532431 0.71427191        nan 0.71839562 0.71839562\n",
      " 0.71839562 0.71839562 0.71839562 0.71839562 0.71839562 0.71943729\n",
      "        nan 0.19873282 0.19873282 0.19873282 0.19873282 0.19873282\n",
      " 0.19873282 0.19873282 0.19873282        nan 0.19873282 0.19873282\n",
      " 0.19873282 0.19873282 0.19873282 0.19873282 0.19873282 0.19873282\n",
      "        nan 0.19873282 0.19873282 0.19873282 0.19873282 0.19873282\n",
      " 0.19873282 0.19873282 0.19873282        nan 0.19873282 0.19873282\n",
      " 0.19873282 0.19873282 0.19873282 0.19873282 0.19873282 0.19873282\n",
      "        nan 0.39547895 0.39547895 0.39547895 0.39547895 0.39547895\n",
      " 0.39547895 0.39547895 0.39547895        nan 0.39547895 0.39547895\n",
      " 0.39547895 0.39547895 0.39547895 0.39547895 0.39547895 0.39547895\n",
      "        nan 0.39547895 0.39547895 0.39547895 0.39547895 0.39547895\n",
      " 0.39547895 0.39547895 0.39547895        nan 0.39547895 0.39547895\n",
      " 0.39547895 0.39547895 0.39547895 0.39547895 0.39547895 0.39547895\n",
      "        nan 0.56005155 0.56005155 0.56005155 0.56005155 0.56005155\n",
      " 0.56005155 0.56005155 0.56005155        nan 0.56005155 0.56005155\n",
      " 0.56005155 0.56005155 0.56005155 0.56005155 0.56005155 0.56005155\n",
      "        nan 0.56005155 0.56005155 0.56005155 0.56005155 0.56005155\n",
      " 0.56005155 0.56005155 0.56005155        nan 0.56005155 0.56005155\n",
      " 0.56005155 0.56005155 0.56005155 0.56005155 0.56005155 0.56005155\n",
      "        nan 0.62517182 0.62517182 0.62517182 0.62517182 0.62517182\n",
      " 0.62517182 0.62517182 0.62517182        nan 0.62414089 0.62414089\n",
      " 0.62414089 0.62414089 0.62414089 0.62414089 0.62414089 0.62414089\n",
      "        nan 0.62517182 0.62517182 0.62517182 0.62517182 0.62517182\n",
      " 0.62517182 0.62517182 0.62517182        nan 0.62517182 0.62517182\n",
      " 0.62517182 0.62517182 0.62517182 0.62517182 0.62517182 0.62517182\n",
      "        nan 0.67488187 0.67488187 0.67488187 0.67488187 0.67488187\n",
      " 0.67488187 0.67488187 0.67385095        nan 0.67282002 0.67282002\n",
      " 0.67282002 0.67282002 0.67282002 0.67282002 0.67282002 0.67178909\n",
      "        nan 0.67488187 0.67488187 0.67488187 0.67488187 0.67488187\n",
      " 0.67488187 0.67488187 0.67385095        nan 0.67282002 0.67282002\n",
      " 0.67282002 0.67282002 0.67282002 0.67282002 0.67282002 0.67282002\n",
      "        nan 0.69352448 0.69352448 0.69249356 0.69249356 0.69248282\n",
      " 0.69454467 0.69351375 0.69145189        nan 0.69146263 0.69146263\n",
      " 0.69146263 0.69146263 0.69145189 0.69351375 0.69351375 0.69145189\n",
      "        nan 0.69661727 0.69661727 0.69661727 0.69661727 0.69661727\n",
      " 0.6976482  0.69558634 0.69455541        nan 0.69558634 0.69558634\n",
      " 0.69558634 0.69558634 0.69558634 0.69558634 0.69558634 0.69352448\n",
      "        nan 0.72355026 0.72250859 0.7214884  0.72147766 0.71837414\n",
      " 0.71733247 0.71837414 0.71735395        nan 0.72045747 0.72045747\n",
      " 0.72045747 0.72250859 0.71940507 0.71733247 0.71837414 0.71838488\n",
      "        nan 0.72146692 0.72146692 0.72146692 0.72146692 0.72146692\n",
      " 0.71940507 0.72044674 0.72045747        nan 0.71837414 0.71837414\n",
      " 0.71837414 0.71837414 0.71837414 0.71837414 0.71837414 0.71631229\n",
      "        nan 0.73184064 0.73083119 0.73292526 0.72980026 0.72672895\n",
      " 0.72050043 0.7215421  0.72048969        nan 0.72464562 0.72464562\n",
      " 0.72464562 0.73188359 0.72774914 0.72257302 0.72464562 0.72153136\n",
      "        nan 0.7246134  0.7246134  0.7246134  0.7246134  0.7246134\n",
      " 0.72565507 0.7277384  0.72255155        nan 0.72150988 0.72150988\n",
      " 0.72150988 0.72150988 0.72150988 0.72150988 0.72150988 0.72667526\n",
      "        nan 0.73186211 0.7277384  0.73186211 0.72976804 0.73084192\n",
      " 0.72980026 0.72256229 0.7246134         nan 0.7277384  0.7277384\n",
      " 0.7277384  0.72670747 0.72669674 0.729811   0.72463488 0.72255155\n",
      "        nan 0.72359321 0.72359321 0.72359321 0.72359321 0.72359321\n",
      " 0.72153136 0.72153136 0.72462414        nan 0.72875859 0.72875859\n",
      " 0.72875859 0.72875859 0.72875859 0.72875859 0.72875859 0.726686  ]\n",
      "  warnings.warn(\n",
      "Best Grid Params: {'criterion': 'gini', 'max_depth': 9, 'min_samples_leaf': 1, 'min_samples_split': 2}\n",
      "[[234   0   3  14   6  15  24]\n",
      " [  2   0   0   1   0   3   0]\n",
      " [  1   0   1   1   1   0   0]\n",
      " [  7   0   0   7   1   6   0]\n",
      " [  4   0   1   3   1   5   0]\n",
      " [  1   0   1  10   2  47   0]\n",
      " [  5   0   0   0   0   0   7]]\n"
     ]
    },
    {
     "output_type": "execute_result",
     "data": {
      "text/plain": [
       "<sklearn.metrics._plot.confusion_matrix.ConfusionMatrixDisplay at 0x7ff0ffce33d0>"
      ]
     },
     "metadata": {},
     "execution_count": 127
    },
    {
     "output_type": "display_data",
     "data": {
      "text/plain": "<Figure size 432x288 with 2 Axes>",
      "image/svg+xml": "<?xml version=\"1.0\" encoding=\"utf-8\" standalone=\"no\"?>\n<!DOCTYPE svg PUBLIC \"-//W3C//DTD SVG 1.1//EN\"\n  \"http://www.w3.org/Graphics/SVG/1.1/DTD/svg11.dtd\">\n<svg height=\"262.19625pt\" version=\"1.1\" viewBox=\"0 0 312.580125 262.19625\" width=\"312.580125pt\" xmlns=\"http://www.w3.org/2000/svg\" xmlns:xlink=\"http://www.w3.org/1999/xlink\">\n <metadata>\n  <rdf:RDF xmlns:cc=\"http://creativecommons.org/ns#\" xmlns:dc=\"http://purl.org/dc/elements/1.1/\" xmlns:rdf=\"http://www.w3.org/1999/02/22-rdf-syntax-ns#\">\n   <cc:Work>\n    <dc:type rdf:resource=\"http://purl.org/dc/dcmitype/StillImage\"/>\n    <dc:date>2021-05-07T01:56:35.315372</dc:date>\n    <dc:format>image/svg+xml</dc:format>\n    <dc:creator>\n     <cc:Agent>\n      <dc:title>Matplotlib v3.4.1, https://matplotlib.org/</dc:title>\n     </cc:Agent>\n    </dc:creator>\n   </cc:Work>\n  </rdf:RDF>\n </metadata>\n <defs>\n  <style type=\"text/css\">*{stroke-linecap:butt;stroke-linejoin:round;}</style>\n </defs>\n <g id=\"figure_1\">\n  <g id=\"patch_1\">\n   <path d=\"M 0 262.19625 \nL 312.580125 262.19625 \nL 312.580125 0 \nL 0 0 \nz\n\" style=\"fill:none;\"/>\n  </g>\n  <g id=\"axes_1\">\n   <g id=\"patch_2\">\n    <path d=\"M 34.240625 224.64 \nL 251.680625 224.64 \nL 251.680625 7.2 \nL 34.240625 7.2 \nz\n\" style=\"fill:#ffffff;\"/>\n   </g>\n   <g clip-path=\"url(#p91ccdcc496)\">\n    <image height=\"218\" id=\"image3af89e81bb\" transform=\"scale(1 -1)translate(0 -218)\" width=\"218\" x=\"34.240625\" xlink:href=\"data:image/png;base64,\niVBORw0KGgoAAAANSUhEUgAAANoAAADaCAYAAADAHVzbAAADRElEQVR4nO3dvW0VURRG0TtmjJCRQU6JKcAlkCCKoFcyQjJ6oACD/7Df0MU+El6rgW/ek7ZueLbPb74ea8jx8DA1zQt0dnExtz22DC+I0CAgNAgIDQJCg4DQICA0CAgNAkKDgNAgIDQICA0CQoOA0CAgNAgIDQJCg4DQICA0CAgNAkKDgNAgIDQICA0CQoOA0CAgNAgIDQJCg4DQILAfj4/T3zBj28amX11ejm2vtdbz7z9j20+frse2928/xra9aBAQGgSEBgGhQUBoEBAaBIQGAaFBQGgQEBoEhAYBoUFAaBAQGgSEBgGhQUBoEBAaBIQGAaFBQGgQEBoEhAYBoUFAaBAQGgSEBgGhQUBoEBAaBPZtPx8bP/6+zJNRp9vb2Q84TmPT599/jm0fY8teNEgIDQJCg4DQICA0CAgNAkKDgNAgIDQICA0CQoOA0CAgNAgIDQJCg4DQICA0CAgNAkKDgNAgIDQICA0CQoOA0CAgNAgIDQJCg4DQICA0CAgNAvt2vo+Nj55tOuaO+GyvX49tr7XWcXc3tr1t29i2s03wnxMaBIQGAaFBQGgQEBoEhAYBoUFAaBAQGgSEBgGhQUBoEBAaBIQGAaFBQGgQEBoEhAYBoUFAaBAQGgSEBgGhQUBoEBAaBIQGAaFBQGgQEBoEhAaB/TR4K2vU4J2uF/ufr7VO9/fTnzDCiwYBoUFAaBAQGgSEBgGhQUBoEBAaBIQGAaFBQGgQEBoEhAYBoUFAaBAQGgSEBgGhQUBoEBAaBIQGAaFBQGgQEBoEhAYBoUFAaBAQGgSEBgGhQWBf22Brx/Pg9jG3PXgyaq01+tu3fR/bPp6exra9aBAQGgSEBgGhQUBoEBAaBIQGAaFBQGgQEBoEhAYBoUFAaBAQGgSEBgGhQUBoEBAaBIQGAaFBQGgQEBoEhAYBoUFAaBAQGgSEBgGhQUBoEBAaBLbnXx/Hbvh8+XA9NT16Pujs6mpse621jpubse3t/bux7XX5dmzaiwYBoUFAaBAQGgSEBgGhQUBoEBAaBIQGAaFBQGgQEBoEhAYBoUFAaBAQGgSEBgGhQUBoEBAaBIQGAaFBQGgQEBoEhAYBoUFAaBAQGgSEBgGhQeAfrgY7fRZqqEsAAAAASUVORK5CYII=\" y=\"-6.64\"/>\n   </g>\n   <g id=\"matplotlib.axis_1\">\n    <g id=\"xtick_1\">\n     <g id=\"line2d_1\">\n      <defs>\n       <path d=\"M 0 0 \nL 0 3.5 \n\" id=\"mb592992ea2\" style=\"stroke:#000000;stroke-width:0.8;\"/>\n      </defs>\n      <g>\n       <use style=\"stroke:#000000;stroke-width:0.8;\" x=\"49.772054\" xlink:href=\"#mb592992ea2\" y=\"224.64\"/>\n      </g>\n     </g>\n     <g id=\"text_1\">\n      <!-- 0 -->\n      <g transform=\"translate(46.590804 239.238438)scale(0.1 -0.1)\">\n       <defs>\n        <path d=\"M 2034 4250 \nQ 1547 4250 1301 3770 \nQ 1056 3291 1056 2328 \nQ 1056 1369 1301 889 \nQ 1547 409 2034 409 \nQ 2525 409 2770 889 \nQ 3016 1369 3016 2328 \nQ 3016 3291 2770 3770 \nQ 2525 4250 2034 4250 \nz\nM 2034 4750 \nQ 2819 4750 3233 4129 \nQ 3647 3509 3647 2328 \nQ 3647 1150 3233 529 \nQ 2819 -91 2034 -91 \nQ 1250 -91 836 529 \nQ 422 1150 422 2328 \nQ 422 3509 836 4129 \nQ 1250 4750 2034 4750 \nz\n\" id=\"DejaVuSans-30\" transform=\"scale(0.015625)\"/>\n       </defs>\n       <use xlink:href=\"#DejaVuSans-30\"/>\n      </g>\n     </g>\n    </g>\n    <g id=\"xtick_2\">\n     <g id=\"line2d_2\">\n      <g>\n       <use style=\"stroke:#000000;stroke-width:0.8;\" x=\"80.834911\" xlink:href=\"#mb592992ea2\" y=\"224.64\"/>\n      </g>\n     </g>\n     <g id=\"text_2\">\n      <!-- 1 -->\n      <g transform=\"translate(77.653661 239.238438)scale(0.1 -0.1)\">\n       <defs>\n        <path d=\"M 794 531 \nL 1825 531 \nL 1825 4091 \nL 703 3866 \nL 703 4441 \nL 1819 4666 \nL 2450 4666 \nL 2450 531 \nL 3481 531 \nL 3481 0 \nL 794 0 \nL 794 531 \nz\n\" id=\"DejaVuSans-31\" transform=\"scale(0.015625)\"/>\n       </defs>\n       <use xlink:href=\"#DejaVuSans-31\"/>\n      </g>\n     </g>\n    </g>\n    <g id=\"xtick_3\">\n     <g id=\"line2d_3\">\n      <g>\n       <use style=\"stroke:#000000;stroke-width:0.8;\" x=\"111.897768\" xlink:href=\"#mb592992ea2\" y=\"224.64\"/>\n      </g>\n     </g>\n     <g id=\"text_3\">\n      <!-- 2 -->\n      <g transform=\"translate(108.716518 239.238438)scale(0.1 -0.1)\">\n       <defs>\n        <path d=\"M 1228 531 \nL 3431 531 \nL 3431 0 \nL 469 0 \nL 469 531 \nQ 828 903 1448 1529 \nQ 2069 2156 2228 2338 \nQ 2531 2678 2651 2914 \nQ 2772 3150 2772 3378 \nQ 2772 3750 2511 3984 \nQ 2250 4219 1831 4219 \nQ 1534 4219 1204 4116 \nQ 875 4013 500 3803 \nL 500 4441 \nQ 881 4594 1212 4672 \nQ 1544 4750 1819 4750 \nQ 2544 4750 2975 4387 \nQ 3406 4025 3406 3419 \nQ 3406 3131 3298 2873 \nQ 3191 2616 2906 2266 \nQ 2828 2175 2409 1742 \nQ 1991 1309 1228 531 \nz\n\" id=\"DejaVuSans-32\" transform=\"scale(0.015625)\"/>\n       </defs>\n       <use xlink:href=\"#DejaVuSans-32\"/>\n      </g>\n     </g>\n    </g>\n    <g id=\"xtick_4\">\n     <g id=\"line2d_4\">\n      <g>\n       <use style=\"stroke:#000000;stroke-width:0.8;\" x=\"142.960625\" xlink:href=\"#mb592992ea2\" y=\"224.64\"/>\n      </g>\n     </g>\n     <g id=\"text_4\">\n      <!-- 3 -->\n      <g transform=\"translate(139.779375 239.238438)scale(0.1 -0.1)\">\n       <defs>\n        <path d=\"M 2597 2516 \nQ 3050 2419 3304 2112 \nQ 3559 1806 3559 1356 \nQ 3559 666 3084 287 \nQ 2609 -91 1734 -91 \nQ 1441 -91 1130 -33 \nQ 819 25 488 141 \nL 488 750 \nQ 750 597 1062 519 \nQ 1375 441 1716 441 \nQ 2309 441 2620 675 \nQ 2931 909 2931 1356 \nQ 2931 1769 2642 2001 \nQ 2353 2234 1838 2234 \nL 1294 2234 \nL 1294 2753 \nL 1863 2753 \nQ 2328 2753 2575 2939 \nQ 2822 3125 2822 3475 \nQ 2822 3834 2567 4026 \nQ 2313 4219 1838 4219 \nQ 1578 4219 1281 4162 \nQ 984 4106 628 3988 \nL 628 4550 \nQ 988 4650 1302 4700 \nQ 1616 4750 1894 4750 \nQ 2613 4750 3031 4423 \nQ 3450 4097 3450 3541 \nQ 3450 3153 3228 2886 \nQ 3006 2619 2597 2516 \nz\n\" id=\"DejaVuSans-33\" transform=\"scale(0.015625)\"/>\n       </defs>\n       <use xlink:href=\"#DejaVuSans-33\"/>\n      </g>\n     </g>\n    </g>\n    <g id=\"xtick_5\">\n     <g id=\"line2d_5\">\n      <g>\n       <use style=\"stroke:#000000;stroke-width:0.8;\" x=\"174.023482\" xlink:href=\"#mb592992ea2\" y=\"224.64\"/>\n      </g>\n     </g>\n     <g id=\"text_5\">\n      <!-- 4 -->\n      <g transform=\"translate(170.842232 239.238438)scale(0.1 -0.1)\">\n       <defs>\n        <path d=\"M 2419 4116 \nL 825 1625 \nL 2419 1625 \nL 2419 4116 \nz\nM 2253 4666 \nL 3047 4666 \nL 3047 1625 \nL 3713 1625 \nL 3713 1100 \nL 3047 1100 \nL 3047 0 \nL 2419 0 \nL 2419 1100 \nL 313 1100 \nL 313 1709 \nL 2253 4666 \nz\n\" id=\"DejaVuSans-34\" transform=\"scale(0.015625)\"/>\n       </defs>\n       <use xlink:href=\"#DejaVuSans-34\"/>\n      </g>\n     </g>\n    </g>\n    <g id=\"xtick_6\">\n     <g id=\"line2d_6\">\n      <g>\n       <use style=\"stroke:#000000;stroke-width:0.8;\" x=\"205.086339\" xlink:href=\"#mb592992ea2\" y=\"224.64\"/>\n      </g>\n     </g>\n     <g id=\"text_6\">\n      <!-- 5 -->\n      <g transform=\"translate(201.905089 239.238438)scale(0.1 -0.1)\">\n       <defs>\n        <path d=\"M 691 4666 \nL 3169 4666 \nL 3169 4134 \nL 1269 4134 \nL 1269 2991 \nQ 1406 3038 1543 3061 \nQ 1681 3084 1819 3084 \nQ 2600 3084 3056 2656 \nQ 3513 2228 3513 1497 \nQ 3513 744 3044 326 \nQ 2575 -91 1722 -91 \nQ 1428 -91 1123 -41 \nQ 819 9 494 109 \nL 494 744 \nQ 775 591 1075 516 \nQ 1375 441 1709 441 \nQ 2250 441 2565 725 \nQ 2881 1009 2881 1497 \nQ 2881 1984 2565 2268 \nQ 2250 2553 1709 2553 \nQ 1456 2553 1204 2497 \nQ 953 2441 691 2322 \nL 691 4666 \nz\n\" id=\"DejaVuSans-35\" transform=\"scale(0.015625)\"/>\n       </defs>\n       <use xlink:href=\"#DejaVuSans-35\"/>\n      </g>\n     </g>\n    </g>\n    <g id=\"xtick_7\">\n     <g id=\"line2d_7\">\n      <g>\n       <use style=\"stroke:#000000;stroke-width:0.8;\" x=\"236.149196\" xlink:href=\"#mb592992ea2\" y=\"224.64\"/>\n      </g>\n     </g>\n     <g id=\"text_7\">\n      <!-- 6 -->\n      <g transform=\"translate(232.967946 239.238438)scale(0.1 -0.1)\">\n       <defs>\n        <path d=\"M 2113 2584 \nQ 1688 2584 1439 2293 \nQ 1191 2003 1191 1497 \nQ 1191 994 1439 701 \nQ 1688 409 2113 409 \nQ 2538 409 2786 701 \nQ 3034 994 3034 1497 \nQ 3034 2003 2786 2293 \nQ 2538 2584 2113 2584 \nz\nM 3366 4563 \nL 3366 3988 \nQ 3128 4100 2886 4159 \nQ 2644 4219 2406 4219 \nQ 1781 4219 1451 3797 \nQ 1122 3375 1075 2522 \nQ 1259 2794 1537 2939 \nQ 1816 3084 2150 3084 \nQ 2853 3084 3261 2657 \nQ 3669 2231 3669 1497 \nQ 3669 778 3244 343 \nQ 2819 -91 2113 -91 \nQ 1303 -91 875 529 \nQ 447 1150 447 2328 \nQ 447 3434 972 4092 \nQ 1497 4750 2381 4750 \nQ 2619 4750 2861 4703 \nQ 3103 4656 3366 4563 \nz\n\" id=\"DejaVuSans-36\" transform=\"scale(0.015625)\"/>\n       </defs>\n       <use xlink:href=\"#DejaVuSans-36\"/>\n      </g>\n     </g>\n    </g>\n    <g id=\"text_8\">\n     <!-- Predicted label -->\n     <g transform=\"translate(105.808281 252.916563)scale(0.1 -0.1)\">\n      <defs>\n       <path d=\"M 1259 4147 \nL 1259 2394 \nL 2053 2394 \nQ 2494 2394 2734 2622 \nQ 2975 2850 2975 3272 \nQ 2975 3691 2734 3919 \nQ 2494 4147 2053 4147 \nL 1259 4147 \nz\nM 628 4666 \nL 2053 4666 \nQ 2838 4666 3239 4311 \nQ 3641 3956 3641 3272 \nQ 3641 2581 3239 2228 \nQ 2838 1875 2053 1875 \nL 1259 1875 \nL 1259 0 \nL 628 0 \nL 628 4666 \nz\n\" id=\"DejaVuSans-50\" transform=\"scale(0.015625)\"/>\n       <path d=\"M 2631 2963 \nQ 2534 3019 2420 3045 \nQ 2306 3072 2169 3072 \nQ 1681 3072 1420 2755 \nQ 1159 2438 1159 1844 \nL 1159 0 \nL 581 0 \nL 581 3500 \nL 1159 3500 \nL 1159 2956 \nQ 1341 3275 1631 3429 \nQ 1922 3584 2338 3584 \nQ 2397 3584 2469 3576 \nQ 2541 3569 2628 3553 \nL 2631 2963 \nz\n\" id=\"DejaVuSans-72\" transform=\"scale(0.015625)\"/>\n       <path d=\"M 3597 1894 \nL 3597 1613 \nL 953 1613 \nQ 991 1019 1311 708 \nQ 1631 397 2203 397 \nQ 2534 397 2845 478 \nQ 3156 559 3463 722 \nL 3463 178 \nQ 3153 47 2828 -22 \nQ 2503 -91 2169 -91 \nQ 1331 -91 842 396 \nQ 353 884 353 1716 \nQ 353 2575 817 3079 \nQ 1281 3584 2069 3584 \nQ 2775 3584 3186 3129 \nQ 3597 2675 3597 1894 \nz\nM 3022 2063 \nQ 3016 2534 2758 2815 \nQ 2500 3097 2075 3097 \nQ 1594 3097 1305 2825 \nQ 1016 2553 972 2059 \nL 3022 2063 \nz\n\" id=\"DejaVuSans-65\" transform=\"scale(0.015625)\"/>\n       <path d=\"M 2906 2969 \nL 2906 4863 \nL 3481 4863 \nL 3481 0 \nL 2906 0 \nL 2906 525 \nQ 2725 213 2448 61 \nQ 2172 -91 1784 -91 \nQ 1150 -91 751 415 \nQ 353 922 353 1747 \nQ 353 2572 751 3078 \nQ 1150 3584 1784 3584 \nQ 2172 3584 2448 3432 \nQ 2725 3281 2906 2969 \nz\nM 947 1747 \nQ 947 1113 1208 752 \nQ 1469 391 1925 391 \nQ 2381 391 2643 752 \nQ 2906 1113 2906 1747 \nQ 2906 2381 2643 2742 \nQ 2381 3103 1925 3103 \nQ 1469 3103 1208 2742 \nQ 947 2381 947 1747 \nz\n\" id=\"DejaVuSans-64\" transform=\"scale(0.015625)\"/>\n       <path d=\"M 603 3500 \nL 1178 3500 \nL 1178 0 \nL 603 0 \nL 603 3500 \nz\nM 603 4863 \nL 1178 4863 \nL 1178 4134 \nL 603 4134 \nL 603 4863 \nz\n\" id=\"DejaVuSans-69\" transform=\"scale(0.015625)\"/>\n       <path d=\"M 3122 3366 \nL 3122 2828 \nQ 2878 2963 2633 3030 \nQ 2388 3097 2138 3097 \nQ 1578 3097 1268 2742 \nQ 959 2388 959 1747 \nQ 959 1106 1268 751 \nQ 1578 397 2138 397 \nQ 2388 397 2633 464 \nQ 2878 531 3122 666 \nL 3122 134 \nQ 2881 22 2623 -34 \nQ 2366 -91 2075 -91 \nQ 1284 -91 818 406 \nQ 353 903 353 1747 \nQ 353 2603 823 3093 \nQ 1294 3584 2113 3584 \nQ 2378 3584 2631 3529 \nQ 2884 3475 3122 3366 \nz\n\" id=\"DejaVuSans-63\" transform=\"scale(0.015625)\"/>\n       <path d=\"M 1172 4494 \nL 1172 3500 \nL 2356 3500 \nL 2356 3053 \nL 1172 3053 \nL 1172 1153 \nQ 1172 725 1289 603 \nQ 1406 481 1766 481 \nL 2356 481 \nL 2356 0 \nL 1766 0 \nQ 1100 0 847 248 \nQ 594 497 594 1153 \nL 594 3053 \nL 172 3053 \nL 172 3500 \nL 594 3500 \nL 594 4494 \nL 1172 4494 \nz\n\" id=\"DejaVuSans-74\" transform=\"scale(0.015625)\"/>\n       <path id=\"DejaVuSans-20\" transform=\"scale(0.015625)\"/>\n       <path d=\"M 603 4863 \nL 1178 4863 \nL 1178 0 \nL 603 0 \nL 603 4863 \nz\n\" id=\"DejaVuSans-6c\" transform=\"scale(0.015625)\"/>\n       <path d=\"M 2194 1759 \nQ 1497 1759 1228 1600 \nQ 959 1441 959 1056 \nQ 959 750 1161 570 \nQ 1363 391 1709 391 \nQ 2188 391 2477 730 \nQ 2766 1069 2766 1631 \nL 2766 1759 \nL 2194 1759 \nz\nM 3341 1997 \nL 3341 0 \nL 2766 0 \nL 2766 531 \nQ 2569 213 2275 61 \nQ 1981 -91 1556 -91 \nQ 1019 -91 701 211 \nQ 384 513 384 1019 \nQ 384 1609 779 1909 \nQ 1175 2209 1959 2209 \nL 2766 2209 \nL 2766 2266 \nQ 2766 2663 2505 2880 \nQ 2244 3097 1772 3097 \nQ 1472 3097 1187 3025 \nQ 903 2953 641 2809 \nL 641 3341 \nQ 956 3463 1253 3523 \nQ 1550 3584 1831 3584 \nQ 2591 3584 2966 3190 \nQ 3341 2797 3341 1997 \nz\n\" id=\"DejaVuSans-61\" transform=\"scale(0.015625)\"/>\n       <path d=\"M 3116 1747 \nQ 3116 2381 2855 2742 \nQ 2594 3103 2138 3103 \nQ 1681 3103 1420 2742 \nQ 1159 2381 1159 1747 \nQ 1159 1113 1420 752 \nQ 1681 391 2138 391 \nQ 2594 391 2855 752 \nQ 3116 1113 3116 1747 \nz\nM 1159 2969 \nQ 1341 3281 1617 3432 \nQ 1894 3584 2278 3584 \nQ 2916 3584 3314 3078 \nQ 3713 2572 3713 1747 \nQ 3713 922 3314 415 \nQ 2916 -91 2278 -91 \nQ 1894 -91 1617 61 \nQ 1341 213 1159 525 \nL 1159 0 \nL 581 0 \nL 581 4863 \nL 1159 4863 \nL 1159 2969 \nz\n\" id=\"DejaVuSans-62\" transform=\"scale(0.015625)\"/>\n      </defs>\n      <use xlink:href=\"#DejaVuSans-50\"/>\n      <use x=\"58.552734\" xlink:href=\"#DejaVuSans-72\"/>\n      <use x=\"97.416016\" xlink:href=\"#DejaVuSans-65\"/>\n      <use x=\"158.939453\" xlink:href=\"#DejaVuSans-64\"/>\n      <use x=\"222.416016\" xlink:href=\"#DejaVuSans-69\"/>\n      <use x=\"250.199219\" xlink:href=\"#DejaVuSans-63\"/>\n      <use x=\"305.179688\" xlink:href=\"#DejaVuSans-74\"/>\n      <use x=\"344.388672\" xlink:href=\"#DejaVuSans-65\"/>\n      <use x=\"405.912109\" xlink:href=\"#DejaVuSans-64\"/>\n      <use x=\"469.388672\" xlink:href=\"#DejaVuSans-20\"/>\n      <use x=\"501.175781\" xlink:href=\"#DejaVuSans-6c\"/>\n      <use x=\"528.958984\" xlink:href=\"#DejaVuSans-61\"/>\n      <use x=\"590.238281\" xlink:href=\"#DejaVuSans-62\"/>\n      <use x=\"653.714844\" xlink:href=\"#DejaVuSans-65\"/>\n      <use x=\"715.238281\" xlink:href=\"#DejaVuSans-6c\"/>\n     </g>\n    </g>\n   </g>\n   <g id=\"matplotlib.axis_2\">\n    <g id=\"ytick_1\">\n     <g id=\"line2d_8\">\n      <defs>\n       <path d=\"M 0 0 \nL -3.5 0 \n\" id=\"m5f854b6c55\" style=\"stroke:#000000;stroke-width:0.8;\"/>\n      </defs>\n      <g>\n       <use style=\"stroke:#000000;stroke-width:0.8;\" x=\"34.240625\" xlink:href=\"#m5f854b6c55\" y=\"22.731429\"/>\n      </g>\n     </g>\n     <g id=\"text_9\">\n      <!-- 0 -->\n      <g transform=\"translate(20.878125 26.530647)scale(0.1 -0.1)\">\n       <use xlink:href=\"#DejaVuSans-30\"/>\n      </g>\n     </g>\n    </g>\n    <g id=\"ytick_2\">\n     <g id=\"line2d_9\">\n      <g>\n       <use style=\"stroke:#000000;stroke-width:0.8;\" x=\"34.240625\" xlink:href=\"#m5f854b6c55\" y=\"53.794286\"/>\n      </g>\n     </g>\n     <g id=\"text_10\">\n      <!-- 1 -->\n      <g transform=\"translate(20.878125 57.593504)scale(0.1 -0.1)\">\n       <use xlink:href=\"#DejaVuSans-31\"/>\n      </g>\n     </g>\n    </g>\n    <g id=\"ytick_3\">\n     <g id=\"line2d_10\">\n      <g>\n       <use style=\"stroke:#000000;stroke-width:0.8;\" x=\"34.240625\" xlink:href=\"#m5f854b6c55\" y=\"84.857143\"/>\n      </g>\n     </g>\n     <g id=\"text_11\">\n      <!-- 2 -->\n      <g transform=\"translate(20.878125 88.656362)scale(0.1 -0.1)\">\n       <use xlink:href=\"#DejaVuSans-32\"/>\n      </g>\n     </g>\n    </g>\n    <g id=\"ytick_4\">\n     <g id=\"line2d_11\">\n      <g>\n       <use style=\"stroke:#000000;stroke-width:0.8;\" x=\"34.240625\" xlink:href=\"#m5f854b6c55\" y=\"115.92\"/>\n      </g>\n     </g>\n     <g id=\"text_12\">\n      <!-- 3 -->\n      <g transform=\"translate(20.878125 119.719219)scale(0.1 -0.1)\">\n       <use xlink:href=\"#DejaVuSans-33\"/>\n      </g>\n     </g>\n    </g>\n    <g id=\"ytick_5\">\n     <g id=\"line2d_12\">\n      <g>\n       <use style=\"stroke:#000000;stroke-width:0.8;\" x=\"34.240625\" xlink:href=\"#m5f854b6c55\" y=\"146.982857\"/>\n      </g>\n     </g>\n     <g id=\"text_13\">\n      <!-- 4 -->\n      <g transform=\"translate(20.878125 150.782076)scale(0.1 -0.1)\">\n       <use xlink:href=\"#DejaVuSans-34\"/>\n      </g>\n     </g>\n    </g>\n    <g id=\"ytick_6\">\n     <g id=\"line2d_13\">\n      <g>\n       <use style=\"stroke:#000000;stroke-width:0.8;\" x=\"34.240625\" xlink:href=\"#m5f854b6c55\" y=\"178.045714\"/>\n      </g>\n     </g>\n     <g id=\"text_14\">\n      <!-- 5 -->\n      <g transform=\"translate(20.878125 181.844933)scale(0.1 -0.1)\">\n       <use xlink:href=\"#DejaVuSans-35\"/>\n      </g>\n     </g>\n    </g>\n    <g id=\"ytick_7\">\n     <g id=\"line2d_14\">\n      <g>\n       <use style=\"stroke:#000000;stroke-width:0.8;\" x=\"34.240625\" xlink:href=\"#m5f854b6c55\" y=\"209.108571\"/>\n      </g>\n     </g>\n     <g id=\"text_15\">\n      <!-- 6 -->\n      <g transform=\"translate(20.878125 212.90779)scale(0.1 -0.1)\">\n       <use xlink:href=\"#DejaVuSans-36\"/>\n      </g>\n     </g>\n    </g>\n    <g id=\"text_16\">\n     <!-- True label -->\n     <g transform=\"translate(14.798437 140.219219)rotate(-90)scale(0.1 -0.1)\">\n      <defs>\n       <path d=\"M -19 4666 \nL 3928 4666 \nL 3928 4134 \nL 2272 4134 \nL 2272 0 \nL 1638 0 \nL 1638 4134 \nL -19 4134 \nL -19 4666 \nz\n\" id=\"DejaVuSans-54\" transform=\"scale(0.015625)\"/>\n       <path d=\"M 544 1381 \nL 544 3500 \nL 1119 3500 \nL 1119 1403 \nQ 1119 906 1312 657 \nQ 1506 409 1894 409 \nQ 2359 409 2629 706 \nQ 2900 1003 2900 1516 \nL 2900 3500 \nL 3475 3500 \nL 3475 0 \nL 2900 0 \nL 2900 538 \nQ 2691 219 2414 64 \nQ 2138 -91 1772 -91 \nQ 1169 -91 856 284 \nQ 544 659 544 1381 \nz\nM 1991 3584 \nL 1991 3584 \nz\n\" id=\"DejaVuSans-75\" transform=\"scale(0.015625)\"/>\n      </defs>\n      <use xlink:href=\"#DejaVuSans-54\"/>\n      <use x=\"46.333984\" xlink:href=\"#DejaVuSans-72\"/>\n      <use x=\"87.447266\" xlink:href=\"#DejaVuSans-75\"/>\n      <use x=\"150.826172\" xlink:href=\"#DejaVuSans-65\"/>\n      <use x=\"212.349609\" xlink:href=\"#DejaVuSans-20\"/>\n      <use x=\"244.136719\" xlink:href=\"#DejaVuSans-6c\"/>\n      <use x=\"271.919922\" xlink:href=\"#DejaVuSans-61\"/>\n      <use x=\"333.199219\" xlink:href=\"#DejaVuSans-62\"/>\n      <use x=\"396.675781\" xlink:href=\"#DejaVuSans-65\"/>\n      <use x=\"458.199219\" xlink:href=\"#DejaVuSans-6c\"/>\n     </g>\n    </g>\n   </g>\n   <g id=\"patch_3\">\n    <path d=\"M 34.240625 224.64 \nL 34.240625 7.2 \n\" style=\"fill:none;stroke:#000000;stroke-linecap:square;stroke-linejoin:miter;stroke-width:0.8;\"/>\n   </g>\n   <g id=\"patch_4\">\n    <path d=\"M 251.680625 224.64 \nL 251.680625 7.2 \n\" style=\"fill:none;stroke:#000000;stroke-linecap:square;stroke-linejoin:miter;stroke-width:0.8;\"/>\n   </g>\n   <g id=\"patch_5\">\n    <path d=\"M 34.240625 224.64 \nL 251.680625 224.64 \n\" style=\"fill:none;stroke:#000000;stroke-linecap:square;stroke-linejoin:miter;stroke-width:0.8;\"/>\n   </g>\n   <g id=\"patch_6\">\n    <path d=\"M 34.240625 7.2 \nL 251.680625 7.2 \n\" style=\"fill:none;stroke:#000000;stroke-linecap:square;stroke-linejoin:miter;stroke-width:0.8;\"/>\n   </g>\n   <g id=\"text_17\">\n    <!-- 234 -->\n    <g style=\"fill:#440154;\" transform=\"translate(40.228304 25.490804)scale(0.1 -0.1)\">\n     <use xlink:href=\"#DejaVuSans-32\"/>\n     <use x=\"63.623047\" xlink:href=\"#DejaVuSans-33\"/>\n     <use x=\"127.246094\" xlink:href=\"#DejaVuSans-34\"/>\n    </g>\n   </g>\n   <g id=\"text_18\">\n    <!-- 0 -->\n    <g style=\"fill:#fde725;\" transform=\"translate(77.653661 25.490804)scale(0.1 -0.1)\">\n     <use xlink:href=\"#DejaVuSans-30\"/>\n    </g>\n   </g>\n   <g id=\"text_19\">\n    <!-- 3 -->\n    <g style=\"fill:#fde725;\" transform=\"translate(108.716518 25.490804)scale(0.1 -0.1)\">\n     <use xlink:href=\"#DejaVuSans-33\"/>\n    </g>\n   </g>\n   <g id=\"text_20\">\n    <!-- 14 -->\n    <g style=\"fill:#fde725;\" transform=\"translate(136.598125 25.490804)scale(0.1 -0.1)\">\n     <use xlink:href=\"#DejaVuSans-31\"/>\n     <use x=\"63.623047\" xlink:href=\"#DejaVuSans-34\"/>\n    </g>\n   </g>\n   <g id=\"text_21\">\n    <!-- 6 -->\n    <g style=\"fill:#fde725;\" transform=\"translate(170.842232 25.490804)scale(0.1 -0.1)\">\n     <use xlink:href=\"#DejaVuSans-36\"/>\n    </g>\n   </g>\n   <g id=\"text_22\">\n    <!-- 15 -->\n    <g style=\"fill:#fde725;\" transform=\"translate(198.723839 25.490804)scale(0.1 -0.1)\">\n     <use xlink:href=\"#DejaVuSans-31\"/>\n     <use x=\"63.623047\" xlink:href=\"#DejaVuSans-35\"/>\n    </g>\n   </g>\n   <g id=\"text_23\">\n    <!-- 24 -->\n    <g style=\"fill:#fde725;\" transform=\"translate(229.786696 25.490804)scale(0.1 -0.1)\">\n     <use xlink:href=\"#DejaVuSans-32\"/>\n     <use x=\"63.623047\" xlink:href=\"#DejaVuSans-34\"/>\n    </g>\n   </g>\n   <g id=\"text_24\">\n    <!-- 2 -->\n    <g style=\"fill:#fde725;\" transform=\"translate(46.590804 56.553661)scale(0.1 -0.1)\">\n     <use xlink:href=\"#DejaVuSans-32\"/>\n    </g>\n   </g>\n   <g id=\"text_25\">\n    <!-- 0 -->\n    <g style=\"fill:#fde725;\" transform=\"translate(77.653661 56.553661)scale(0.1 -0.1)\">\n     <use xlink:href=\"#DejaVuSans-30\"/>\n    </g>\n   </g>\n   <g id=\"text_26\">\n    <!-- 0 -->\n    <g style=\"fill:#fde725;\" transform=\"translate(108.716518 56.553661)scale(0.1 -0.1)\">\n     <use xlink:href=\"#DejaVuSans-30\"/>\n    </g>\n   </g>\n   <g id=\"text_27\">\n    <!-- 1 -->\n    <g style=\"fill:#fde725;\" transform=\"translate(139.779375 56.553661)scale(0.1 -0.1)\">\n     <use xlink:href=\"#DejaVuSans-31\"/>\n    </g>\n   </g>\n   <g id=\"text_28\">\n    <!-- 0 -->\n    <g style=\"fill:#fde725;\" transform=\"translate(170.842232 56.553661)scale(0.1 -0.1)\">\n     <use xlink:href=\"#DejaVuSans-30\"/>\n    </g>\n   </g>\n   <g id=\"text_29\">\n    <!-- 3 -->\n    <g style=\"fill:#fde725;\" transform=\"translate(201.905089 56.553661)scale(0.1 -0.1)\">\n     <use xlink:href=\"#DejaVuSans-33\"/>\n    </g>\n   </g>\n   <g id=\"text_30\">\n    <!-- 0 -->\n    <g style=\"fill:#fde725;\" transform=\"translate(232.967946 56.553661)scale(0.1 -0.1)\">\n     <use xlink:href=\"#DejaVuSans-30\"/>\n    </g>\n   </g>\n   <g id=\"text_31\">\n    <!-- 1 -->\n    <g style=\"fill:#fde725;\" transform=\"translate(46.590804 87.616518)scale(0.1 -0.1)\">\n     <use xlink:href=\"#DejaVuSans-31\"/>\n    </g>\n   </g>\n   <g id=\"text_32\">\n    <!-- 0 -->\n    <g style=\"fill:#fde725;\" transform=\"translate(77.653661 87.616518)scale(0.1 -0.1)\">\n     <use xlink:href=\"#DejaVuSans-30\"/>\n    </g>\n   </g>\n   <g id=\"text_33\">\n    <!-- 1 -->\n    <g style=\"fill:#fde725;\" transform=\"translate(108.716518 87.616518)scale(0.1 -0.1)\">\n     <use xlink:href=\"#DejaVuSans-31\"/>\n    </g>\n   </g>\n   <g id=\"text_34\">\n    <!-- 1 -->\n    <g style=\"fill:#fde725;\" transform=\"translate(139.779375 87.616518)scale(0.1 -0.1)\">\n     <use xlink:href=\"#DejaVuSans-31\"/>\n    </g>\n   </g>\n   <g id=\"text_35\">\n    <!-- 1 -->\n    <g style=\"fill:#fde725;\" transform=\"translate(170.842232 87.616518)scale(0.1 -0.1)\">\n     <use xlink:href=\"#DejaVuSans-31\"/>\n    </g>\n   </g>\n   <g id=\"text_36\">\n    <!-- 0 -->\n    <g style=\"fill:#fde725;\" transform=\"translate(201.905089 87.616518)scale(0.1 -0.1)\">\n     <use xlink:href=\"#DejaVuSans-30\"/>\n    </g>\n   </g>\n   <g id=\"text_37\">\n    <!-- 0 -->\n    <g style=\"fill:#fde725;\" transform=\"translate(232.967946 87.616518)scale(0.1 -0.1)\">\n     <use xlink:href=\"#DejaVuSans-30\"/>\n    </g>\n   </g>\n   <g id=\"text_38\">\n    <!-- 7 -->\n    <g style=\"fill:#fde725;\" transform=\"translate(46.590804 118.679375)scale(0.1 -0.1)\">\n     <defs>\n      <path d=\"M 525 4666 \nL 3525 4666 \nL 3525 4397 \nL 1831 0 \nL 1172 0 \nL 2766 4134 \nL 525 4134 \nL 525 4666 \nz\n\" id=\"DejaVuSans-37\" transform=\"scale(0.015625)\"/>\n     </defs>\n     <use xlink:href=\"#DejaVuSans-37\"/>\n    </g>\n   </g>\n   <g id=\"text_39\">\n    <!-- 0 -->\n    <g style=\"fill:#fde725;\" transform=\"translate(77.653661 118.679375)scale(0.1 -0.1)\">\n     <use xlink:href=\"#DejaVuSans-30\"/>\n    </g>\n   </g>\n   <g id=\"text_40\">\n    <!-- 0 -->\n    <g style=\"fill:#fde725;\" transform=\"translate(108.716518 118.679375)scale(0.1 -0.1)\">\n     <use xlink:href=\"#DejaVuSans-30\"/>\n    </g>\n   </g>\n   <g id=\"text_41\">\n    <!-- 7 -->\n    <g style=\"fill:#fde725;\" transform=\"translate(139.779375 118.679375)scale(0.1 -0.1)\">\n     <use xlink:href=\"#DejaVuSans-37\"/>\n    </g>\n   </g>\n   <g id=\"text_42\">\n    <!-- 1 -->\n    <g style=\"fill:#fde725;\" transform=\"translate(170.842232 118.679375)scale(0.1 -0.1)\">\n     <use xlink:href=\"#DejaVuSans-31\"/>\n    </g>\n   </g>\n   <g id=\"text_43\">\n    <!-- 6 -->\n    <g style=\"fill:#fde725;\" transform=\"translate(201.905089 118.679375)scale(0.1 -0.1)\">\n     <use xlink:href=\"#DejaVuSans-36\"/>\n    </g>\n   </g>\n   <g id=\"text_44\">\n    <!-- 0 -->\n    <g style=\"fill:#fde725;\" transform=\"translate(232.967946 118.679375)scale(0.1 -0.1)\">\n     <use xlink:href=\"#DejaVuSans-30\"/>\n    </g>\n   </g>\n   <g id=\"text_45\">\n    <!-- 4 -->\n    <g style=\"fill:#fde725;\" transform=\"translate(46.590804 149.742232)scale(0.1 -0.1)\">\n     <use xlink:href=\"#DejaVuSans-34\"/>\n    </g>\n   </g>\n   <g id=\"text_46\">\n    <!-- 0 -->\n    <g style=\"fill:#fde725;\" transform=\"translate(77.653661 149.742232)scale(0.1 -0.1)\">\n     <use xlink:href=\"#DejaVuSans-30\"/>\n    </g>\n   </g>\n   <g id=\"text_47\">\n    <!-- 1 -->\n    <g style=\"fill:#fde725;\" transform=\"translate(108.716518 149.742232)scale(0.1 -0.1)\">\n     <use xlink:href=\"#DejaVuSans-31\"/>\n    </g>\n   </g>\n   <g id=\"text_48\">\n    <!-- 3 -->\n    <g style=\"fill:#fde725;\" transform=\"translate(139.779375 149.742232)scale(0.1 -0.1)\">\n     <use xlink:href=\"#DejaVuSans-33\"/>\n    </g>\n   </g>\n   <g id=\"text_49\">\n    <!-- 1 -->\n    <g style=\"fill:#fde725;\" transform=\"translate(170.842232 149.742232)scale(0.1 -0.1)\">\n     <use xlink:href=\"#DejaVuSans-31\"/>\n    </g>\n   </g>\n   <g id=\"text_50\">\n    <!-- 5 -->\n    <g style=\"fill:#fde725;\" transform=\"translate(201.905089 149.742232)scale(0.1 -0.1)\">\n     <use xlink:href=\"#DejaVuSans-35\"/>\n    </g>\n   </g>\n   <g id=\"text_51\">\n    <!-- 0 -->\n    <g style=\"fill:#fde725;\" transform=\"translate(232.967946 149.742232)scale(0.1 -0.1)\">\n     <use xlink:href=\"#DejaVuSans-30\"/>\n    </g>\n   </g>\n   <g id=\"text_52\">\n    <!-- 1 -->\n    <g style=\"fill:#fde725;\" transform=\"translate(46.590804 180.805089)scale(0.1 -0.1)\">\n     <use xlink:href=\"#DejaVuSans-31\"/>\n    </g>\n   </g>\n   <g id=\"text_53\">\n    <!-- 0 -->\n    <g style=\"fill:#fde725;\" transform=\"translate(77.653661 180.805089)scale(0.1 -0.1)\">\n     <use xlink:href=\"#DejaVuSans-30\"/>\n    </g>\n   </g>\n   <g id=\"text_54\">\n    <!-- 1 -->\n    <g style=\"fill:#fde725;\" transform=\"translate(108.716518 180.805089)scale(0.1 -0.1)\">\n     <use xlink:href=\"#DejaVuSans-31\"/>\n    </g>\n   </g>\n   <g id=\"text_55\">\n    <!-- 10 -->\n    <g style=\"fill:#fde725;\" transform=\"translate(136.598125 180.805089)scale(0.1 -0.1)\">\n     <use xlink:href=\"#DejaVuSans-31\"/>\n     <use x=\"63.623047\" xlink:href=\"#DejaVuSans-30\"/>\n    </g>\n   </g>\n   <g id=\"text_56\">\n    <!-- 2 -->\n    <g style=\"fill:#fde725;\" transform=\"translate(170.842232 180.805089)scale(0.1 -0.1)\">\n     <use xlink:href=\"#DejaVuSans-32\"/>\n    </g>\n   </g>\n   <g id=\"text_57\">\n    <!-- 47 -->\n    <g style=\"fill:#fde725;\" transform=\"translate(198.723839 180.805089)scale(0.1 -0.1)\">\n     <use xlink:href=\"#DejaVuSans-34\"/>\n     <use x=\"63.623047\" xlink:href=\"#DejaVuSans-37\"/>\n    </g>\n   </g>\n   <g id=\"text_58\">\n    <!-- 0 -->\n    <g style=\"fill:#fde725;\" transform=\"translate(232.967946 180.805089)scale(0.1 -0.1)\">\n     <use xlink:href=\"#DejaVuSans-30\"/>\n    </g>\n   </g>\n   <g id=\"text_59\">\n    <!-- 5 -->\n    <g style=\"fill:#fde725;\" transform=\"translate(46.590804 211.867946)scale(0.1 -0.1)\">\n     <use xlink:href=\"#DejaVuSans-35\"/>\n    </g>\n   </g>\n   <g id=\"text_60\">\n    <!-- 0 -->\n    <g style=\"fill:#fde725;\" transform=\"translate(77.653661 211.867946)scale(0.1 -0.1)\">\n     <use xlink:href=\"#DejaVuSans-30\"/>\n    </g>\n   </g>\n   <g id=\"text_61\">\n    <!-- 0 -->\n    <g style=\"fill:#fde725;\" transform=\"translate(108.716518 211.867946)scale(0.1 -0.1)\">\n     <use xlink:href=\"#DejaVuSans-30\"/>\n    </g>\n   </g>\n   <g id=\"text_62\">\n    <!-- 0 -->\n    <g style=\"fill:#fde725;\" transform=\"translate(139.779375 211.867946)scale(0.1 -0.1)\">\n     <use xlink:href=\"#DejaVuSans-30\"/>\n    </g>\n   </g>\n   <g id=\"text_63\">\n    <!-- 0 -->\n    <g style=\"fill:#fde725;\" transform=\"translate(170.842232 211.867946)scale(0.1 -0.1)\">\n     <use xlink:href=\"#DejaVuSans-30\"/>\n    </g>\n   </g>\n   <g id=\"text_64\">\n    <!-- 0 -->\n    <g style=\"fill:#fde725;\" transform=\"translate(201.905089 211.867946)scale(0.1 -0.1)\">\n     <use xlink:href=\"#DejaVuSans-30\"/>\n    </g>\n   </g>\n   <g id=\"text_65\">\n    <!-- 7 -->\n    <g style=\"fill:#fde725;\" transform=\"translate(232.967946 211.867946)scale(0.1 -0.1)\">\n     <use xlink:href=\"#DejaVuSans-37\"/>\n    </g>\n   </g>\n  </g>\n  <g id=\"axes_2\">\n   <g id=\"patch_7\">\n    <path d=\"M 268.420625 224.64 \nL 279.292625 224.64 \nL 279.292625 7.2 \nL 268.420625 7.2 \nz\n\" style=\"fill:#ffffff;\"/>\n   </g>\n   <g id=\"patch_8\">\n    <path clip-path=\"url(#p65cc1ca459)\" d=\"M 268.420625 224.64 \nL 268.420625 223.790625 \nL 268.420625 8.049375 \nL 268.420625 7.2 \nL 279.292625 7.2 \nL 279.292625 8.049375 \nL 279.292625 223.790625 \nL 279.292625 224.64 \nL 279.292625 224.64 \nz\n\" style=\"fill:#ffffff;stroke:#ffffff;stroke-linejoin:miter;stroke-width:0.01;\"/>\n   </g>\n   <image height=\"217\" id=\"imageeddd737427\" transform=\"scale(1 -1)translate(0 -217)\" width=\"11\" x=\"268\" xlink:href=\"data:image/png;base64,\niVBORw0KGgoAAAANSUhEUgAAAAsAAADZCAYAAAD2WsoCAAABUklEQVR4nN2awQ3CQAwEz/aFyqiB/gsBQguex0g+eK9W6/HmAiTxzNe9mp8dGV3t2iuyL/acF3GOKhKDZE6SmTnPGHAIDSQuL4ZVUZGzFuNmmdtak8aUzB7n0pz7Wjog4Xx7lxUZ0CsSckboYOuQMxGTDaIYJ9KAA2p9ZuiI85BzY8YGj+yGdxRoFR2ylCk0+lo184wT6f/XPSTzgc5DYsDy96/vM9GNoAFCyDTAgN4GEWdYfssZfLs0B/Q4h5bZdCbi/FrOM9Cltm5Ew4wBxEWOAsZ5jUBXrM9WkSANK8YmNLwBmbNHIzQanjPhvPPTF5e4botGTaHhDWg5X4FooBhAjDaInNmAMzbIOBN0V7xJDK+iqBsInUYDDUiWgtaNrhQ4oHWHZRvUYjxYRdtamrlvvDZ4zrx2gd9L+yLPgJI4oxjMmWTeC7yuU+SdkwR/Uv0A7xuAaGKmOKMAAAAASUVORK5CYII=\" y=\"-7\"/>\n   <g id=\"matplotlib.axis_3\"/>\n   <g id=\"matplotlib.axis_4\">\n    <g id=\"ytick_8\">\n     <g id=\"line2d_15\">\n      <defs>\n       <path d=\"M 0 0 \nL 3.5 0 \n\" id=\"m0e53b8a231\" style=\"stroke:#000000;stroke-width:0.8;\"/>\n      </defs>\n      <g>\n       <use style=\"stroke:#000000;stroke-width:0.8;\" x=\"279.292625\" xlink:href=\"#m0e53b8a231\" y=\"224.64\"/>\n      </g>\n     </g>\n     <g id=\"text_66\">\n      <!-- 0 -->\n      <g transform=\"translate(286.292625 228.439219)scale(0.1 -0.1)\">\n       <use xlink:href=\"#DejaVuSans-30\"/>\n      </g>\n     </g>\n    </g>\n    <g id=\"ytick_9\">\n     <g id=\"line2d_16\">\n      <g>\n       <use style=\"stroke:#000000;stroke-width:0.8;\" x=\"279.292625\" xlink:href=\"#m0e53b8a231\" y=\"178.178462\"/>\n      </g>\n     </g>\n     <g id=\"text_67\">\n      <!-- 50 -->\n      <g transform=\"translate(286.292625 181.97768)scale(0.1 -0.1)\">\n       <use xlink:href=\"#DejaVuSans-35\"/>\n       <use x=\"63.623047\" xlink:href=\"#DejaVuSans-30\"/>\n      </g>\n     </g>\n    </g>\n    <g id=\"ytick_10\">\n     <g id=\"line2d_17\">\n      <g>\n       <use style=\"stroke:#000000;stroke-width:0.8;\" x=\"279.292625\" xlink:href=\"#m0e53b8a231\" y=\"131.716923\"/>\n      </g>\n     </g>\n     <g id=\"text_68\">\n      <!-- 100 -->\n      <g transform=\"translate(286.292625 135.516142)scale(0.1 -0.1)\">\n       <use xlink:href=\"#DejaVuSans-31\"/>\n       <use x=\"63.623047\" xlink:href=\"#DejaVuSans-30\"/>\n       <use x=\"127.246094\" xlink:href=\"#DejaVuSans-30\"/>\n      </g>\n     </g>\n    </g>\n    <g id=\"ytick_11\">\n     <g id=\"line2d_18\">\n      <g>\n       <use style=\"stroke:#000000;stroke-width:0.8;\" x=\"279.292625\" xlink:href=\"#m0e53b8a231\" y=\"85.255385\"/>\n      </g>\n     </g>\n     <g id=\"text_69\">\n      <!-- 150 -->\n      <g transform=\"translate(286.292625 89.054603)scale(0.1 -0.1)\">\n       <use xlink:href=\"#DejaVuSans-31\"/>\n       <use x=\"63.623047\" xlink:href=\"#DejaVuSans-35\"/>\n       <use x=\"127.246094\" xlink:href=\"#DejaVuSans-30\"/>\n      </g>\n     </g>\n    </g>\n    <g id=\"ytick_12\">\n     <g id=\"line2d_19\">\n      <g>\n       <use style=\"stroke:#000000;stroke-width:0.8;\" x=\"279.292625\" xlink:href=\"#m0e53b8a231\" y=\"38.793846\"/>\n      </g>\n     </g>\n     <g id=\"text_70\">\n      <!-- 200 -->\n      <g transform=\"translate(286.292625 42.593065)scale(0.1 -0.1)\">\n       <use xlink:href=\"#DejaVuSans-32\"/>\n       <use x=\"63.623047\" xlink:href=\"#DejaVuSans-30\"/>\n       <use x=\"127.246094\" xlink:href=\"#DejaVuSans-30\"/>\n      </g>\n     </g>\n    </g>\n   </g>\n   <g id=\"LineCollection_1\"/>\n   <g id=\"patch_9\">\n    <path d=\"M 268.420625 224.64 \nL 268.420625 223.790625 \nL 268.420625 8.049375 \nL 268.420625 7.2 \nL 279.292625 7.2 \nL 279.292625 8.049375 \nL 279.292625 223.790625 \nL 279.292625 224.64 \nz\n\" style=\"fill:none;stroke:#000000;stroke-linecap:square;stroke-linejoin:miter;stroke-width:0.8;\"/>\n   </g>\n  </g>\n </g>\n <defs>\n  <clipPath id=\"p91ccdcc496\">\n   <rect height=\"217.44\" width=\"217.44\" x=\"34.240625\" y=\"7.2\"/>\n  </clipPath>\n  <clipPath id=\"p65cc1ca459\">\n   <rect height=\"217.44\" width=\"10.872\" x=\"268.420625\" y=\"7.2\"/>\n  </clipPath>\n </defs>\n</svg>\n",
      "image/png": "[encoded data removed]"
     },
     "metadata": {
      "needs_background": "light"
     }
    }
   ],
   "source": [
    "param_dict = {\n",
    "    \"criterion\": ['gini', 'entropy'],\n",
    "    \"max_depth\": range(1,10),\n",
    "    \"min_samples_split\": range(1,10),\n",
    "    \"min_samples_leaf\": range(1,5)\n",
    "}\n",
    "\n",
    "grid = GridSearchCV(DecisionTreeClassifier(class_weight = class_weight, random_state=44), param_grid=param_dict,\n",
    "cv = 10, verbose = 1, n_jobs = -1, refit= True)\n",
    "\n",
    "grid.fit(X_train, y_train)\n",
    "\n",
    "y_preds_grid = grid.predict(X_test)\n",
    "\n",
    "print(\"Best Grid Params:\", grid.best_params_)\n",
    "\n",
    "print(confusion_matrix(y_test, y_preds_grid))\n",
    "\n",
    "plot_confusion_matrix(grid, X_test, y_test)"
   ]
  },
  {
   "source": [
    "### Measure Score AUC "
   ],
   "cell_type": "markdown",
   "metadata": {}
  },
  {
   "cell_type": "code",
   "execution_count": 128,
   "metadata": {},
   "outputs": [
    {
     "output_type": "stream",
     "name": "stdout",
     "text": [
      "              precision    recall  f1-score   support\n",
      "\n",
      "           0       0.92      0.79      0.85       296\n",
      "           1       0.00      0.00      0.00         6\n",
      "           2       0.17      0.25      0.20         4\n",
      "           3       0.19      0.33      0.25        21\n",
      "           4       0.09      0.07      0.08        14\n",
      "           5       0.62      0.77      0.69        61\n",
      "           6       0.23      0.58      0.33        12\n",
      "\n",
      "    accuracy                           0.72       414\n",
      "   macro avg       0.32      0.40      0.34       414\n",
      "weighted avg       0.77      0.72      0.74       414\n",
      "\n",
      "/home/vbgupta/Desktop/School/ds310/school_env/lib/python3.8/site-packages/sklearn/metrics/_classification.py:1245: UndefinedMetricWarning: Precision and F-score are ill-defined and being set to 0.0 in labels with no predicted samples. Use `zero_division` parameter to control this behavior.\n",
      "  _warn_prf(average, modifier, msg_start, len(result))\n",
      "/home/vbgupta/Desktop/School/ds310/school_env/lib/python3.8/site-packages/sklearn/metrics/_classification.py:1245: UndefinedMetricWarning: Precision and F-score are ill-defined and being set to 0.0 in labels with no predicted samples. Use `zero_division` parameter to control this behavior.\n",
      "  _warn_prf(average, modifier, msg_start, len(result))\n",
      "/home/vbgupta/Desktop/School/ds310/school_env/lib/python3.8/site-packages/sklearn/metrics/_classification.py:1245: UndefinedMetricWarning: Precision and F-score are ill-defined and being set to 0.0 in labels with no predicted samples. Use `zero_division` parameter to control this behavior.\n",
      "  _warn_prf(average, modifier, msg_start, len(result))\n"
     ]
    }
   ],
   "source": [
    "# Classification Report\n",
    "print(classification_report(y_test, y_preds_grid))"
   ]
  },
  {
   "cell_type": "code",
   "execution_count": 129,
   "metadata": {},
   "outputs": [],
   "source": [
    "# AUC Score\n",
    "\n",
    "def multiclass_roc_auc_score(y_test, y_preds_grid, average=\"macro\"):\n",
    "\n",
    "    lb = LabelBinarizer()\n",
    "    lb.fit(y_test)\n",
    "    y_test = lb.transform(y_test)\n",
    "    y_preds_grid = lb.transform(y_preds_grid)\n",
    "    return roc_auc_score(y_test, y_preds_grid, average=average)"
   ]
  },
  {
   "cell_type": "code",
   "execution_count": 130,
   "metadata": {},
   "outputs": [
    {
     "output_type": "execute_result",
     "data": {
      "text/plain": [
       "0.6697710799212462"
      ]
     },
     "metadata": {},
     "execution_count": 130
    }
   ],
   "source": [
    "np.random.seed(44)\n",
    "multiclass_roc_auc_score(y_test, y_preds_grid, average= \"macro\")"
   ]
  },
  {
   "cell_type": "code",
   "execution_count": null,
   "metadata": {},
   "outputs": [],
   "source": []
  }
 ]
}